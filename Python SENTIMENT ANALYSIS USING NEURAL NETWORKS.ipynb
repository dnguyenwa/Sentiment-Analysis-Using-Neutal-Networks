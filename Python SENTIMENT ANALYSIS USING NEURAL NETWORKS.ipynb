{
 "cells": [
  {
   "cell_type": "markdown",
   "id": "b9aaf8b7",
   "metadata": {},
   "source": [
    "Dung Nguyen\n",
    "\n",
    "Advanced Data Analytics - D213 \n",
    "\n",
    "TASK 2: SENTIMENT ANALYSIS USING NEURAL NETWORKS"
   ]
  },
  {
   "cell_type": "markdown",
   "id": "9bf81e61",
   "metadata": {},
   "source": [
    "**Introduction:**\n",
    "\n",
    "In your previous coursework, you have explored a variety of supervised and unsupervised data mining models. You have seen the power of using data analytical techniques to help organizations make data-driven decisions and now want to extend these models into areas of machine learning and artificial intelligence. In this course, you will explore the use of neural networks and natural language processing (NLP).\n",
    "\n",
    "In this task, you will choose a data file from the Web Links section. The available data sets are as follows:\n",
    "\n",
    "•  Amazon Product Data set\n",
    "\n",
    "•  UCSD Recommender Systems Data sets\n",
    "\n",
    "•  UCI Sentiment Labeled Sentences Data set\n",
    "\n",
    "For this task, you will build a neural network designed to learn word usage and context using NLP techniques. You will provide visualizations and a report, as well as build your network in an interactive development environment."
   ]
  },
  {
   "cell_type": "markdown",
   "id": "057f2e81",
   "metadata": {},
   "source": [
    "# Part 1: Research Question"
   ]
  },
  {
   "cell_type": "markdown",
   "id": "5388763e",
   "metadata": {},
   "source": [
    "**A1. Research Question:**\n",
    "\n",
    "Can we use neural networks and specifically Natural Language Processing (NLP) to predict the view of future customer reviews by the past sentiment labeled datasets?"
   ]
  },
  {
   "cell_type": "markdown",
   "id": "1712577b",
   "metadata": {},
   "source": [
    "**A2. The goal of the data analysis:**\n",
    "\n",
    "In this assignment, we will use the Python TensorFlow package to build the model to predict the sentiment of future customer reviews by the past given labeled datasets. The data analysis goals included analyzing and understanding the customers by identifying the customer's preferred product from positive product reviews."
   ]
  },
  {
   "cell_type": "markdown",
   "id": "6ee4ccae",
   "metadata": {},
   "source": [
    "**A3. Type of neural network:**\n",
    "\n",
    "\"Sentiment analysis focuses on the polarity of a text (positive, negative, neutral), but it also goes beyond polarity to detect specific feelings and emotions (angry, happy, sad, etc.), urgency (urgent, not urgent), and even intentions (interested v. not interested).\" (MonkeyLearn, n.d)\n",
    "\n",
    "I will use the Python TensorFlow and Keras libraries for this Natural Language Processing (NLP) model because the sentiment analysis with an NLP model will be the best tool for interpreting the emotions behind text data. The data analysis goals are to build the model to predict the sentiment of future customer reviews by the past given labeled datasets. In addition, the business can understand the customers by identifying the customer's preferred product from positive product reviews. "
   ]
  },
  {
   "cell_type": "markdown",
   "id": "886a3264",
   "metadata": {},
   "source": [
    "# Part 2: Data Preparation"
   ]
  },
  {
   "cell_type": "markdown",
   "id": "d353a132",
   "metadata": {},
   "source": [
    "**B1. Data Exploration**\n",
    "\n",
    "I will use three labeled datasets from Amazon, IMDB, and Yelp and combine them into one data frame for the analysis process. They are:\n",
    "* Amazon Product Data set\n",
    "* UCSD Recommender Systems Data sets\n",
    "* UCI Sentiment Labeled Sentences Data set"
   ]
  },
  {
   "cell_type": "code",
   "execution_count": 1,
   "id": "c20301d2",
   "metadata": {},
   "outputs": [
    {
     "name": "stdout",
     "output_type": "stream",
     "text": [
      "Requirement already satisfied: pandas in c:\\users\\chris mcgee\\anaconda3\\lib\\site-packages (1.2.4)\n",
      "Requirement already satisfied: python-dateutil>=2.7.3 in c:\\users\\chris mcgee\\anaconda3\\lib\\site-packages (from pandas) (2.8.1)\n",
      "Requirement already satisfied: numpy>=1.16.5 in c:\\users\\chris mcgee\\anaconda3\\lib\\site-packages (from pandas) (1.20.1)\n",
      "Requirement already satisfied: pytz>=2017.3 in c:\\users\\chris mcgee\\anaconda3\\lib\\site-packages (from pandas) (2021.1)\n",
      "Requirement already satisfied: six>=1.5 in c:\\users\\chris mcgee\\anaconda3\\lib\\site-packages (from python-dateutil>=2.7.3->pandas) (1.15.0)\n",
      "Requirement already satisfied: numpy in c:\\users\\chris mcgee\\anaconda3\\lib\\site-packages (1.20.1)\n",
      "Requirement already satisfied: seaborn in c:\\users\\chris mcgee\\anaconda3\\lib\\site-packages (0.11.1)\n",
      "Requirement already satisfied: numpy>=1.15 in c:\\users\\chris mcgee\\anaconda3\\lib\\site-packages (from seaborn) (1.20.1)\n",
      "Requirement already satisfied: pandas>=0.23 in c:\\users\\chris mcgee\\anaconda3\\lib\\site-packages (from seaborn) (1.2.4)\n",
      "Requirement already satisfied: scipy>=1.0 in c:\\users\\chris mcgee\\anaconda3\\lib\\site-packages (from seaborn) (1.6.2)\n",
      "Requirement already satisfied: matplotlib>=2.2 in c:\\users\\chris mcgee\\anaconda3\\lib\\site-packages (from seaborn) (3.3.4)\n",
      "Requirement already satisfied: cycler>=0.10 in c:\\users\\chris mcgee\\anaconda3\\lib\\site-packages (from matplotlib>=2.2->seaborn) (0.10.0)\n",
      "Requirement already satisfied: pyparsing!=2.0.4,!=2.1.2,!=2.1.6,>=2.0.3 in c:\\users\\chris mcgee\\anaconda3\\lib\\site-packages (from matplotlib>=2.2->seaborn) (2.4.7)\n",
      "Requirement already satisfied: python-dateutil>=2.1 in c:\\users\\chris mcgee\\anaconda3\\lib\\site-packages (from matplotlib>=2.2->seaborn) (2.8.1)\n",
      "Requirement already satisfied: kiwisolver>=1.0.1 in c:\\users\\chris mcgee\\anaconda3\\lib\\site-packages (from matplotlib>=2.2->seaborn) (1.3.1)\n",
      "Requirement already satisfied: pillow>=6.2.0 in c:\\users\\chris mcgee\\anaconda3\\lib\\site-packages (from matplotlib>=2.2->seaborn) (8.2.0)\n",
      "Requirement already satisfied: six in c:\\users\\chris mcgee\\anaconda3\\lib\\site-packages (from cycler>=0.10->matplotlib>=2.2->seaborn) (1.15.0)\n",
      "Requirement already satisfied: pytz>=2017.3 in c:\\users\\chris mcgee\\anaconda3\\lib\\site-packages (from pandas>=0.23->seaborn) (2021.1)\n",
      "Requirement already satisfied: pmdarima in c:\\users\\chris mcgee\\anaconda3\\lib\\site-packages (1.8.4)\n",
      "Requirement already satisfied: scipy>=1.3.2 in c:\\users\\chris mcgee\\anaconda3\\lib\\site-packages (from pmdarima) (1.6.2)\n",
      "Requirement already satisfied: joblib>=0.11 in c:\\users\\chris mcgee\\anaconda3\\lib\\site-packages (from pmdarima) (1.0.1)\n",
      "Requirement already satisfied: urllib3 in c:\\users\\chris mcgee\\anaconda3\\lib\\site-packages (from pmdarima) (1.26.4)\n",
      "Requirement already satisfied: numpy>=1.19.3 in c:\\users\\chris mcgee\\anaconda3\\lib\\site-packages (from pmdarima) (1.20.1)\n",
      "Requirement already satisfied: pandas>=0.19 in c:\\users\\chris mcgee\\anaconda3\\lib\\site-packages (from pmdarima) (1.2.4)\n",
      "Requirement already satisfied: statsmodels!=0.12.0,>=0.11 in c:\\users\\chris mcgee\\anaconda3\\lib\\site-packages (from pmdarima) (0.12.2)\n",
      "Requirement already satisfied: scikit-learn>=0.22 in c:\\users\\chris mcgee\\anaconda3\\lib\\site-packages (from pmdarima) (0.24.1)\n",
      "Requirement already satisfied: Cython!=0.29.18,>=0.29 in c:\\users\\chris mcgee\\anaconda3\\lib\\site-packages (from pmdarima) (0.29.23)\n",
      "Requirement already satisfied: setuptools!=50.0.0,>=38.6.0 in c:\\users\\chris mcgee\\anaconda3\\lib\\site-packages (from pmdarima) (52.0.0.post20210125)\n",
      "Requirement already satisfied: pytz>=2017.3 in c:\\users\\chris mcgee\\anaconda3\\lib\\site-packages (from pandas>=0.19->pmdarima) (2021.1)\n",
      "Requirement already satisfied: python-dateutil>=2.7.3 in c:\\users\\chris mcgee\\anaconda3\\lib\\site-packages (from pandas>=0.19->pmdarima) (2.8.1)\n",
      "Requirement already satisfied: six>=1.5 in c:\\users\\chris mcgee\\anaconda3\\lib\\site-packages (from python-dateutil>=2.7.3->pandas>=0.19->pmdarima) (1.15.0)\n",
      "Requirement already satisfied: threadpoolctl>=2.0.0 in c:\\users\\chris mcgee\\anaconda3\\lib\\site-packages (from scikit-learn>=0.22->pmdarima) (2.1.0)\n",
      "Requirement already satisfied: patsy>=0.5 in c:\\users\\chris mcgee\\anaconda3\\lib\\site-packages (from statsmodels!=0.12.0,>=0.11->pmdarima) (0.5.1)\n",
      "Requirement already satisfied: tensorflow in c:\\users\\chris mcgee\\anaconda3\\lib\\site-packages (2.7.0)\n",
      "Requirement already satisfied: tensorflow-io-gcs-filesystem>=0.21.0 in c:\\users\\chris mcgee\\anaconda3\\lib\\site-packages (from tensorflow) (0.23.1)\n",
      "Requirement already satisfied: grpcio<2.0,>=1.24.3 in c:\\users\\chris mcgee\\anaconda3\\lib\\site-packages (from tensorflow) (1.43.0)\n",
      "Requirement already satisfied: keras-preprocessing>=1.1.1 in c:\\users\\chris mcgee\\anaconda3\\lib\\site-packages (from tensorflow) (1.1.2)\n",
      "Requirement already satisfied: google-pasta>=0.1.1 in c:\\users\\chris mcgee\\anaconda3\\lib\\site-packages (from tensorflow) (0.2.0)\n",
      "Requirement already satisfied: opt-einsum>=2.3.2 in c:\\users\\chris mcgee\\anaconda3\\lib\\site-packages (from tensorflow) (3.3.0)\n",
      "Requirement already satisfied: tensorflow-estimator<2.8,~=2.7.0rc0 in c:\\users\\chris mcgee\\anaconda3\\lib\\site-packages (from tensorflow) (2.7.0)\n",
      "Requirement already satisfied: libclang>=9.0.1 in c:\\users\\chris mcgee\\anaconda3\\lib\\site-packages (from tensorflow) (12.0.0)\n",
      "Requirement already satisfied: tensorboard~=2.6 in c:\\users\\chris mcgee\\anaconda3\\lib\\site-packages (from tensorflow) (2.7.0)\n",
      "Requirement already satisfied: astunparse>=1.6.0 in c:\\users\\chris mcgee\\anaconda3\\lib\\site-packages (from tensorflow) (1.6.3)\n",
      "Requirement already satisfied: gast<0.5.0,>=0.2.1 in c:\\users\\chris mcgee\\anaconda3\\lib\\site-packages (from tensorflow) (0.4.0)\n",
      "Requirement already satisfied: keras<2.8,>=2.7.0rc0 in c:\\users\\chris mcgee\\anaconda3\\lib\\site-packages (from tensorflow) (2.7.0)\n",
      "Requirement already satisfied: termcolor>=1.1.0 in c:\\users\\chris mcgee\\anaconda3\\lib\\site-packages (from tensorflow) (1.1.0)\n",
      "Requirement already satisfied: typing-extensions>=3.6.6 in c:\\users\\chris mcgee\\anaconda3\\lib\\site-packages (from tensorflow) (3.7.4.3)\n",
      "Requirement already satisfied: h5py>=2.9.0 in c:\\users\\chris mcgee\\anaconda3\\lib\\site-packages (from tensorflow) (2.10.0)\n",
      "Requirement already satisfied: numpy>=1.14.5 in c:\\users\\chris mcgee\\anaconda3\\lib\\site-packages (from tensorflow) (1.20.1)\n",
      "Requirement already satisfied: protobuf>=3.9.2 in c:\\users\\chris mcgee\\anaconda3\\lib\\site-packages (from tensorflow) (3.19.3)\n",
      "Requirement already satisfied: absl-py>=0.4.0 in c:\\users\\chris mcgee\\anaconda3\\lib\\site-packages (from tensorflow) (1.0.0)\n",
      "Requirement already satisfied: six>=1.12.0 in c:\\users\\chris mcgee\\anaconda3\\lib\\site-packages (from tensorflow) (1.15.0)\n",
      "Requirement already satisfied: wheel<1.0,>=0.32.0 in c:\\users\\chris mcgee\\anaconda3\\lib\\site-packages (from tensorflow) (0.36.2)\n",
      "Requirement already satisfied: wrapt>=1.11.0 in c:\\users\\chris mcgee\\anaconda3\\lib\\site-packages (from tensorflow) (1.12.1)\n",
      "Requirement already satisfied: flatbuffers<3.0,>=1.12 in c:\\users\\chris mcgee\\anaconda3\\lib\\site-packages (from tensorflow) (2.0)\n",
      "Requirement already satisfied: google-auth<3,>=1.6.3 in c:\\users\\chris mcgee\\anaconda3\\lib\\site-packages (from tensorboard~=2.6->tensorflow) (2.3.3)\n",
      "Requirement already satisfied: markdown>=2.6.8 in c:\\users\\chris mcgee\\anaconda3\\lib\\site-packages (from tensorboard~=2.6->tensorflow) (3.3.6)\n",
      "Requirement already satisfied: requests<3,>=2.21.0 in c:\\users\\chris mcgee\\anaconda3\\lib\\site-packages (from tensorboard~=2.6->tensorflow) (2.25.1)\n",
      "Requirement already satisfied: werkzeug>=0.11.15 in c:\\users\\chris mcgee\\anaconda3\\lib\\site-packages (from tensorboard~=2.6->tensorflow) (1.0.1)\n",
      "Requirement already satisfied: tensorboard-plugin-wit>=1.6.0 in c:\\users\\chris mcgee\\anaconda3\\lib\\site-packages (from tensorboard~=2.6->tensorflow) (1.8.1)\n",
      "Requirement already satisfied: setuptools>=41.0.0 in c:\\users\\chris mcgee\\anaconda3\\lib\\site-packages (from tensorboard~=2.6->tensorflow) (52.0.0.post20210125)\n",
      "Requirement already satisfied: google-auth-oauthlib<0.5,>=0.4.1 in c:\\users\\chris mcgee\\anaconda3\\lib\\site-packages (from tensorboard~=2.6->tensorflow) (0.4.6)\n",
      "Requirement already satisfied: tensorboard-data-server<0.7.0,>=0.6.0 in c:\\users\\chris mcgee\\anaconda3\\lib\\site-packages (from tensorboard~=2.6->tensorflow) (0.6.1)\n",
      "Requirement already satisfied: cachetools<5.0,>=2.0.0 in c:\\users\\chris mcgee\\anaconda3\\lib\\site-packages (from google-auth<3,>=1.6.3->tensorboard~=2.6->tensorflow) (4.2.4)\n",
      "Requirement already satisfied: pyasn1-modules>=0.2.1 in c:\\users\\chris mcgee\\anaconda3\\lib\\site-packages (from google-auth<3,>=1.6.3->tensorboard~=2.6->tensorflow) (0.2.8)\n",
      "Requirement already satisfied: rsa<5,>=3.1.4 in c:\\users\\chris mcgee\\anaconda3\\lib\\site-packages (from google-auth<3,>=1.6.3->tensorboard~=2.6->tensorflow) (4.8)\n",
      "Requirement already satisfied: requests-oauthlib>=0.7.0 in c:\\users\\chris mcgee\\anaconda3\\lib\\site-packages (from google-auth-oauthlib<0.5,>=0.4.1->tensorboard~=2.6->tensorflow) (1.3.0)\n",
      "Requirement already satisfied: importlib-metadata>=4.4 in c:\\users\\chris mcgee\\anaconda3\\lib\\site-packages (from markdown>=2.6.8->tensorboard~=2.6->tensorflow) (4.10.1)\n",
      "Requirement already satisfied: zipp>=0.5 in c:\\users\\chris mcgee\\anaconda3\\lib\\site-packages (from importlib-metadata>=4.4->markdown>=2.6.8->tensorboard~=2.6->tensorflow) (3.4.1)\n",
      "Requirement already satisfied: pyasn1<0.5.0,>=0.4.6 in c:\\users\\chris mcgee\\anaconda3\\lib\\site-packages (from pyasn1-modules>=0.2.1->google-auth<3,>=1.6.3->tensorboard~=2.6->tensorflow) (0.4.8)\n",
      "Requirement already satisfied: urllib3<1.27,>=1.21.1 in c:\\users\\chris mcgee\\anaconda3\\lib\\site-packages (from requests<3,>=2.21.0->tensorboard~=2.6->tensorflow) (1.26.4)\n",
      "Requirement already satisfied: idna<3,>=2.5 in c:\\users\\chris mcgee\\anaconda3\\lib\\site-packages (from requests<3,>=2.21.0->tensorboard~=2.6->tensorflow) (2.10)\n",
      "Requirement already satisfied: chardet<5,>=3.0.2 in c:\\users\\chris mcgee\\anaconda3\\lib\\site-packages (from requests<3,>=2.21.0->tensorboard~=2.6->tensorflow) (4.0.0)\n",
      "Requirement already satisfied: certifi>=2017.4.17 in c:\\users\\chris mcgee\\anaconda3\\lib\\site-packages (from requests<3,>=2.21.0->tensorboard~=2.6->tensorflow) (2020.12.5)\n",
      "Requirement already satisfied: oauthlib>=3.0.0 in c:\\users\\chris mcgee\\anaconda3\\lib\\site-packages (from requests-oauthlib>=0.7.0->google-auth-oauthlib<0.5,>=0.4.1->tensorboard~=2.6->tensorflow) (3.1.1)\n"
     ]
    },
    {
     "name": "stdout",
     "output_type": "stream",
     "text": [
      "Requirement already satisfied: RISE in c:\\users\\chris mcgee\\anaconda3\\lib\\site-packages (5.7.1)\n",
      "Requirement already satisfied: notebook>=6.0 in c:\\users\\chris mcgee\\anaconda3\\lib\\site-packages (from RISE) (6.3.0)\n",
      "Requirement already satisfied: jupyter-client>=5.3.4 in c:\\users\\chris mcgee\\anaconda3\\lib\\site-packages (from notebook>=6.0->RISE) (6.1.12)\n",
      "Requirement already satisfied: jinja2 in c:\\users\\chris mcgee\\anaconda3\\lib\\site-packages (from notebook>=6.0->RISE) (2.11.3)\n",
      "Requirement already satisfied: argon2-cffi in c:\\users\\chris mcgee\\anaconda3\\lib\\site-packages (from notebook>=6.0->RISE) (20.1.0)\n",
      "Requirement already satisfied: traitlets>=4.2.1 in c:\\users\\chris mcgee\\anaconda3\\lib\\site-packages (from notebook>=6.0->RISE) (5.0.5)\n",
      "Requirement already satisfied: pyzmq>=17 in c:\\users\\chris mcgee\\anaconda3\\lib\\site-packages (from notebook>=6.0->RISE) (20.0.0)\n",
      "Requirement already satisfied: Send2Trash>=1.5.0 in c:\\users\\chris mcgee\\anaconda3\\lib\\site-packages (from notebook>=6.0->RISE) (1.5.0)\n",
      "Requirement already satisfied: terminado>=0.8.3 in c:\\users\\chris mcgee\\anaconda3\\lib\\site-packages (from notebook>=6.0->RISE) (0.9.4)\n",
      "Requirement already satisfied: nbformat in c:\\users\\chris mcgee\\anaconda3\\lib\\site-packages (from notebook>=6.0->RISE) (5.1.3)\n",
      "Requirement already satisfied: ipykernel in c:\\users\\chris mcgee\\anaconda3\\lib\\site-packages (from notebook>=6.0->RISE) (5.3.4)\n",
      "Requirement already satisfied: nbconvert in c:\\users\\chris mcgee\\anaconda3\\lib\\site-packages (from notebook>=6.0->RISE) (6.0.7)\n",
      "Requirement already satisfied: prometheus-client in c:\\users\\chris mcgee\\anaconda3\\lib\\site-packages (from notebook>=6.0->RISE) (0.10.1)\n",
      "Requirement already satisfied: tornado>=6.1 in c:\\users\\chris mcgee\\anaconda3\\lib\\site-packages (from notebook>=6.0->RISE) (6.1)\n",
      "Requirement already satisfied: ipython-genutils in c:\\users\\chris mcgee\\anaconda3\\lib\\site-packages (from notebook>=6.0->RISE) (0.2.0)\n",
      "Requirement already satisfied: jupyter-core>=4.6.1 in c:\\users\\chris mcgee\\anaconda3\\lib\\site-packages (from notebook>=6.0->RISE) (4.7.1)\n",
      "Requirement already satisfied: python-dateutil>=2.1 in c:\\users\\chris mcgee\\anaconda3\\lib\\site-packages (from jupyter-client>=5.3.4->notebook>=6.0->RISE) (2.8.1)\n",
      "Requirement already satisfied: pywin32>=1.0 in c:\\users\\chris mcgee\\anaconda3\\lib\\site-packages (from jupyter-core>=4.6.1->notebook>=6.0->RISE) (227)\n",
      "Requirement already satisfied: six>=1.5 in c:\\users\\chris mcgee\\anaconda3\\lib\\site-packages (from python-dateutil>=2.1->jupyter-client>=5.3.4->notebook>=6.0->RISE) (1.15.0)\n",
      "Requirement already satisfied: pywinpty>=0.5 in c:\\users\\chris mcgee\\anaconda3\\lib\\site-packages (from terminado>=0.8.3->notebook>=6.0->RISE) (0.5.7)\n",
      "Requirement already satisfied: cffi>=1.0.0 in c:\\users\\chris mcgee\\anaconda3\\lib\\site-packages (from argon2-cffi->notebook>=6.0->RISE) (1.14.5)\n",
      "Requirement already satisfied: pycparser in c:\\users\\chris mcgee\\anaconda3\\lib\\site-packages (from cffi>=1.0.0->argon2-cffi->notebook>=6.0->RISE) (2.20)\n",
      "Requirement already satisfied: ipython>=5.0.0 in c:\\users\\chris mcgee\\anaconda3\\lib\\site-packages (from ipykernel->notebook>=6.0->RISE) (7.22.0)\n",
      "Requirement already satisfied: jedi>=0.16 in c:\\users\\chris mcgee\\anaconda3\\lib\\site-packages (from ipython>=5.0.0->ipykernel->notebook>=6.0->RISE) (0.17.2)\n",
      "Requirement already satisfied: pickleshare in c:\\users\\chris mcgee\\anaconda3\\lib\\site-packages (from ipython>=5.0.0->ipykernel->notebook>=6.0->RISE) (0.7.5)\n",
      "Requirement already satisfied: setuptools>=18.5 in c:\\users\\chris mcgee\\anaconda3\\lib\\site-packages (from ipython>=5.0.0->ipykernel->notebook>=6.0->RISE) (52.0.0.post20210125)\n",
      "Requirement already satisfied: pygments in c:\\users\\chris mcgee\\anaconda3\\lib\\site-packages (from ipython>=5.0.0->ipykernel->notebook>=6.0->RISE) (2.8.1)\n",
      "Requirement already satisfied: decorator in c:\\users\\chris mcgee\\anaconda3\\lib\\site-packages (from ipython>=5.0.0->ipykernel->notebook>=6.0->RISE) (5.0.6)\n",
      "Requirement already satisfied: backcall in c:\\users\\chris mcgee\\anaconda3\\lib\\site-packages (from ipython>=5.0.0->ipykernel->notebook>=6.0->RISE) (0.2.0)\n",
      "Requirement already satisfied: colorama in c:\\users\\chris mcgee\\anaconda3\\lib\\site-packages (from ipython>=5.0.0->ipykernel->notebook>=6.0->RISE) (0.4.4)\n",
      "Requirement already satisfied: prompt-toolkit!=3.0.0,!=3.0.1,<3.1.0,>=2.0.0 in c:\\users\\chris mcgee\\anaconda3\\lib\\site-packages (from ipython>=5.0.0->ipykernel->notebook>=6.0->RISE) (3.0.17)\n",
      "Requirement already satisfied: parso<0.8.0,>=0.7.0 in c:\\users\\chris mcgee\\anaconda3\\lib\\site-packages (from jedi>=0.16->ipython>=5.0.0->ipykernel->notebook>=6.0->RISE) (0.7.0)\n",
      "Requirement already satisfied: wcwidth in c:\\users\\chris mcgee\\anaconda3\\lib\\site-packages (from prompt-toolkit!=3.0.0,!=3.0.1,<3.1.0,>=2.0.0->ipython>=5.0.0->ipykernel->notebook>=6.0->RISE) (0.2.5)\n",
      "Requirement already satisfied: MarkupSafe>=0.23 in c:\\users\\chris mcgee\\anaconda3\\lib\\site-packages (from jinja2->notebook>=6.0->RISE) (1.1.1)\n",
      "Requirement already satisfied: entrypoints>=0.2.2 in c:\\users\\chris mcgee\\anaconda3\\lib\\site-packages (from nbconvert->notebook>=6.0->RISE) (0.3)\n",
      "Requirement already satisfied: bleach in c:\\users\\chris mcgee\\anaconda3\\lib\\site-packages (from nbconvert->notebook>=6.0->RISE) (3.3.0)\n",
      "Requirement already satisfied: mistune<2,>=0.8.1 in c:\\users\\chris mcgee\\anaconda3\\lib\\site-packages (from nbconvert->notebook>=6.0->RISE) (0.8.4)\n",
      "Requirement already satisfied: defusedxml in c:\\users\\chris mcgee\\anaconda3\\lib\\site-packages (from nbconvert->notebook>=6.0->RISE) (0.7.1)\n",
      "Requirement already satisfied: jupyterlab-pygments in c:\\users\\chris mcgee\\anaconda3\\lib\\site-packages (from nbconvert->notebook>=6.0->RISE) (0.1.2)\n",
      "Requirement already satisfied: pandocfilters>=1.4.1 in c:\\users\\chris mcgee\\anaconda3\\lib\\site-packages (from nbconvert->notebook>=6.0->RISE) (1.4.3)\n",
      "Requirement already satisfied: testpath in c:\\users\\chris mcgee\\anaconda3\\lib\\site-packages (from nbconvert->notebook>=6.0->RISE) (0.4.4)\n",
      "Requirement already satisfied: nbclient<0.6.0,>=0.5.0 in c:\\users\\chris mcgee\\anaconda3\\lib\\site-packages (from nbconvert->notebook>=6.0->RISE) (0.5.3)\n",
      "Requirement already satisfied: async-generator in c:\\users\\chris mcgee\\anaconda3\\lib\\site-packages (from nbclient<0.6.0,>=0.5.0->nbconvert->notebook>=6.0->RISE) (1.10)\n",
      "Requirement already satisfied: nest-asyncio in c:\\users\\chris mcgee\\anaconda3\\lib\\site-packages (from nbclient<0.6.0,>=0.5.0->nbconvert->notebook>=6.0->RISE) (1.5.1)\n",
      "Requirement already satisfied: jsonschema!=2.5.0,>=2.4 in c:\\users\\chris mcgee\\anaconda3\\lib\\site-packages (from nbformat->notebook>=6.0->RISE) (3.2.0)\n",
      "Requirement already satisfied: pyrsistent>=0.14.0 in c:\\users\\chris mcgee\\anaconda3\\lib\\site-packages (from jsonschema!=2.5.0,>=2.4->nbformat->notebook>=6.0->RISE) (0.17.3)\n",
      "Requirement already satisfied: attrs>=17.4.0 in c:\\users\\chris mcgee\\anaconda3\\lib\\site-packages (from jsonschema!=2.5.0,>=2.4->nbformat->notebook>=6.0->RISE) (20.3.0)\n",
      "Requirement already satisfied: packaging in c:\\users\\chris mcgee\\anaconda3\\lib\\site-packages (from bleach->nbconvert->notebook>=6.0->RISE) (20.9)\n",
      "Requirement already satisfied: webencodings in c:\\users\\chris mcgee\\anaconda3\\lib\\site-packages (from bleach->nbconvert->notebook>=6.0->RISE) (0.5.1)\n",
      "Requirement already satisfied: pyparsing>=2.0.2 in c:\\users\\chris mcgee\\anaconda3\\lib\\site-packages (from packaging->bleach->nbconvert->notebook>=6.0->RISE) (2.4.7)\n",
      "Requirement already satisfied: textblob in c:\\users\\chris mcgee\\anaconda3\\lib\\site-packages (0.17.1)\n",
      "Requirement already satisfied: nltk>=3.1 in c:\\users\\chris mcgee\\anaconda3\\lib\\site-packages (from textblob) (3.6.1)\n",
      "Requirement already satisfied: tqdm in c:\\users\\chris mcgee\\anaconda3\\lib\\site-packages (from nltk>=3.1->textblob) (4.59.0)\n",
      "Requirement already satisfied: click in c:\\users\\chris mcgee\\anaconda3\\lib\\site-packages (from nltk>=3.1->textblob) (7.1.2)\n",
      "Requirement already satisfied: joblib in c:\\users\\chris mcgee\\anaconda3\\lib\\site-packages (from nltk>=3.1->textblob) (1.0.1)\n",
      "Requirement already satisfied: regex in c:\\users\\chris mcgee\\anaconda3\\lib\\site-packages (from nltk>=3.1->textblob) (2021.4.4)\n"
     ]
    }
   ],
   "source": [
    "#1. Install necessary packages\n",
    "!pip install pandas\n",
    "!pip install numpy\n",
    "!pip install seaborn\n",
    "\n",
    "# Install pmdarima\n",
    "!pip install pmdarima\n",
    "\n",
    "!pip install tensorflow\n",
    "\n",
    "# Notebook presentation slides\n",
    "!pip install RISE\n",
    "\n",
    "# Install textblob for spelling corrections\n",
    "!pip install textblob\n"
   ]
  },
  {
   "cell_type": "code",
   "execution_count": 2,
   "id": "c5dd838d",
   "metadata": {},
   "outputs": [
    {
     "name": "stderr",
     "output_type": "stream",
     "text": [
      "[nltk_data] Downloading package punkt to C:\\Users\\Chris\n",
      "[nltk_data]     McGee\\AppData\\Roaming\\nltk_data...\n",
      "[nltk_data]   Package punkt is already up-to-date!\n",
      "[nltk_data] Downloading package stopwords to C:\\Users\\Chris\n",
      "[nltk_data]     McGee\\AppData\\Roaming\\nltk_data...\n",
      "[nltk_data]   Package stopwords is already up-to-date!\n"
     ]
    }
   ],
   "source": [
    "# Ignor warning error\n",
    "import warnings\n",
    "warnings.filterwarnings('ignore')\n",
    "\n",
    "# Import standard libraries \n",
    "import numpy as np # linear algebra\n",
    "import pandas as pd # dataset processing\n",
    "from pandas import Series, DataFrame\n",
    "\n",
    "# Import visualization packages\n",
    "import matplotlib as mpl\n",
    "import matplotlib.pyplot as plt\n",
    "\n",
    "import seaborn as sns\n",
    "from matplotlib.axes._axes import _log as matplotlib_axes_logger\n",
    "matplotlib_axes_logger.setLevel('ERROR')\n",
    "\n",
    "# Import TensorFlow package\n",
    "import tensorflow as tf\n",
    "from tensorflow.keras.preprocessing.text import Tokenizer\n",
    "from tensorflow.keras.preprocessing.sequence import pad_sequences\n",
    "from keras import callbacks\n",
    "from tensorflow import keras\n",
    "\n",
    "# Import parser\n",
    "from dateutil.parser import parse\n",
    "\n",
    "#Spelling corrections\n",
    "import textblob\n",
    "\n",
    "# Import reduce\n",
    "from functools import reduce\n",
    "\n",
    "# Import bag count vectorizer function\n",
    "from sklearn.feature_extraction.text import CountVectorizer\n",
    "\n",
    "# Import appropriate tokenize function\n",
    "import nltk\n",
    "from nltk import word_tokenize\n",
    "nltk.download('punkt')\n",
    "\n",
    "# Import nltk 'stopwords' functions\n",
    "nltk.download('stopwords')\n",
    "from nltk.corpus import stopwords\n",
    "\n",
    "#Import EarlyStopping\n",
    "import tensorflow\n",
    "from keras.callbacks import ModelCheckpoint, EarlyStopping"
   ]
  },
  {
   "cell_type": "code",
   "execution_count": 3,
   "id": "39e76d3c",
   "metadata": {},
   "outputs": [],
   "source": [
    "#2. Load data set into Pandas data frame\n",
    "amazon_path = 'amazon_cells_labelled.txt'\n",
    "amazon_df_original = pd.read_csv(amazon_path, names = ['review', 'sentiments'], sep = '\\t')\n",
    "\n",
    "imdb_path = 'imdb_labelled.txt'\n",
    "imdb_df_original = pd.read_csv(imdb_path, names = ['review', 'sentiments'], sep = '\\t')\n",
    "\n",
    "yelp_path = 'yelp_labelled.txt'\n",
    "yelp_df_original = pd.read_csv(yelp_path, names = ['review', 'sentiments'], sep = '\\t')"
   ]
  },
  {
   "cell_type": "code",
   "execution_count": 4,
   "id": "bed819bc",
   "metadata": {},
   "outputs": [],
   "source": [
    "#3. Display data frame\n",
    "amazon_df = amazon_df_original.copy()\n",
    "imdb_df = imdb_df_original.copy()\n",
    "yelp_df = yelp_df_original.copy()"
   ]
  },
  {
   "cell_type": "code",
   "execution_count": 5,
   "id": "c3d6fd83",
   "metadata": {},
   "outputs": [
    {
     "name": "stdout",
     "output_type": "stream",
     "text": [
      "Amazon:                                                 review  sentiments\n",
      "0   So there is no way for me to plug it in here i...           0\n",
      "1                         Good case, Excellent value.           1\n",
      "2                              Great for the jawbone.           1\n",
      "3   Tied to charger for conversations lasting more...           0\n",
      "4                                   The mic is great.           1\n",
      "5   I have to jiggle the plug to get it to line up...           0\n",
      "6   If you have several dozen or several hundred c...           0\n",
      "7         If you are Razr owner...you must have this!           1\n",
      "8                 Needless to say, I wasted my money.           0\n",
      "9                    What a waste of money and time!.           0\n",
      "10                    And the sound quality is great.           1\n",
      "11  He was very impressed when going from the orig...           1\n",
      "12  If the two were seperated by a mere 5+ ft I st...           0\n",
      "13                           Very good quality though           1\n",
      "14  The design is very odd, as the ear \"clip\" is n...           0\n",
      "IMDB:                                                 review  sentiments\n",
      "0   A very, very, very slow-moving, aimless movie ...           0\n",
      "1   Not sure who was more lost - the flat characte...           0\n",
      "2   Attempting artiness with black & white and cle...           0\n",
      "3        Very little music or anything to speak of.             0\n",
      "4   The best scene in the movie was when Gerardo i...           1\n",
      "5   The rest of the movie lacks art, charm, meanin...           0\n",
      "6                                 Wasted two hours.             0\n",
      "7   Saw the movie today and thought it was a good ...           1\n",
      "8                                A bit predictable.             0\n",
      "9   Loved the casting of Jimmy Buffet as the scien...           1\n",
      "10               And those baby owls were adorable.             1\n",
      "11  The movie showed a lot of Florida at it's best...           1\n",
      "12  The Songs Were The Best And The Muppets Were S...           1\n",
      "13                                  It Was So Cool.             1\n",
      "14  This is a very \"right on case\" movie that deli...           1\n",
      "Yelp:                                                 review  sentiments\n",
      "0                            Wow... Loved this place.           1\n",
      "1                                  Crust is not good.           0\n",
      "2           Not tasty and the texture was just nasty.           0\n",
      "3   Stopped by during the late May bank holiday of...           1\n",
      "4   The selection on the menu was great and so wer...           1\n",
      "5      Now I am getting angry and I want my damn pho.           0\n",
      "6               Honeslty it didn't taste THAT fresh.)           0\n",
      "7   The potatoes were like rubber and you could te...           0\n",
      "8                           The fries were great too.           1\n",
      "9                                      A great touch.           1\n",
      "10                           Service was very prompt.           1\n",
      "11                                 Would not go back.           0\n",
      "12  The cashier had no care what so ever on what I...           0\n",
      "13  I tried the Cape Cod ravoli, chicken,with cran...           1\n",
      "14  I was disgusted because I was pretty sure that...           0\n"
     ]
    }
   ],
   "source": [
    "#review data\n",
    "print('Amazon: ', amazon_df.head(15))\n",
    "print('IMDB: ', imdb_df.head(15))\n",
    "print('Yelp: ', yelp_df.head(15))"
   ]
  },
  {
   "cell_type": "code",
   "execution_count": 6,
   "id": "4321f783",
   "metadata": {},
   "outputs": [
    {
     "name": "stdout",
     "output_type": "stream",
     "text": [
      "Amazon:  (1000, 2)\n",
      "IMDB:  (748, 2)\n",
      "Yelp:  (1000, 2)\n"
     ]
    }
   ],
   "source": [
    "#4. Evaluate the data structure to understand input data better\n",
    "# Dataset size\n",
    "print('Amazon: ', amazon_df.shape)\n",
    "print('IMDB: ', imdb_df.shape)\n",
    "print('Yelp: ', yelp_df.shape)"
   ]
  },
  {
   "cell_type": "code",
   "execution_count": 7,
   "id": "6df7c425",
   "metadata": {},
   "outputs": [
    {
     "data": {
      "text/plain": [
       "<bound method DataFrame.info of                                                 review  sentiments\n",
       "0    So there is no way for me to plug it in here i...           0\n",
       "1                          Good case, Excellent value.           1\n",
       "2                               Great for the jawbone.           1\n",
       "3    Tied to charger for conversations lasting more...           0\n",
       "4                                    The mic is great.           1\n",
       "..                                                 ...         ...\n",
       "995  The screen does get smudged easily because it ...           0\n",
       "996  What a piece of junk.. I lose more calls on th...           0\n",
       "997                       Item Does Not Match Picture.           0\n",
       "998  The only thing that disappoint me is the infra...           0\n",
       "999  You can not answer calls with the unit, never ...           0\n",
       "\n",
       "[1000 rows x 2 columns]>"
      ]
     },
     "execution_count": 7,
     "metadata": {},
     "output_type": "execute_result"
    }
   ],
   "source": [
    "# Review individual DataFrames info - Amazon\n",
    "amazon_df.info"
   ]
  },
  {
   "cell_type": "code",
   "execution_count": 8,
   "id": "6083ba01",
   "metadata": {},
   "outputs": [
    {
     "name": "stdout",
     "output_type": "stream",
     "text": [
      "IMDB:  (748, 2)\n"
     ]
    },
    {
     "data": {
      "text/plain": [
       "<bound method DataFrame.info of                                                 review  sentiments\n",
       "0    A very, very, very slow-moving, aimless movie ...           0\n",
       "1    Not sure who was more lost - the flat characte...           0\n",
       "2    Attempting artiness with black & white and cle...           0\n",
       "3         Very little music or anything to speak of.             0\n",
       "4    The best scene in the movie was when Gerardo i...           1\n",
       "..                                                 ...         ...\n",
       "743  I just got bored watching Jessice Lange take h...           0\n",
       "744  Unfortunately, any virtue in this film's produ...           0\n",
       "745                   In a word, it is embarrassing.             0\n",
       "746                               Exceptionally bad!             0\n",
       "747  All in all its an insult to one's intelligence...           0\n",
       "\n",
       "[748 rows x 2 columns]>"
      ]
     },
     "execution_count": 8,
     "metadata": {},
     "output_type": "execute_result"
    }
   ],
   "source": [
    "# Review individual DataFrames info - IMDB\n",
    "print('IMDB: ', imdb_df.shape)\n",
    "imdb_df.info"
   ]
  },
  {
   "cell_type": "code",
   "execution_count": 9,
   "id": "7c710cca",
   "metadata": {},
   "outputs": [
    {
     "name": "stdout",
     "output_type": "stream",
     "text": [
      "Yelp:  (1000, 2)\n"
     ]
    },
    {
     "data": {
      "text/plain": [
       "<bound method DataFrame.info of                                                 review  sentiments\n",
       "0                             Wow... Loved this place.           1\n",
       "1                                   Crust is not good.           0\n",
       "2            Not tasty and the texture was just nasty.           0\n",
       "3    Stopped by during the late May bank holiday of...           1\n",
       "4    The selection on the menu was great and so wer...           1\n",
       "..                                                 ...         ...\n",
       "995  I think food should have flavor and texture an...           0\n",
       "996                           Appetite instantly gone.           0\n",
       "997  Overall I was not impressed and would not go b...           0\n",
       "998  The whole experience was underwhelming, and I ...           0\n",
       "999  Then, as if I hadn't wasted enough of my life ...           0\n",
       "\n",
       "[1000 rows x 2 columns]>"
      ]
     },
     "execution_count": 9,
     "metadata": {},
     "output_type": "execute_result"
    }
   ],
   "source": [
    "# Review individual DataFrames info - Yelp\n",
    "print('Yelp: ', yelp_df.shape)\n",
    "yelp_df.info"
   ]
  },
  {
   "cell_type": "code",
   "execution_count": 10,
   "id": "663d4a91",
   "metadata": {},
   "outputs": [
    {
     "data": {
      "text/html": [
       "<div>\n",
       "<style scoped>\n",
       "    .dataframe tbody tr th:only-of-type {\n",
       "        vertical-align: middle;\n",
       "    }\n",
       "\n",
       "    .dataframe tbody tr th {\n",
       "        vertical-align: top;\n",
       "    }\n",
       "\n",
       "    .dataframe thead th {\n",
       "        text-align: right;\n",
       "    }\n",
       "</style>\n",
       "<table border=\"1\" class=\"dataframe\">\n",
       "  <thead>\n",
       "    <tr style=\"text-align: right;\">\n",
       "      <th></th>\n",
       "      <th>review</th>\n",
       "      <th>sentiments</th>\n",
       "    </tr>\n",
       "  </thead>\n",
       "  <tbody>\n",
       "    <tr>\n",
       "      <th>0</th>\n",
       "      <td>So there is no way for me to plug it in here i...</td>\n",
       "      <td>0</td>\n",
       "    </tr>\n",
       "    <tr>\n",
       "      <th>1</th>\n",
       "      <td>Good case, Excellent value.</td>\n",
       "      <td>1</td>\n",
       "    </tr>\n",
       "    <tr>\n",
       "      <th>2</th>\n",
       "      <td>Great for the jawbone.</td>\n",
       "      <td>1</td>\n",
       "    </tr>\n",
       "    <tr>\n",
       "      <th>3</th>\n",
       "      <td>Tied to charger for conversations lasting more...</td>\n",
       "      <td>0</td>\n",
       "    </tr>\n",
       "    <tr>\n",
       "      <th>4</th>\n",
       "      <td>The mic is great.</td>\n",
       "      <td>1</td>\n",
       "    </tr>\n",
       "    <tr>\n",
       "      <th>...</th>\n",
       "      <td>...</td>\n",
       "      <td>...</td>\n",
       "    </tr>\n",
       "    <tr>\n",
       "      <th>2743</th>\n",
       "      <td>I think food should have flavor and texture an...</td>\n",
       "      <td>0</td>\n",
       "    </tr>\n",
       "    <tr>\n",
       "      <th>2744</th>\n",
       "      <td>Appetite instantly gone.</td>\n",
       "      <td>0</td>\n",
       "    </tr>\n",
       "    <tr>\n",
       "      <th>2745</th>\n",
       "      <td>Overall I was not impressed and would not go b...</td>\n",
       "      <td>0</td>\n",
       "    </tr>\n",
       "    <tr>\n",
       "      <th>2746</th>\n",
       "      <td>The whole experience was underwhelming, and I ...</td>\n",
       "      <td>0</td>\n",
       "    </tr>\n",
       "    <tr>\n",
       "      <th>2747</th>\n",
       "      <td>Then, as if I hadn't wasted enough of my life ...</td>\n",
       "      <td>0</td>\n",
       "    </tr>\n",
       "  </tbody>\n",
       "</table>\n",
       "<p>2748 rows × 2 columns</p>\n",
       "</div>"
      ],
      "text/plain": [
       "                                                 review  sentiments\n",
       "0     So there is no way for me to plug it in here i...           0\n",
       "1                           Good case, Excellent value.           1\n",
       "2                                Great for the jawbone.           1\n",
       "3     Tied to charger for conversations lasting more...           0\n",
       "4                                     The mic is great.           1\n",
       "...                                                 ...         ...\n",
       "2743  I think food should have flavor and texture an...           0\n",
       "2744                           Appetite instantly gone.           0\n",
       "2745  Overall I was not impressed and would not go b...           0\n",
       "2746  The whole experience was underwhelming, and I ...           0\n",
       "2747  Then, as if I hadn't wasted enough of my life ...           0\n",
       "\n",
       "[2748 rows x 2 columns]"
      ]
     },
     "execution_count": 10,
     "metadata": {},
     "output_type": "execute_result"
    }
   ],
   "source": [
    "#5. Combine the three review labeled files\n",
    "#list of the combine data frame\n",
    "new_dataframes = [amazon_df, imdb_df, yelp_df]\n",
    "\n",
    "# Import reduce\n",
    "from functools import reduce\n",
    "\n",
    "# Combine the three DataFrames into one\n",
    "combine_df = reduce(lambda left,right: pd.merge(left,right, on = ['review', 'sentiments'], how = 'outer'), new_dataframes)\n",
    "\n",
    "# Check the combined data frames\n",
    "combine_df"
   ]
  },
  {
   "cell_type": "code",
   "execution_count": 11,
   "id": "6f94020c",
   "metadata": {},
   "outputs": [
    {
     "name": "stdout",
     "output_type": "stream",
     "text": [
      "review        0\n",
      "sentiments    0\n",
      "dtype: int64\n"
     ]
    }
   ],
   "source": [
    "#6. Re-validate column, null values, and find missing values.\n",
    "# check null values\n",
    "df = combine_df\n",
    "data_nulls = df.isnull().sum()\n",
    "print(data_nulls)\n",
    "\n",
    "# Remove our nulls\n",
    "#df = df.dropna(subset=['review'])"
   ]
  },
  {
   "cell_type": "code",
   "execution_count": 12,
   "id": "93e1c2fe",
   "metadata": {},
   "outputs": [
    {
     "name": "stdout",
     "output_type": "stream",
     "text": [
      "There are no missing values left\n"
     ]
    }
   ],
   "source": [
    "# check missing data and its size\n",
    "def missing_cols(combine_df):\n",
    "    '''prints out columns with its amount of missing values'''\n",
    "    total = 0\n",
    "    for col in combine_df.columns:\n",
    "        missing_vals = combine_df[col].isnull().sum()\n",
    "        total += missing_vals\n",
    "        if missing_vals != 0:\n",
    "            print(f\"{col} => {combine_df[col].isnull().sum()}\")\n",
    "    \n",
    "    if total == 0:\n",
    "        print(\"There are no missing values left\")\n",
    "            \n",
    "missing_cols(combine_df)"
   ]
  },
  {
   "cell_type": "code",
   "execution_count": 13,
   "id": "cc26e54c",
   "metadata": {},
   "outputs": [
    {
     "data": {
      "text/plain": [
       "<bound method DataFrame.info of                                                  review  sentiments\n",
       "0     So there is no way for me to plug it in here i...           0\n",
       "1                           Good case, Excellent value.           1\n",
       "2                                Great for the jawbone.           1\n",
       "3     Tied to charger for conversations lasting more...           0\n",
       "4                                     The mic is great.           1\n",
       "...                                                 ...         ...\n",
       "2743  I think food should have flavor and texture an...           0\n",
       "2744                           Appetite instantly gone.           0\n",
       "2745  Overall I was not impressed and would not go b...           0\n",
       "2746  The whole experience was underwhelming, and I ...           0\n",
       "2747  Then, as if I hadn't wasted enough of my life ...           0\n",
       "\n",
       "[2748 rows x 2 columns]>"
      ]
     },
     "execution_count": 13,
     "metadata": {},
     "output_type": "execute_result"
    }
   ],
   "source": [
    "#7. Check combined data frame info\n",
    "combine_df.info"
   ]
  },
  {
   "cell_type": "code",
   "execution_count": 14,
   "id": "6a0dbc43",
   "metadata": {},
   "outputs": [
    {
     "data": {
      "text/plain": [
       "Index(['review', 'sentiments'], dtype='object')"
      ]
     },
     "execution_count": 14,
     "metadata": {},
     "output_type": "execute_result"
    }
   ],
   "source": [
    "# Check combined data frame columns\n",
    "combine_df.columns"
   ]
  },
  {
   "cell_type": "code",
   "execution_count": 15,
   "id": "8be07cbb",
   "metadata": {},
   "outputs": [
    {
     "data": {
      "text/plain": [
       "pandas.core.frame.DataFrame"
      ]
     },
     "execution_count": 15,
     "metadata": {},
     "output_type": "execute_result"
    }
   ],
   "source": [
    "# Check combined data frame type\n",
    "type(combine_df)"
   ]
  },
  {
   "cell_type": "code",
   "execution_count": 16,
   "id": "4efe2e80",
   "metadata": {},
   "outputs": [
    {
     "data": {
      "text/plain": [
       "review        object\n",
       "sentiments     int64\n",
       "dtype: object"
      ]
     },
     "execution_count": 16,
     "metadata": {},
     "output_type": "execute_result"
    }
   ],
   "source": [
    "# Check data types of features\n",
    "combine_df.dtypes"
   ]
  },
  {
   "cell_type": "code",
   "execution_count": 17,
   "id": "94fbbc80",
   "metadata": {},
   "outputs": [
    {
     "data": {
      "text/plain": [
       "array([0, 1], dtype=int64)"
      ]
     },
     "execution_count": 17,
     "metadata": {},
     "output_type": "execute_result"
    }
   ],
   "source": [
    "# Check binary rating (0 = negative, 1 = positive)\n",
    "combine_df.sentiments.unique()"
   ]
  },
  {
   "cell_type": "code",
   "execution_count": 18,
   "id": "d60e8951",
   "metadata": {},
   "outputs": [
    {
     "name": "stdout",
     "output_type": "stream",
     "text": [
      "Combine data - Count:\n",
      "  1    1386\n",
      "0    1362\n",
      "Name: sentiments, dtype: int64\n",
      "\n",
      " Combine data - Percentage:\n",
      " 1    0.504367\n",
      "0    0.495633\n",
      "Name: sentiments, dtype: float64\n"
     ]
    }
   ],
   "source": [
    "# Check positive and negative reviews from combined DataFrame\n",
    "print('Combine data - Count:\\n ', combine_df.sentiments.value_counts())\n",
    "print('\\n Combine data - Percentage:\\n', combine_df.sentiments.value_counts() / len(combine_df))"
   ]
  },
  {
   "cell_type": "code",
   "execution_count": 19,
   "id": "99e09057",
   "metadata": {},
   "outputs": [
    {
     "data": {
      "text/plain": [
       "<AxesSubplot:>"
      ]
     },
     "execution_count": 19,
     "metadata": {},
     "output_type": "execute_result"
    },
    {
     "data": {
      "image/png": "[encoded data removed]",
      "text/plain": [
       "<Figure size 432x288 with 1 Axes>"
      ]
     },
     "metadata": {
      "needs_background": "light"
     },
     "output_type": "display_data"
    }
   ],
   "source": [
    "# Distribution of the ratings - sentiments\n",
    "combine_df['sentiments'].value_counts().plot(kind='bar')"
   ]
  },
  {
   "cell_type": "code",
   "execution_count": 20,
   "id": "f5f0ad77",
   "metadata": {},
   "outputs": [
    {
     "data": {
      "text/html": [
       "<div>\n",
       "<style scoped>\n",
       "    .dataframe tbody tr th:only-of-type {\n",
       "        vertical-align: middle;\n",
       "    }\n",
       "\n",
       "    .dataframe tbody tr th {\n",
       "        vertical-align: top;\n",
       "    }\n",
       "\n",
       "    .dataframe thead th {\n",
       "        text-align: right;\n",
       "    }\n",
       "</style>\n",
       "<table border=\"1\" class=\"dataframe\">\n",
       "  <thead>\n",
       "    <tr style=\"text-align: right;\">\n",
       "      <th></th>\n",
       "      <th>sentiments</th>\n",
       "    </tr>\n",
       "  </thead>\n",
       "  <tbody>\n",
       "    <tr>\n",
       "      <th>count</th>\n",
       "      <td>2748.000000</td>\n",
       "    </tr>\n",
       "    <tr>\n",
       "      <th>mean</th>\n",
       "      <td>0.504367</td>\n",
       "    </tr>\n",
       "    <tr>\n",
       "      <th>std</th>\n",
       "      <td>0.500072</td>\n",
       "    </tr>\n",
       "    <tr>\n",
       "      <th>min</th>\n",
       "      <td>0.000000</td>\n",
       "    </tr>\n",
       "    <tr>\n",
       "      <th>25%</th>\n",
       "      <td>0.000000</td>\n",
       "    </tr>\n",
       "    <tr>\n",
       "      <th>50%</th>\n",
       "      <td>1.000000</td>\n",
       "    </tr>\n",
       "    <tr>\n",
       "      <th>75%</th>\n",
       "      <td>1.000000</td>\n",
       "    </tr>\n",
       "    <tr>\n",
       "      <th>max</th>\n",
       "      <td>1.000000</td>\n",
       "    </tr>\n",
       "  </tbody>\n",
       "</table>\n",
       "</div>"
      ],
      "text/plain": [
       "        sentiments\n",
       "count  2748.000000\n",
       "mean      0.504367\n",
       "std       0.500072\n",
       "min       0.000000\n",
       "25%       0.000000\n",
       "50%       1.000000\n",
       "75%       1.000000\n",
       "max       1.000000"
      ]
     },
     "execution_count": 20,
     "metadata": {},
     "output_type": "execute_result"
    }
   ],
   "source": [
    "# Describe dataset statistics\n",
    "combine_df.describe()"
   ]
  },
  {
   "cell_type": "code",
   "execution_count": 21,
   "id": "a9cd079a",
   "metadata": {},
   "outputs": [
    {
     "name": "stdout",
     "output_type": "stream",
     "text": [
      "The line contains :D emoji\n",
      "The line contains :D emoji\n",
      "The line contains :D emoji\n",
      "The line contains :D emoji\n"
     ]
    }
   ],
   "source": [
    "# Checking for emoji \"\":D\"\"\n",
    "for i in combine_df.review:\n",
    "    substring = \":)\"\n",
    "    if substring in i:\n",
    "        print(\"The line contains :D emoji\")"
   ]
  },
  {
   "cell_type": "code",
   "execution_count": 22,
   "id": "88845689",
   "metadata": {},
   "outputs": [
    {
     "name": "stdout",
     "output_type": "stream",
     "text": [
      "False\n",
      "False\n",
      "False\n",
      "False\n",
      "False\n",
      "False\n",
      "False\n",
      "False\n",
      "False\n",
      "False\n",
      "False\n",
      "False\n",
      "False\n",
      "False\n",
      "False\n",
      "False\n",
      "False\n"
     ]
    }
   ],
   "source": [
    "# Check for unusual characters\n",
    "def isEnglish(review):\n",
    "    return review.isascii()\n",
    "for i in combine_df.review:\n",
    "    if isEnglish(i) != True:\n",
    "        print(isEnglish(i))"
   ]
  },
  {
   "cell_type": "code",
   "execution_count": 23,
   "id": "d901704a",
   "metadata": {},
   "outputs": [
    {
     "data": {
      "text/plain": [
       "0        82\n",
       "1        27\n",
       "2        22\n",
       "3        79\n",
       "4        17\n",
       "       ... \n",
       "2743     66\n",
       "2744     24\n",
       "2745     50\n",
       "2746     91\n",
       "2747    134\n",
       "Name: review, Length: 2748, dtype: int64"
      ]
     },
     "execution_count": 23,
     "metadata": {},
     "output_type": "execute_result"
    }
   ],
   "source": [
    "# Check vocabulary size, proposed word embedding length\n",
    "# Find lengths of reviews\n",
    "reviews_length = combine_df.review.str.len()\n",
    "reviews_length"
   ]
  },
  {
   "cell_type": "code",
   "execution_count": 24,
   "id": "3089d4a0",
   "metadata": {},
   "outputs": [
    {
     "name": "stdout",
     "output_type": "stream",
     "text": [
      "There are  2717  unique words in the review column of combine dataframe.\n"
     ]
    }
   ],
   "source": [
    "#Find estimation of vocabulary size; how many unique words are there within the DataFrame\n",
    "unique_word = set(combine_df['review'].str.replace('[^a-zA-Z]', '').str.lower().str.split(' ').sum())\n",
    "\n",
    "# Check the length of unique words\n",
    "print('There are ', str(len(unique_word)), ' unique words in the review column of combine dataframe.')"
   ]
  },
  {
   "cell_type": "code",
   "execution_count": 25,
   "id": "8e221726",
   "metadata": {},
   "outputs": [
    {
     "name": "stdout",
     "output_type": "stream",
     "text": [
      "The shortest review is  7  words\n"
     ]
    }
   ],
   "source": [
    "# Check the length of the shortest review\n",
    "print('The shortest review is ', str(min(reviews_length)),' words')"
   ]
  },
  {
   "cell_type": "code",
   "execution_count": 26,
   "id": "50e15fb3",
   "metadata": {},
   "outputs": [
    {
     "name": "stdout",
     "output_type": "stream",
     "text": [
      "The longest review is  7944  words\n"
     ]
    }
   ],
   "source": [
    "# Check the length of the longest review\n",
    "print('The longest review is ', str(max(reviews_length)),' words')"
   ]
  },
  {
   "cell_type": "code",
   "execution_count": 27,
   "id": "b29cfc83",
   "metadata": {},
   "outputs": [
    {
     "data": {
      "text/plain": [
       "196560"
      ]
     },
     "execution_count": 27,
     "metadata": {},
     "output_type": "execute_result"
    }
   ],
   "source": [
    "# Total length of all reviews\n",
    "sum(reviews_length)"
   ]
  },
  {
   "cell_type": "code",
   "execution_count": 28,
   "id": "359cf8be",
   "metadata": {},
   "outputs": [],
   "source": [
    "#8. Tokenize words\n",
    "# Import appropriate tokenize function\n",
    "import nltk\n",
    "from nltk import word_tokenize"
   ]
  },
  {
   "cell_type": "code",
   "execution_count": 29,
   "id": "0c7759dc",
   "metadata": {},
   "outputs": [
    {
     "name": "stdout",
     "output_type": "stream",
     "text": [
      "Word Tokenization firs 10 reviews results:\n",
      "[['So', 'there', 'is', 'no', 'way', 'for', 'me', 'to', 'plug', 'it', 'in', 'here', 'in', 'the', 'US', 'unless', 'I', 'go', 'by', 'a', 'converter', '.'], ['Good', 'case', ',', 'Excellent', 'value', '.'], ['Great', 'for', 'the', 'jawbone', '.'], ['Tied', 'to', 'charger', 'for', 'conversations', 'lasting', 'more', 'than', '45', 'minutes.MAJOR', 'PROBLEMS', '!', '!'], ['The', 'mic', 'is', 'great', '.'], ['I', 'have', 'to', 'jiggle', 'the', 'plug', 'to', 'get', 'it', 'to', 'line', 'up', 'right', 'to', 'get', 'decent', 'volume', '.'], ['If', 'you', 'have', 'several', 'dozen', 'or', 'several', 'hundred', 'contacts', ',', 'then', 'imagine', 'the', 'fun', 'of', 'sending', 'each', 'of', 'them', 'one', 'by', 'one', '.'], ['If', 'you', 'are', 'Razr', 'owner', '...', 'you', 'must', 'have', 'this', '!'], ['Needless', 'to', 'say', ',', 'I', 'wasted', 'my', 'money', '.'], ['What', 'a', 'waste', 'of', 'money', 'and', 'time', '!', '.']]\n"
     ]
    }
   ],
   "source": [
    "#tokenize the text of the review\n",
    "word_tokens = [word_tokenize(review) for review in combine_df.review]\n",
    "\n",
    "# Print first ten  reviews\n",
    "print('Word Tokenization firs 10 reviews results:')\n",
    "print(word_tokens[:10])"
   ]
  },
  {
   "cell_type": "code",
   "execution_count": 30,
   "id": "ea4a4c93",
   "metadata": {},
   "outputs": [
    {
     "data": {
      "text/plain": [
       "list"
      ]
     },
     "execution_count": 30,
     "metadata": {},
     "output_type": "execute_result"
    }
   ],
   "source": [
    "#Check word_tokens type\n",
    "type(word_tokens)"
   ]
  },
  {
   "cell_type": "code",
   "execution_count": 31,
   "id": "d050642a",
   "metadata": {},
   "outputs": [
    {
     "data": {
      "text/plain": [
       "'If you have several dozen or several hundred contacts, then imagine the fun of sending each of them one by one.'"
      ]
     },
     "execution_count": 31,
     "metadata": {},
     "output_type": "execute_result"
    }
   ],
   "source": [
    "#Check sample review #6\n",
    "combine_df.review[6]"
   ]
  },
  {
   "cell_type": "code",
   "execution_count": 32,
   "id": "7d30258a",
   "metadata": {},
   "outputs": [
    {
     "data": {
      "text/html": [
       "<div>\n",
       "<style scoped>\n",
       "    .dataframe tbody tr th:only-of-type {\n",
       "        vertical-align: middle;\n",
       "    }\n",
       "\n",
       "    .dataframe tbody tr th {\n",
       "        vertical-align: top;\n",
       "    }\n",
       "\n",
       "    .dataframe thead th {\n",
       "        text-align: right;\n",
       "    }\n",
       "</style>\n",
       "<table border=\"1\" class=\"dataframe\">\n",
       "  <thead>\n",
       "    <tr style=\"text-align: right;\">\n",
       "      <th></th>\n",
       "      <th>review</th>\n",
       "      <th>sentiments</th>\n",
       "      <th>word_count</th>\n",
       "    </tr>\n",
       "  </thead>\n",
       "  <tbody>\n",
       "    <tr>\n",
       "      <th>0</th>\n",
       "      <td>So there is no way for me to plug it in here i...</td>\n",
       "      <td>0</td>\n",
       "      <td>21</td>\n",
       "    </tr>\n",
       "    <tr>\n",
       "      <th>1</th>\n",
       "      <td>Good case, Excellent value.</td>\n",
       "      <td>1</td>\n",
       "      <td>4</td>\n",
       "    </tr>\n",
       "    <tr>\n",
       "      <th>2</th>\n",
       "      <td>Great for the jawbone.</td>\n",
       "      <td>1</td>\n",
       "      <td>4</td>\n",
       "    </tr>\n",
       "    <tr>\n",
       "      <th>3</th>\n",
       "      <td>Tied to charger for conversations lasting more...</td>\n",
       "      <td>0</td>\n",
       "      <td>11</td>\n",
       "    </tr>\n",
       "    <tr>\n",
       "      <th>4</th>\n",
       "      <td>The mic is great.</td>\n",
       "      <td>1</td>\n",
       "      <td>4</td>\n",
       "    </tr>\n",
       "  </tbody>\n",
       "</table>\n",
       "</div>"
      ],
      "text/plain": [
       "                                              review  sentiments  word_count\n",
       "0  So there is no way for me to plug it in here i...           0          21\n",
       "1                        Good case, Excellent value.           1           4\n",
       "2                             Great for the jawbone.           1           4\n",
       "3  Tied to charger for conversations lasting more...           0          11\n",
       "4                                  The mic is great.           1           4"
      ]
     },
     "execution_count": 32,
     "metadata": {},
     "output_type": "execute_result"
    }
   ],
   "source": [
    "#Count words in the reviews column\n",
    "combine_df['word_count'] = combine_df['review'].str.split().str.len()\n",
    "combine_df.head()"
   ]
  },
  {
   "cell_type": "code",
   "execution_count": 33,
   "id": "ef444fb5",
   "metadata": {},
   "outputs": [
    {
     "name": "stdout",
     "output_type": "stream",
     "text": [
      "The average of 13.006550218340612 word per customer review.\n"
     ]
    }
   ],
   "source": [
    "#Average word count in the reviews\n",
    "print('The average of ' + str(combine_df['word_count'].mean()) + ' word per customer review.' )"
   ]
  },
  {
   "cell_type": "code",
   "execution_count": 34,
   "id": "1e94f1c8",
   "metadata": {},
   "outputs": [
    {
     "data": {
      "text/html": [
       "<div>\n",
       "<style scoped>\n",
       "    .dataframe tbody tr th:only-of-type {\n",
       "        vertical-align: middle;\n",
       "    }\n",
       "\n",
       "    .dataframe tbody tr th {\n",
       "        vertical-align: top;\n",
       "    }\n",
       "\n",
       "    .dataframe thead th {\n",
       "        text-align: right;\n",
       "    }\n",
       "</style>\n",
       "<table border=\"1\" class=\"dataframe\">\n",
       "  <thead>\n",
       "    <tr style=\"text-align: right;\">\n",
       "      <th></th>\n",
       "      <th>review</th>\n",
       "      <th>sentiments</th>\n",
       "      <th>word_count</th>\n",
       "      <th>tokens_count</th>\n",
       "    </tr>\n",
       "  </thead>\n",
       "  <tbody>\n",
       "    <tr>\n",
       "      <th>0</th>\n",
       "      <td>So there is no way for me to plug it in here i...</td>\n",
       "      <td>0</td>\n",
       "      <td>21</td>\n",
       "      <td>22</td>\n",
       "    </tr>\n",
       "    <tr>\n",
       "      <th>1</th>\n",
       "      <td>Good case, Excellent value.</td>\n",
       "      <td>1</td>\n",
       "      <td>4</td>\n",
       "      <td>6</td>\n",
       "    </tr>\n",
       "    <tr>\n",
       "      <th>2</th>\n",
       "      <td>Great for the jawbone.</td>\n",
       "      <td>1</td>\n",
       "      <td>4</td>\n",
       "      <td>5</td>\n",
       "    </tr>\n",
       "    <tr>\n",
       "      <th>3</th>\n",
       "      <td>Tied to charger for conversations lasting more...</td>\n",
       "      <td>0</td>\n",
       "      <td>11</td>\n",
       "      <td>13</td>\n",
       "    </tr>\n",
       "    <tr>\n",
       "      <th>4</th>\n",
       "      <td>The mic is great.</td>\n",
       "      <td>1</td>\n",
       "      <td>4</td>\n",
       "      <td>5</td>\n",
       "    </tr>\n",
       "  </tbody>\n",
       "</table>\n",
       "</div>"
      ],
      "text/plain": [
       "                                              review  sentiments  word_count  \\\n",
       "0  So there is no way for me to plug it in here i...           0          21   \n",
       "1                        Good case, Excellent value.           1           4   \n",
       "2                             Great for the jawbone.           1           4   \n",
       "3  Tied to charger for conversations lasting more...           0          11   \n",
       "4                                  The mic is great.           1           4   \n",
       "\n",
       "   tokens_count  \n",
       "0            22  \n",
       "1             6  \n",
       "2             5  \n",
       "3            13  \n",
       "4             5  "
      ]
     },
     "execution_count": 34,
     "metadata": {},
     "output_type": "execute_result"
    }
   ],
   "source": [
    "# Count how many tokens in each tokenized review\n",
    "tokens_lengh = []\n",
    "\n",
    "# Iterate over the word_tokens list\n",
    "for i in range(len(word_tokens)):\n",
    "    tokens_lengh.append(len(word_tokens[i]))\n",
    "    \n",
    "# New 'tokens_count' feature for the length of each review\n",
    "combine_df['tokens_count'] = tokens_lengh\n",
    "\n",
    "#review\n",
    "combine_df.head()"
   ]
  },
  {
   "cell_type": "code",
   "execution_count": 35,
   "id": "91d9806f",
   "metadata": {},
   "outputs": [],
   "source": [
    "#Replace all capital with lowercase letters\n",
    "combine_df['clean_review'] = combine_df.review.apply(lambda x: \" \".join(x.lower() for x in x.split()))\n",
    "\n",
    "#combine_df['clean_review'] = combine_df['review'].str.lower()"
   ]
  },
  {
   "cell_type": "code",
   "execution_count": 36,
   "id": "926f9c8d",
   "metadata": {},
   "outputs": [
    {
     "data": {
      "text/html": [
       "<div>\n",
       "<style scoped>\n",
       "    .dataframe tbody tr th:only-of-type {\n",
       "        vertical-align: middle;\n",
       "    }\n",
       "\n",
       "    .dataframe tbody tr th {\n",
       "        vertical-align: top;\n",
       "    }\n",
       "\n",
       "    .dataframe thead th {\n",
       "        text-align: right;\n",
       "    }\n",
       "</style>\n",
       "<table border=\"1\" class=\"dataframe\">\n",
       "  <thead>\n",
       "    <tr style=\"text-align: right;\">\n",
       "      <th></th>\n",
       "      <th>review</th>\n",
       "      <th>sentiments</th>\n",
       "      <th>word_count</th>\n",
       "      <th>tokens_count</th>\n",
       "      <th>clean_review</th>\n",
       "    </tr>\n",
       "  </thead>\n",
       "  <tbody>\n",
       "    <tr>\n",
       "      <th>0</th>\n",
       "      <td>So there is no way for me to plug it in here i...</td>\n",
       "      <td>0</td>\n",
       "      <td>21</td>\n",
       "      <td>22</td>\n",
       "      <td>so there is no way for me to plug it in here i...</td>\n",
       "    </tr>\n",
       "    <tr>\n",
       "      <th>1</th>\n",
       "      <td>Good case, Excellent value.</td>\n",
       "      <td>1</td>\n",
       "      <td>4</td>\n",
       "      <td>6</td>\n",
       "      <td>good case, excellent value.</td>\n",
       "    </tr>\n",
       "    <tr>\n",
       "      <th>2</th>\n",
       "      <td>Great for the jawbone.</td>\n",
       "      <td>1</td>\n",
       "      <td>4</td>\n",
       "      <td>5</td>\n",
       "      <td>great for the jawbone.</td>\n",
       "    </tr>\n",
       "    <tr>\n",
       "      <th>3</th>\n",
       "      <td>Tied to charger for conversations lasting more...</td>\n",
       "      <td>0</td>\n",
       "      <td>11</td>\n",
       "      <td>13</td>\n",
       "      <td>tied to charger for conversations lasting more...</td>\n",
       "    </tr>\n",
       "    <tr>\n",
       "      <th>4</th>\n",
       "      <td>The mic is great.</td>\n",
       "      <td>1</td>\n",
       "      <td>4</td>\n",
       "      <td>5</td>\n",
       "      <td>the mic is great.</td>\n",
       "    </tr>\n",
       "  </tbody>\n",
       "</table>\n",
       "</div>"
      ],
      "text/plain": [
       "                                              review  sentiments  word_count  \\\n",
       "0  So there is no way for me to plug it in here i...           0          21   \n",
       "1                        Good case, Excellent value.           1           4   \n",
       "2                             Great for the jawbone.           1           4   \n",
       "3  Tied to charger for conversations lasting more...           0          11   \n",
       "4                                  The mic is great.           1           4   \n",
       "\n",
       "   tokens_count                                       clean_review  \n",
       "0            22  so there is no way for me to plug it in here i...  \n",
       "1             6                        good case, excellent value.  \n",
       "2             5                             great for the jawbone.  \n",
       "3            13  tied to charger for conversations lasting more...  \n",
       "4             5                                  the mic is great.  "
      ]
     },
     "execution_count": 36,
     "metadata": {},
     "output_type": "execute_result"
    }
   ],
   "source": [
    "#Remove all numbers from clean_review\n",
    "combine_df['clean_review'] = combine_df['clean_review'].str.replace('\\d+','')\n",
    "\n",
    "combine_df.head()"
   ]
  },
  {
   "cell_type": "code",
   "execution_count": 37,
   "id": "8e1cecbf",
   "metadata": {},
   "outputs": [],
   "source": [
    "# Select special characters\n",
    "unique_character = [\"*\",\"+\",\",\",\"-\",\".\",\"/\",\":\",\";\",\"<\",\n",
    " \"=\",\">\",\"?\",\"@\",\"!\",'\"',\"#\",\"%\",\"&\",\"'\",\"(\",\")\",\"[\",\"\\\\\",\"]\",\"^\",\"_\",\n",
    " \"`\",\"{\",\"|\",\"}\",\"~\",\"–\"]"
   ]
  },
  {
   "cell_type": "code",
   "execution_count": 38,
   "id": "069f38a2",
   "metadata": {},
   "outputs": [
    {
     "data": {
      "text/html": [
       "<div>\n",
       "<style scoped>\n",
       "    .dataframe tbody tr th:only-of-type {\n",
       "        vertical-align: middle;\n",
       "    }\n",
       "\n",
       "    .dataframe tbody tr th {\n",
       "        vertical-align: top;\n",
       "    }\n",
       "\n",
       "    .dataframe thead th {\n",
       "        text-align: right;\n",
       "    }\n",
       "</style>\n",
       "<table border=\"1\" class=\"dataframe\">\n",
       "  <thead>\n",
       "    <tr style=\"text-align: right;\">\n",
       "      <th></th>\n",
       "      <th>review</th>\n",
       "      <th>sentiments</th>\n",
       "      <th>word_count</th>\n",
       "      <th>tokens_count</th>\n",
       "      <th>clean_review</th>\n",
       "    </tr>\n",
       "  </thead>\n",
       "  <tbody>\n",
       "    <tr>\n",
       "      <th>0</th>\n",
       "      <td>So there is no way for me to plug it in here i...</td>\n",
       "      <td>0</td>\n",
       "      <td>21</td>\n",
       "      <td>22</td>\n",
       "      <td>so there is no way for me to plug it in here i...</td>\n",
       "    </tr>\n",
       "    <tr>\n",
       "      <th>1</th>\n",
       "      <td>Good case, Excellent value.</td>\n",
       "      <td>1</td>\n",
       "      <td>4</td>\n",
       "      <td>6</td>\n",
       "      <td>good case  excellent value</td>\n",
       "    </tr>\n",
       "    <tr>\n",
       "      <th>2</th>\n",
       "      <td>Great for the jawbone.</td>\n",
       "      <td>1</td>\n",
       "      <td>4</td>\n",
       "      <td>5</td>\n",
       "      <td>great for the jawbone</td>\n",
       "    </tr>\n",
       "    <tr>\n",
       "      <th>3</th>\n",
       "      <td>Tied to charger for conversations lasting more...</td>\n",
       "      <td>0</td>\n",
       "      <td>11</td>\n",
       "      <td>13</td>\n",
       "      <td>tied to charger for conversations lasting more...</td>\n",
       "    </tr>\n",
       "    <tr>\n",
       "      <th>4</th>\n",
       "      <td>The mic is great.</td>\n",
       "      <td>1</td>\n",
       "      <td>4</td>\n",
       "      <td>5</td>\n",
       "      <td>the mic is great</td>\n",
       "    </tr>\n",
       "  </tbody>\n",
       "</table>\n",
       "</div>"
      ],
      "text/plain": [
       "                                              review  sentiments  word_count  \\\n",
       "0  So there is no way for me to plug it in here i...           0          21   \n",
       "1                        Good case, Excellent value.           1           4   \n",
       "2                             Great for the jawbone.           1           4   \n",
       "3  Tied to charger for conversations lasting more...           0          11   \n",
       "4                                  The mic is great.           1           4   \n",
       "\n",
       "   tokens_count                                       clean_review  \n",
       "0            22  so there is no way for me to plug it in here i...  \n",
       "1             6                        good case  excellent value   \n",
       "2             5                             great for the jawbone   \n",
       "3            13  tied to charger for conversations lasting more...  \n",
       "4             5                                  the mic is great   "
      ]
     },
     "execution_count": 38,
     "metadata": {},
     "output_type": "execute_result"
    }
   ],
   "source": [
    "# Replace all special characters\n",
    "for char in unique_character:\n",
    " combine_df['clean_review'] = combine_df['clean_review'].str.replace(char, ' ',regex=True)\n",
    "\n",
    "#Remove Punctuation\n",
    "#combine_df['clean_review'] = combine_df['clean_review'].str.replace('[^\\w\\s]', '')\n",
    "\n",
    "combine_df.head()"
   ]
  },
  {
   "cell_type": "code",
   "execution_count": 39,
   "id": "3cd839bd",
   "metadata": {},
   "outputs": [],
   "source": [
    "# Import nltk functions, load stopwords\n",
    "#nltk.download('stopwords')\n",
    "#from nltk.corpus import stopwords"
   ]
  },
  {
   "cell_type": "code",
   "execution_count": 40,
   "id": "ddb3365f",
   "metadata": {},
   "outputs": [
    {
     "data": {
      "text/html": [
       "<div>\n",
       "<style scoped>\n",
       "    .dataframe tbody tr th:only-of-type {\n",
       "        vertical-align: middle;\n",
       "    }\n",
       "\n",
       "    .dataframe tbody tr th {\n",
       "        vertical-align: top;\n",
       "    }\n",
       "\n",
       "    .dataframe thead th {\n",
       "        text-align: right;\n",
       "    }\n",
       "</style>\n",
       "<table border=\"1\" class=\"dataframe\">\n",
       "  <thead>\n",
       "    <tr style=\"text-align: right;\">\n",
       "      <th></th>\n",
       "      <th>review</th>\n",
       "      <th>sentiments</th>\n",
       "      <th>word_count</th>\n",
       "      <th>tokens_count</th>\n",
       "      <th>clean_review</th>\n",
       "    </tr>\n",
       "  </thead>\n",
       "  <tbody>\n",
       "    <tr>\n",
       "      <th>0</th>\n",
       "      <td>So there is no way for me to plug it in here i...</td>\n",
       "      <td>0</td>\n",
       "      <td>21</td>\n",
       "      <td>22</td>\n",
       "      <td>way plug us unless go converter</td>\n",
       "    </tr>\n",
       "    <tr>\n",
       "      <th>1</th>\n",
       "      <td>Good case, Excellent value.</td>\n",
       "      <td>1</td>\n",
       "      <td>4</td>\n",
       "      <td>6</td>\n",
       "      <td>good case excellent value</td>\n",
       "    </tr>\n",
       "    <tr>\n",
       "      <th>2</th>\n",
       "      <td>Great for the jawbone.</td>\n",
       "      <td>1</td>\n",
       "      <td>4</td>\n",
       "      <td>5</td>\n",
       "      <td>great jawbone</td>\n",
       "    </tr>\n",
       "    <tr>\n",
       "      <th>3</th>\n",
       "      <td>Tied to charger for conversations lasting more...</td>\n",
       "      <td>0</td>\n",
       "      <td>11</td>\n",
       "      <td>13</td>\n",
       "      <td>tied charger conversations lasting minutes maj...</td>\n",
       "    </tr>\n",
       "    <tr>\n",
       "      <th>4</th>\n",
       "      <td>The mic is great.</td>\n",
       "      <td>1</td>\n",
       "      <td>4</td>\n",
       "      <td>5</td>\n",
       "      <td>mic great</td>\n",
       "    </tr>\n",
       "    <tr>\n",
       "      <th>...</th>\n",
       "      <td>...</td>\n",
       "      <td>...</td>\n",
       "      <td>...</td>\n",
       "      <td>...</td>\n",
       "      <td>...</td>\n",
       "    </tr>\n",
       "    <tr>\n",
       "      <th>2743</th>\n",
       "      <td>I think food should have flavor and texture an...</td>\n",
       "      <td>0</td>\n",
       "      <td>12</td>\n",
       "      <td>13</td>\n",
       "      <td>think food flavor texture lacking</td>\n",
       "    </tr>\n",
       "    <tr>\n",
       "      <th>2744</th>\n",
       "      <td>Appetite instantly gone.</td>\n",
       "      <td>0</td>\n",
       "      <td>3</td>\n",
       "      <td>4</td>\n",
       "      <td>appetite instantly gone</td>\n",
       "    </tr>\n",
       "    <tr>\n",
       "      <th>2745</th>\n",
       "      <td>Overall I was not impressed and would not go b...</td>\n",
       "      <td>0</td>\n",
       "      <td>10</td>\n",
       "      <td>11</td>\n",
       "      <td>overall impressed would go back</td>\n",
       "    </tr>\n",
       "    <tr>\n",
       "      <th>2746</th>\n",
       "      <td>The whole experience was underwhelming, and I ...</td>\n",
       "      <td>0</td>\n",
       "      <td>16</td>\n",
       "      <td>19</td>\n",
       "      <td>whole experience underwhelming think go ninja ...</td>\n",
       "    </tr>\n",
       "    <tr>\n",
       "      <th>2747</th>\n",
       "      <td>Then, as if I hadn't wasted enough of my life ...</td>\n",
       "      <td>0</td>\n",
       "      <td>28</td>\n",
       "      <td>32</td>\n",
       "      <td>wasted enough life poured salt wound drawing t...</td>\n",
       "    </tr>\n",
       "  </tbody>\n",
       "</table>\n",
       "<p>2748 rows × 5 columns</p>\n",
       "</div>"
      ],
      "text/plain": [
       "                                                 review  sentiments  \\\n",
       "0     So there is no way for me to plug it in here i...           0   \n",
       "1                           Good case, Excellent value.           1   \n",
       "2                                Great for the jawbone.           1   \n",
       "3     Tied to charger for conversations lasting more...           0   \n",
       "4                                     The mic is great.           1   \n",
       "...                                                 ...         ...   \n",
       "2743  I think food should have flavor and texture an...           0   \n",
       "2744                           Appetite instantly gone.           0   \n",
       "2745  Overall I was not impressed and would not go b...           0   \n",
       "2746  The whole experience was underwhelming, and I ...           0   \n",
       "2747  Then, as if I hadn't wasted enough of my life ...           0   \n",
       "\n",
       "      word_count  tokens_count  \\\n",
       "0             21            22   \n",
       "1              4             6   \n",
       "2              4             5   \n",
       "3             11            13   \n",
       "4              4             5   \n",
       "...          ...           ...   \n",
       "2743          12            13   \n",
       "2744           3             4   \n",
       "2745          10            11   \n",
       "2746          16            19   \n",
       "2747          28            32   \n",
       "\n",
       "                                           clean_review  \n",
       "0                       way plug us unless go converter  \n",
       "1                             good case excellent value  \n",
       "2                                         great jawbone  \n",
       "3     tied charger conversations lasting minutes maj...  \n",
       "4                                             mic great  \n",
       "...                                                 ...  \n",
       "2743                  think food flavor texture lacking  \n",
       "2744                            appetite instantly gone  \n",
       "2745                    overall impressed would go back  \n",
       "2746  whole experience underwhelming think go ninja ...  \n",
       "2747  wasted enough life poured salt wound drawing t...  \n",
       "\n",
       "[2748 rows x 5 columns]"
      ]
     },
     "execution_count": 40,
     "metadata": {},
     "output_type": "execute_result"
    }
   ],
   "source": [
    "# Remove stop words\n",
    "stop_word = stopwords.words('english')\n",
    "combine_df['clean_review'] = combine_df['clean_review'].apply(lambda x: \" \".join(x for x in x.split() if x not in stop_word))\n",
    "combine_df"
   ]
  },
  {
   "cell_type": "code",
   "execution_count": 41,
   "id": "57f84435",
   "metadata": {},
   "outputs": [
    {
     "data": {
      "text/html": [
       "<div>\n",
       "<style scoped>\n",
       "    .dataframe tbody tr th:only-of-type {\n",
       "        vertical-align: middle;\n",
       "    }\n",
       "\n",
       "    .dataframe tbody tr th {\n",
       "        vertical-align: top;\n",
       "    }\n",
       "\n",
       "    .dataframe thead th {\n",
       "        text-align: right;\n",
       "    }\n",
       "</style>\n",
       "<table border=\"1\" class=\"dataframe\">\n",
       "  <thead>\n",
       "    <tr style=\"text-align: right;\">\n",
       "      <th></th>\n",
       "      <th>review</th>\n",
       "      <th>sentiments</th>\n",
       "      <th>word_count</th>\n",
       "      <th>tokens_count</th>\n",
       "      <th>clean_review</th>\n",
       "    </tr>\n",
       "  </thead>\n",
       "  <tbody>\n",
       "    <tr>\n",
       "      <th>0</th>\n",
       "      <td>So there is no way for me to plug it in here i...</td>\n",
       "      <td>0</td>\n",
       "      <td>21</td>\n",
       "      <td>22</td>\n",
       "      <td>way plug us unless go converter</td>\n",
       "    </tr>\n",
       "    <tr>\n",
       "      <th>1</th>\n",
       "      <td>Good case, Excellent value.</td>\n",
       "      <td>1</td>\n",
       "      <td>4</td>\n",
       "      <td>6</td>\n",
       "      <td>good case excellent value</td>\n",
       "    </tr>\n",
       "    <tr>\n",
       "      <th>2</th>\n",
       "      <td>Great for the jawbone.</td>\n",
       "      <td>1</td>\n",
       "      <td>4</td>\n",
       "      <td>5</td>\n",
       "      <td>great jawbone</td>\n",
       "    </tr>\n",
       "    <tr>\n",
       "      <th>3</th>\n",
       "      <td>Tied to charger for conversations lasting more...</td>\n",
       "      <td>0</td>\n",
       "      <td>11</td>\n",
       "      <td>13</td>\n",
       "      <td>tied charger conversations lasting minutes maj...</td>\n",
       "    </tr>\n",
       "    <tr>\n",
       "      <th>4</th>\n",
       "      <td>The mic is great.</td>\n",
       "      <td>1</td>\n",
       "      <td>4</td>\n",
       "      <td>5</td>\n",
       "      <td>mic great</td>\n",
       "    </tr>\n",
       "    <tr>\n",
       "      <th>...</th>\n",
       "      <td>...</td>\n",
       "      <td>...</td>\n",
       "      <td>...</td>\n",
       "      <td>...</td>\n",
       "      <td>...</td>\n",
       "    </tr>\n",
       "    <tr>\n",
       "      <th>2743</th>\n",
       "      <td>I think food should have flavor and texture an...</td>\n",
       "      <td>0</td>\n",
       "      <td>12</td>\n",
       "      <td>13</td>\n",
       "      <td>think food flavor texture lacking</td>\n",
       "    </tr>\n",
       "    <tr>\n",
       "      <th>2744</th>\n",
       "      <td>Appetite instantly gone.</td>\n",
       "      <td>0</td>\n",
       "      <td>3</td>\n",
       "      <td>4</td>\n",
       "      <td>appetite instantly gone</td>\n",
       "    </tr>\n",
       "    <tr>\n",
       "      <th>2745</th>\n",
       "      <td>Overall I was not impressed and would not go b...</td>\n",
       "      <td>0</td>\n",
       "      <td>10</td>\n",
       "      <td>11</td>\n",
       "      <td>overall impressed would go back</td>\n",
       "    </tr>\n",
       "    <tr>\n",
       "      <th>2746</th>\n",
       "      <td>The whole experience was underwhelming, and I ...</td>\n",
       "      <td>0</td>\n",
       "      <td>16</td>\n",
       "      <td>19</td>\n",
       "      <td>whole experience underwhelming think go ninja ...</td>\n",
       "    </tr>\n",
       "    <tr>\n",
       "      <th>2747</th>\n",
       "      <td>Then, as if I hadn't wasted enough of my life ...</td>\n",
       "      <td>0</td>\n",
       "      <td>28</td>\n",
       "      <td>32</td>\n",
       "      <td>wasted enough life poured salt wound drawing t...</td>\n",
       "    </tr>\n",
       "  </tbody>\n",
       "</table>\n",
       "<p>2748 rows × 5 columns</p>\n",
       "</div>"
      ],
      "text/plain": [
       "                                                 review  sentiments  \\\n",
       "0     So there is no way for me to plug it in here i...           0   \n",
       "1                           Good case, Excellent value.           1   \n",
       "2                                Great for the jawbone.           1   \n",
       "3     Tied to charger for conversations lasting more...           0   \n",
       "4                                     The mic is great.           1   \n",
       "...                                                 ...         ...   \n",
       "2743  I think food should have flavor and texture an...           0   \n",
       "2744                           Appetite instantly gone.           0   \n",
       "2745  Overall I was not impressed and would not go b...           0   \n",
       "2746  The whole experience was underwhelming, and I ...           0   \n",
       "2747  Then, as if I hadn't wasted enough of my life ...           0   \n",
       "\n",
       "      word_count  tokens_count  \\\n",
       "0             21            22   \n",
       "1              4             6   \n",
       "2              4             5   \n",
       "3             11            13   \n",
       "4              4             5   \n",
       "...          ...           ...   \n",
       "2743          12            13   \n",
       "2744           3             4   \n",
       "2745          10            11   \n",
       "2746          16            19   \n",
       "2747          28            32   \n",
       "\n",
       "                                           clean_review  \n",
       "0                       way plug us unless go converter  \n",
       "1                             good case excellent value  \n",
       "2                                         great jawbone  \n",
       "3     tied charger conversations lasting minutes maj...  \n",
       "4                                             mic great  \n",
       "...                                                 ...  \n",
       "2743                  think food flavor texture lacking  \n",
       "2744                            appetite instantly gone  \n",
       "2745                    overall impressed would go back  \n",
       "2746  whole experience underwhelming think go ninja ...  \n",
       "2747  wasted enough life poured salt wound drawing t...  \n",
       "\n",
       "[2748 rows x 5 columns]"
      ]
     },
     "execution_count": 41,
     "metadata": {},
     "output_type": "execute_result"
    }
   ],
   "source": [
    "# Remove specific words that occur in both positive and negative reviews\n",
    "negative_review = combine_df[combine_df.sentiments == 0]['clean_review']\n",
    "positive_review = combine_df[combine_df.sentiments == 1]['clean_review']\n",
    "\n",
    "# Word remover\n",
    "def word_remover(review):\n",
    "    return ' '.join([i for i in review.split() if i not in ['film', 'get', 'good', 'like', 'movi', 'phone', 'work']])\n",
    "\n",
    "negative_review = negative_review.apply(word_remover)\n",
    "positive_review = positive_review.apply(word_remover)\n",
    "\n",
    "combine_df"
   ]
  },
  {
   "cell_type": "code",
   "execution_count": 42,
   "id": "43f28b9f",
   "metadata": {},
   "outputs": [
    {
     "data": {
      "text/plain": [
       "'several dozen several hundred contacts imagine fun sending one one'"
      ]
     },
     "execution_count": 42,
     "metadata": {},
     "output_type": "execute_result"
    }
   ],
   "source": [
    "#Check sample review #6\n",
    "combine_df.clean_review[6]"
   ]
  },
  {
   "cell_type": "code",
   "execution_count": 43,
   "id": "565dd209",
   "metadata": {},
   "outputs": [
    {
     "data": {
      "image/png": "[encoded data removed]",
      "text/plain": [
       "<Figure size 1080x360 with 1 Axes>"
      ]
     },
     "metadata": {
      "needs_background": "light"
     },
     "output_type": "display_data"
    },
    {
     "data": {
      "image/png": "[encoded data removed]",
      "text/plain": [
       "<Figure size 1080x360 with 1 Axes>"
      ]
     },
     "metadata": {
      "needs_background": "light"
     },
     "output_type": "display_data"
    }
   ],
   "source": [
    "#visualization\n",
    "split_df = [positive_review, negative_review]\n",
    "\n",
    "for item in range(2):\n",
    "    plt.figure(figsize = (15, 5))\n",
    "    pd.Series(' '.join([i for i in split_df[item]]).split()).value_counts().head(20).plot(kind = 'bar')\n",
    "    plt.show();"
   ]
  },
  {
   "cell_type": "markdown",
   "id": "fcaeea69",
   "metadata": {},
   "source": [
    "**B2. The tokenization process**\n",
    "\n",
    "\"Tokenization is the process of breaking down a piece of text into small units called tokens. A token may be a word, part of a word or just characters like punctuation.\" (Tal, 2021) The tokenization process is the foundation of NLP analysis. It defines and helps us understand the context of breaking down the text/sentence into the words/sentences called tokens for analysis. I use Scikit-Learn, TensorFlow, and Keras for the tokenization process. Please see the tokenization process below. The parameter was used:\n",
    "\n",
    "* Vacab_size is training at 2200 words which is the maximum number of unique words used in the model\n",
    "* embedding_dim is 16 dimensions\n",
    "* max_length of each review limited to 100 words per customer review\n",
    "* trunc_type is after 100 words, truncate type is 'post.'\n",
    "* oov_tok is out of vocabulary to replace the unknown words\n",
    "* padding_type is applied at the end of the review; padding type is 'post.'"
   ]
  },
  {
   "cell_type": "code",
   "execution_count": 44,
   "id": "d816ace6",
   "metadata": {},
   "outputs": [
    {
     "name": "stdout",
     "output_type": "stream",
     "text": [
      "Shape of training set: 2198\n",
      "Shape of test set: 550\n"
     ]
    }
   ],
   "source": [
    "#1. Split the data set\n",
    "from sklearn.model_selection import train_test_split\n",
    "\n",
    "# Set predictor and outcome variables\n",
    "X = combine_df['clean_review']\n",
    "y = combine_df['sentiments']\n",
    "X_train, X_test, y_train, y_test = train_test_split(X, y, test_size = 0.20, random_state = 42)\n",
    "\n",
    "# Print size of data splits\n",
    "print('Shape of training set:', X_train.shape[0])\n",
    "print('Shape of test set:', X_test.shape[0])"
   ]
  },
  {
   "cell_type": "code",
   "execution_count": 45,
   "id": "d501dcb6",
   "metadata": {},
   "outputs": [],
   "source": [
    "#X,y = combine_df['review'].values,combine_df['sentiments'].values\n",
    "#x_train,x_test,y_train,y_test = train_test_split(X,y,stratify=y, test_size = 0.20)"
   ]
  },
  {
   "cell_type": "code",
   "execution_count": 46,
   "id": "9698f02a",
   "metadata": {},
   "outputs": [],
   "source": [
    "#2. Split the data set in 80/20 training and testing\n",
    "\n",
    "split = round(len(combine_df)*0.8)\n",
    "train_reviews = combine_df['clean_review'][:split]\n",
    "train_label = combine_df['sentiments'][:split]\n",
    "test_reviews = combine_df['clean_review'][split:]\n",
    "test_label = combine_df['sentiments'][split:]"
   ]
  },
  {
   "cell_type": "code",
   "execution_count": 47,
   "id": "f7c394f6",
   "metadata": {},
   "outputs": [],
   "source": [
    "#3. After tokenization, set up the split \n",
    "train_sentences = []\n",
    "train_labels = []\n",
    "test_sentences = []\n",
    "test_labels = []\n",
    "\n",
    "for row in train_reviews:\n",
    "    train_sentences.append(str(row))\n",
    "for row in train_label:\n",
    "    train_labels.append(row)\n",
    "for row in test_reviews:\n",
    "    test_sentences.append(str(row))\n",
    "for row in test_label:\n",
    "    test_labels.append(row)"
   ]
  },
  {
   "cell_type": "code",
   "execution_count": 48,
   "id": "6ac765e8",
   "metadata": {},
   "outputs": [],
   "source": [
    "#4. Set parameters for vocab\n",
    "# Train at 2200 words\n",
    "vocab_size = 2200\n",
    "\n",
    "# 16 dimensions\n",
    "embedding_dim = 16\n",
    "\n",
    "# Max length of each review limited to 100 words per review\n",
    "max_length = 100\n",
    "\n",
    "# Truncating after 100 words \n",
    "trunc_type = 'post'\n",
    "oov_tok = '<OOV>'\n",
    "\n",
    "# Padding applied at the end of the review\n",
    "padding_type = 'post'\n"
   ]
  },
  {
   "cell_type": "code",
   "execution_count": 49,
   "id": "d3d5c2dc",
   "metadata": {},
   "outputs": [
    {
     "name": "stdout",
     "output_type": "stream",
     "text": [
      "The vocab has  4488  words.\n"
     ]
    }
   ],
   "source": [
    "# Tokenizer\n",
    "tokenizer = Tokenizer(num_words=vocab_size, oov_token=oov_tok)\n",
    "\n",
    "# Fit the tokenizer - train set\n",
    "tokenizer.fit_on_texts(train_sentences)\n",
    "\n",
    "# Word index\n",
    "word_index = tokenizer.word_index\n",
    "\n",
    "print('The vocab has ',str(len(word_index)),' words.')"
   ]
  },
  {
   "cell_type": "markdown",
   "id": "f234d9cb",
   "metadata": {},
   "source": [
    "**B3. Padding Process**\n",
    "\n",
    "In this assignment, we use the Keras padding process and the post-argument to pad sentences at the end when we have a sentence length of fewer than 100 words."
   ]
  },
  {
   "cell_type": "code",
   "execution_count": 50,
   "id": "3a0ba5c8",
   "metadata": {},
   "outputs": [],
   "source": [
    "#1. Setting sequences and padding\n",
    "sequences = tokenizer.texts_to_sequences(train_sentences)\n",
    "\n",
    "# Setting padding\n",
    "padded = pad_sequences(sequences, maxlen=max_length, truncating=trunc_type)\n",
    "test_sentences = tokenizer.texts_to_sequences(test_sentences)\n",
    "test_padded = pad_sequences(test_sentences, maxlen=max_length)"
   ]
  },
  {
   "cell_type": "code",
   "execution_count": 51,
   "id": "12b368eb",
   "metadata": {},
   "outputs": [
    {
     "name": "stdout",
     "output_type": "stream",
     "text": [
      "\n",
      "Training sequences:\n",
      " ['way plug us unless go converter', 'good case excellent value', 'great jawbone', 'tied charger conversations lasting minutes major problems', 'mic great', 'jiggle plug get line right get decent volume', 'several dozen several hundred contacts imagine fun sending one one', 'razr owner must', 'needless say wasted money', 'waste money time', 'sound quality great', 'impressed going original battery extended battery', 'two seperated mere ft started notice excessive static garbled sound headset', 'good quality though', 'design odd ear clip comfortable', 'highly recommend one blue tooth phone', 'advise everyone fooled', 'far good', 'works great', 'works great', 'clicks place way makes wonder long mechanism would last', 'went motorola website followed directions could get pair', 'bought use kindle fire absolutely loved', 'commercials misleading', 'yet run new battery two bars three days without charging', 'bought mother problem battery', 'great pocket pc phone combination', 'owned phone months say best mobile phone', 'think instructions provided helpful', 'people couldnt hear talk pull earphone talk phone', 'hold charge', 'simple little phone use breakage unacceptible', 'product ideal people like whose ears sensitive', 'unusable moving car freeway speed', 'two years left contract hate phone', 'car charger well ac charger included make sure never run juice highy recommended', 'need least mins get phone book time first turn phone battery life short', 'kept well', 'poor talk time performance', 'case great works fine', 'worthless product', 'great camera thats mp pics nice clear great picture quality', 'impressed product', 'nice headset priced right', 'hear garbage audio', 'excellent bluetooth headset', 'features want', 'right mind gonna buy battery', 'arguing verizon regarding dropped calls returned phones two days', 'case seems well made', 'disappointed battery', 'loud enough turn like', 'good protection make phone bulky', 'usable keyboard actually turns pda real world useful machine instead neat gadget', 'phone pretty sturdy never large problems', 'love thing', 'everything fine reasonable price e', 'disappointed', 'even dropped phone stream submerged seconds still works great', 'happy complaints one regarding sound quality end', 'buttons bad', 'essentially forget microsoft tech support', 'really recommend faceplates since looks nice elegant cool', 'headphones great find think perhaps best purchase made last several years seriously', 'buy different phone', 'hold phone particular angle party hear clearly', 'one big drawback mp player buttons phone front cover let pause skip songs lock seconds', 'week later activated suddenly died', 'feels comfortable headsets wear glasses gets way sometimes', 'great ipods', 'device great several situations', 'mic work', 'even bmw series fairly quiet trouble hearing person saying', 'great choice', 'nice docking station home work', 'beautiful phone', 'love product', 'buy wrongly advertised', 'great little item', 'love phone handy lot features', 'purchased within days longer working', 'wear everyday holds well', 'good bargain', 'well packaged arrived time works intended', 'battery runs quickly', 'item worked great broke months use', 'headsets easy use everyone loves', 'phone works great', 'construction headsets poor', 'product excellent works better verizon one boy cheaper', 'phone loads super', 'product costs much one expect work far better greater ease thing', 'made sturdy', 'worked great', 'ear buds play music one ear', 'dont waste money', 'order', 'plan use car forget', 'found product waaay big', 'best found far tried bluetooths one best quality listener well ease using', 'disappointed decision', 'integrated seamlessly motorola razr phone', 'buyer beware could flush money right toilet', 'definitely bargain', 'price good free shipping good purchase', 'received supposedly new motorola apparently match phone charger', 'pros good camera nice pictures also cool styles like black white', 'huge design flaw unless using correctly think case', 'love headset jabra bluetooth headset great reception good ear piece comfortable fit', 'camera although rated impressive megapixels renders images fall well expectations relatively high resolution', 'purcashed car charger work', 'sound quality end excellent use headset call wife ask wife use headset call', 'phone slim light display beautiful', 'little geeky think thats sex toast rocks oozes sex right battery embedded sleek stylish leather case', 'great product fast shipping', 'absolutely great', 'keyboard nice compromise full qwerty basic cell phone number keypad', 'got phone around end may completely unhappy', 'comfortable ear', 'winner us', 'setup simpler', 'tried several different earpieces cell phone jabra one first one found fits ear comfortably', 'could get strong enough signal', 'iam pleased purchase', 'bad quality', 'gets job done', 'great audio', 'basically service bad', 'work cell phone plug set charger', 'bluetooth weeks really like', 'bt headset disapoinment', 'small even realize getting used', 'accompanied software almost brilliant', 'headset works great packaged nicely avoid damage', 'definitly recommend', 'buyer careful', 'majority logitech earbud headsets failed', 'good stuff price', 'headset works peachy keen', 'house getting dropped coverage upstairs coverage basement', 'voice recognition tremendous', 'waste', 'several different minute calls experienced drops area bars', 'happy item', 'disappointed', 'phone takes forever charge like hours literally', 'got phone reccomendation relative glad', 'waste time', 'reception poor', 'items stated included description included', 'months screen went black sudden', 'hoping', 'audio quality poor poor', 'absolutely problem headset linking blackberry curve', 'know sounds funny seemed like sketchy technology work well well one works great', 'bought $ wired headphones sound better', 'phone fast sending kind messages web browsing significantly faster previous phones used', 'nice quality build unlike cheap', 'item fantastic works perfectly', 'love colors', 'wi superb', 'whine internet goes use thing less like', 'great charger', 'essentially communications tool communicate', 'works like charm work one got phone', 'still maintain monkeys make headphones obviously share enough dna copy design humans', 'great value', 'work bougth lc working', 'look sharp screen nice clear great graphics', 'last long', 'one thing hate mode set button side', 'excellent service', 'thank wasting money', 'audio quality poor', 'igo chargers tips really great', 'file browser offers options one needs handsfree great', 'superb phone great network', 'connected wife bluetooth motorola hs phone worked like charm whether phone pocket case', 'put latest os v g likes slow crawl lock every', 'recognizes phone storage device', 'like loud buzzing override conversations phone', 'like loud buzzing override conversations phone', 'buy product', 'buy product', 'bluetoooth headset time still comfortable way fits ear', 'sound quality good functionality awesome', 'phone thorn side really abhor', 'recently problems could stay connected minutes disconnected', 'incredible', 'design flaw', 'great phone', 'great phone', 'waste bucks', 'check voice mail night keypad backlight turns seconds first message lost', 'replacement died weeks', 'ring tone overall good phone buy', 'lately extremely nice helpful phone', 'problems wit hit dropping signal', 'impressed', 'light weight hardly notice', 'love thin', 'bad choice', 'pleather case fit', 'useless phone simply deaf', 'color even prettier thought would graphics incredibly sharp', 'think good investment', 'makes strange ticking noises ends call', 'best electronics available fm transmitters', 'battery lasts hours', 'great headset impressed h', 'mega pixel camera part phone reasonably good', 'nearly years worked great', 'good transmit audio', 'sending back', 'bother contacting company dollar product learned lesson bought form online anyway', 'hate earbugs avoid phone means', 'great price also', 'range decent able roam around house phone living room reception sound quality issues', 'fast service', 'would highly recommend', 'would recommend', 'also like button felt like would crack use', 'worst phone ever', 'still infatuated phone', 'freezes frequently', 'kind embarrassing use looks mostly embarrassing child like company', 'simple lightweight great fit', 'expected better consumer experience motorola', 'horrible tick sound background calls never experienced', 'certainly comfortable functionality decent', 'usually like headbands one lightweight mess hair', 'bit disappointed', 'phone year tell great', 'ordered sony ericsson wi think worked thats first used', 'battery completely useless', 'big waste time', 'waste $$$ one', 'great sound service', 'really pleased product far', 'one favorite purchases ever', 'best bluetooth market', 'authentic leather nice shine comfort recommend case', 'excited get headset thought really cute', 'make mistake', 'big disappointment calendar sync', 'phone unusable new', 'worst customer service ever', 'additional ear gels provided instructions whatsoever', 'defeats purpose bluetooth headset', 'worth every penny', 'excellent wallet type phone case', 'nice headphones price work great', 'internet excrutiatingly slow', 'comfortable wear well probably important aspect using case', 'fits like glove strong secure durable', 'gosh best phone ever', 'attractive appears good quality', 'love features form factor', 'product strong rubber petroleum smell unbearable caused return', 'poor quality service', 'cable looks thin flimsy scary', 'great earpiece', 'excellent hands free tool', 'great using home stereo', 'good product incredible value', 'month worked flawlessly far', 'works great', 'works great', 'absolutel junk', 'one work either', 'battery life real good', 'returned hours later', 'great item', 'waste money', 'love headset', 'drain player may also potentially fry', 'worked perfectly', 'unreliable giving', 'gave stars sound quality', 'avoid one', 'reversible plug works great', 'wasted little money earpiece', 'good phone', 'best rotating feature helpful', 'comfort whole family', 'good product good seller', 'love bluetooth', 'first wear well', 'impressed headset plantronics', 'got small adorable', 'recommend buying product', 'piece junk', 'poorly contstruct hinge', 'item great installed let charged overnite working good every since problems', 'great phone', 'great phone', 'buy', 'excellent phone', 'purchase phone', 'voice recognition thru handset excellent', 'hands best phone ever', 'works great cat attacked phone scratched protective strip instead destroying screen', 'one works priced right', 'customer service terrible', 'battery life still long enough motorola razor vi', 'sending back', 'know made wise decision', 'someone shouldve invented sooner', 'good price', 'everything worked first try device certainly engineered clever way construction feels good', 'received quickly works great', 'working great', 'many people complained found headset microphone weak', 'year old nokia tracfone holds charge lot better', 'care consumer one bit', 'good battery got really fast', 'instruction manual lacking', 'also slim enough fit alarm clock docking station without removing case', 'phone holds charge like new', 'battery unreliable well service use antena', 'uncomfortable sound quality quite poor compared phone razr previous wired headset plugged lg', 'gotten lot compliments', 'definitely must state allow cell phone usage driving', 'want money back', 'love device', 'also happy price', 'ordered product first unhappy immediately', 'ngage still lacking earbuds', 'able voice dialing car problem', 'bars cell phone home cant hear anything', 'good item low price', 'however riingtones best neither games', 'plug work well', 'amazon sucks', 'rip charge shipping', 'comfortable', 'battery working well replacement original came phone years ago', 'reception excellent', 'fits comfortably either ear sound clear loud charge lasts couple days', 'clear quality sound mess sound ipod since sound buttons headset', 'long lasting battery recharge frequentyly flip phones', 'obviously problem adhesive', 'disappointing', 'inexpensive piece would still expected better quality', 'practically useless add kind boost reception bought', 'excellent sound quality', 'happy', 'piece junk broke phone days', 'new battery works great phone', 'worst customer service', 'dropped phone times say even concrete phone still great knock wood', 'reception terrible full static', 'good audio quality', 'little device transformed organizational capability made life whole lot easier', 'sitting vehicle cradle belt headset lost signal', 'jerks phone', 'works like charm works advertised', 'comfortable nice range good battery life', 'network coverage los angeles horrible', 'excellent starter wireless headset', 'loudspeaker option great bumpers lights appealing', 'thing think could improve sound leaks headset', 'first reception sucks never bars ever', 'phone gets extremely hot', 'microphone also works well according people called applifies everything', 'nice design quality', 'also phone dropped case going save specially dropped face', 'light easy use clear reception transmission', 'bad fit way big', 'definitely good', 'awesome device', 'waste money', 'ordered motorola data cable got well finished working product', 'love phone', 'looking headset long time got happier', 'drivng along headset starts ringing reason', 'display excellent camera good year', 'battery life also great', 'worst phone ever months', 'good item worked started problems auto reverse tape player', 'embarassing also ears hurt try push ear plug ear', 'protects phone sides', 'average phone bad battery life operates weak network', 'clear skype calls long battery life long range', 'soyo technology sucks', 'great hands free device', 'even take self portraits outside exterior display cool', 'problem others mentioned', 'trying many many handsfree gadgets one finally works well', 'magical help', 'worst piece crap ever along verizon customer service', 'poor sound quality', 'best phone market', 'worked well', 'company shipped product promptly works well', 'exactly wanted', 'picture resolution far comparably priced phones offering today', 'great deal', 'great deal', 'excellent product satisfied purchase', 'highly recommend encourage people give try', 'better expect', 'using earpieces left right thing stay ear', 'great product price', 'sounds good reasonably priced effective simple', 'still waiting sure item would work well ever recieve', 'disappointment', 'prompt service', 'excellent product price', 'excellent product price', 'pleased headset', 'waste money time', 'especially love long battery life', 'stupid keep buying new chargers car chargers cradles headphones car kits every time new phone comes', 'plantronics bluetooth excelent buy', 'came verizon cingulair nicer cell phones first thing noticed really bad service', 'looking new earpiece', 'highly recommend device everyone', 'jawbone era awesome', 'received white colored battery goes dead couple hoursthe original used last week still lasts longer thereplacement', 'year battery went completely dead headset', 'used several phone two years one best', 'awesome new look fall', 'first phone cheaply made', 'att clear sound distorted yell talk', 'plastic breaks really easy clip', 'price good', 'make mistake', 'oh forgot also mention weird color effect phone', 'using iriver spinn case fits fine', 'also area unit broke fond magnetic strap', 'overall psyched phone appointments contacts gets great reception', 'every thing phone work perfectly like', 'another note phone appearance really looks rather bland especially black model', 'really easy', 'sanyo survived dozens drops blacktop without ill effect', 'fantastic earphones', 'finds cell phone right away enter car', 'low quality', 'highly recommend modest priced cellular phone', 'get better reception clarity phone', 'warning stay away', 'wish could return unit get back money', 'awsome device works great', 'used talk hours battery would literally drained dying', 'find bad unit comes one earpad would recommend anyone', 'displeased', 'might gotten defect would risk buying built quality alone', 'made case small difficult install', 'restored phone like new performance', 'would recommend purchasing jabra jx series works flawlessly moto q go figure', 'searched internet found one best value', 'fit', 'fit', 'happy product', 'screen size big key pad lit well enough camera quality excellent camera phone', 'really nothing bad say headset', 'glad found product amazon hard find high priced', 'portable works', 'colleague get great reception little expensive performance great', 'even fully charged went bed turned blue tooth wi fi noticed left morning', 'also problems phone reading memory card always turn', 'good wearing hat sunglasses', 'timely shipment quality product', 'nice solid keyboard', 'well made fits surefire gx perfectly', 'horrible phone', 'bt battery junk', 'would recommend others', 'cant get software work computer', 'disappointed', 'poor voice clarity', 'battery works great', 'buyers remorse one', 'disappointed accessoryone', 'find inexcusable probably returning phone perhaps changing carriers', 'looks great strong', 'tmobile service years pretty happy', 'update procedure difficult cumbersome', 'disappointment hate anything goes ear', 'great software motorolas', 'delivery time', 'easy use', 'uncomfortable ear use lg vx env', 'volume switch rocketed unit destination unknown', 'holds charge long time reasonably comfortable long wearing conditions quality sound tremendous', 'like return', 'keyboard really worthwhile usefulness sturdy enough expect problems', 'verizon bills however difficult understand even though pricing plans simple', 'charging overnight batteries work great', 'regret', 'love phone', 'disappointment', 'user friendly', 'unfortunately ability actually know receiving call rather important feature phone pitiful respect', 'exchanged phone even problem', 'results phone either stuck max volume mute', 'pda rocks', 'super charged use small hybrid palmtop camera cellphone excels roles', 'would definitely recommend jabra btv looking comfort clarity great price', 'verizon years ago really liked service', 'pretty piece junk', 'plug wrong size', 'works described', 'save money item months', 'bad purchase', 'well im satisfied', 'bose noise cancelling amazing important nyc commuter', 'battery excellent bargain', 'defective crap', 'would given star able', 'wear glasses fits fine', 'sound quality device unacceptable unless really quiet area almost hear nothing', 'would recommend item anyone', 'holster arrived match photo ad', 'great problems', 'earlier review noted plug charger nothing happens', 'frog phone charm adorable eye catching', 'never know pushed hard enough right number times function want', 'sound clear people talk amazed quality', 'got aluminum case new palm vx worked really well protected handheld perfectly far', 'good product well made', 'mobile phone tools must', 'impressed job motorola sturdiness phone', 'received orders well within shipping timeframe everything good working order overall excited source', 'phone sturdy waterproof', 'impressed would recommend item anyone', 'complaint standard sound volume little low even turned', 'thanks amazon things need good price', 'ended sliding edge pants back pockets instead', 'go store bought new nokia phone working great', 'really ugly', 'horrible switch times', 'noise shield incrediable', 'real improvement', 'razr battery good buy', 'keep good work amazon', 'refuse refund replace', 'unfortunately easy accidentally activate gentle touch buttons accidentally touch phone face listening', 'basically threw money window nothing', 'great case price', 'took one drop inches kitchen counter cracked impressed laughing', 'bluetooth range good days ago left phone trunk got call carried conversation without hitch', 'small sleek impressive looking practical setup ample storage place', 'eargels channel sound directly ear seem increase sound volume clarity', 'none new ones ever quite worked properly', 'glad purchased', 'missed numerous calls reason', 'perhaps phone defective people cannot hear use', 'sucked stuff work phone', 'shifting bubbling peeling even scratch nothing happier new one droid', 'worst software ever used could give zero stars would', 'trying make call exercise frustration', 'case flimsy piece plastic front side protection whatsoever', 'jabra earset happy sound quality especially outgoing better', 'love camera really pretty good quality', 'thank great service', 'total package', 'seller understanding patient would definitely buy', 'give wirefly star contact cingular inform practice', 'aggravating', 'great product price', 'purchased family friends enjoy clarity ease use', 'virgin wireless rocks cheap little phone', 'none works buy', 'muddy low quality sound casing around wire insert poorly super glued slid', 'please dont waste money', 'quite satisfied purchase', 'looking good quality motorola headset keep looking', 'yet plantronincs continues use flawed charger design', 'disapointing results', 'cumbersome design', 'great new packaged nice works good problems came less time expected', 'great product', 'piece crap', 'experience terrible fourth bluetooth headset much comfortable last jabra hated', 'fixes problems', 'worst ever', 'happy', 'trouble accessing internet downloading ringtones performing functions', 'barely ever hear constantly saying', 'battery life highly unacceptable', 'company joke', 'everything description said would', 'due happening every call forced stop using headset', 'works great car charger especially cannot plug two adapters time', 'verizon tech support walked procedures none worked ended hard set wiping data', 'voice quality signal strength dropped calls', 'plays louder speaker size price low would think quality lacking however', 'better expected', 'feels poorly constructed menus difficult navigate buttons recessed difficult push', 'battery holding well', 'also difficult put recommend avoiding product', 'used two days always easy hear', 'got car charger even week charger broken went plug started smoking', 'sprint terrible customer service', 'linked phone without effort', 'cool', 'easy use', 'better new', 'possesed get junk idea', 'piece trash', 'pretty good product', 'great phone', 'price amazon excellent product would highly recommend', 'research development division obviously knows', 'real killer volume course breaking', 'phones working fine', 'happy product', 'poor construction', 'infuriating', 'overall would recommend phone new walkman', 'sprint charges service', 'cheap feel look cheap', 'fits ear well comfortable', 'work europe asia', 'clipping belt deffinitely make feel like cent coming', 'like design look jabra behing ear headsets pretty comfortible wear hours day without pain ear', 'amazed quick arrival two original lg cell phone batteries fraction price', 'worst phone samsung crap crappy samsung e worst ever seeen', 'charger worked week completely stopped charging phone', 'poor product', 'however needed better instructions', 'need two hands operate screen software interface decade old cannot compete new software designs', 'worked well paired treo w skype headset pc using usb bluetooth transceiver', 'steer clear product go genuine palm replacementr pens come three pack', 'buy buyit sucks', 'great product sure beats using fingers', 'plus seriously believe worth steep price point', 'cases tried normally fall apart months one seems long haul', 'dissapointing performance', 'make mistake please buy phone', 'phone might well worst ever brand', 'case less extra originally put later discarded scratched ear', 'recommend igo anyone different brand cell phones mp players family', 'bother go store', 'posted detailed comments grey black phone fire red great color', 'problem item would order needed', 'get pay guess', 'software great job could also make ringtones form existing cds without internet connection', 'im surprised good quality car charger much reviews', 'fabulous', 'however bt headsets currently good real time games like first person shooters since audio delay messes', 'used bitpim free program find internet transfer data phone price cable excellent', 'disappointing accessory good manufacturer', 'performed awful muffled tinny incoming sound severe echo end call', 'wind resistant', 'obviously terrible customer service get pay', 'last forever overly expensive replace easy operate sound much better others tried', 'contacted company told although unit still warranty produce receipt luck', 'linksys way exchange bad phone refurb unit something', 'phone sturdy nokia bar phones', 'great phone', 'great phone', 'placed treo case snug lot extra room sides', 'pleased', 'battery terrible', 'found product easy set use', 'earpiece large heavy keeps falling ear', 'utter crap sound quality terrible', 'charger arrived within promised timeframe work', 'ear loop needed tiny sound great', 'finally three four times spring latch broke could use longer visor', 'handsfree part works fine car tries download address book treo reboots overall still rate device high', 'talk useless customer service', 'felt light tinny', 'fit palm tungsten e broke first time tried plug', 'happy purchase good quality low price', 'love look feel samsung flipphones', 'well designed sharp blue nice color', 'everything', 'could recommend', 'nice sound', 'looks good picture case huge disappointment', 'much less jawbone going replace', 'setup went smoothly', 'extremely slow takes forever anything', 'must study anyone interested worst sins industrial design', 'first thing happened tracking', 'well made easy access phone handy detachable belt clip', 'continue pairing periodically since somehow kept dropping', 'upload ringtones third party', 'bluetooth work phone locks screens flash makes calls randomly pocket locked', 'truly awful', 'works fine motorola cellphone lot better worn battery', 'volume ringer real good choices loud', 'none tones acceptable', 'camera color balance awful', 'product clearly ready prime time care cool looks tell call coming worthless', 'love ringtones upbeat', 'chinese forgeries abound', 'easy pair samsung cell', 'instructions explain microphone jack could used', 'would advise purchase item never worked well', 'bad pay $$$ month service', 'works well', 'nokia ca usb cable work phone', 'clear crisp sound', 'use smallest earpieces provided stays pretty well', 'biggest complaint battery drains superfast', 'design might ergonomic theory could stand ear', 'buy want use holster', 'phone also take great pictures even video clips', 'make look cool', 'ears occupied background distracting', 'comfortable fit need headset comfortable least hour time entire day', 'also phone seem accept anything except cbr mps preferably ripped windows media player', 'beat price', 'comes strong light use light camera shots even flash sos signals seriously', 'lightweight works well', 'beware', 'love cable allows connect mini usb device pc', 'anyone near hear part conversation', 'cool cases open allowing screen get scratched', 'bought phone replacement startac regretted since', 'appears actually outperform original battery china came vi', 'store anything phone numbers sim', 'lasts less minutes actually try use phone wife phone problem', 'poor quality', 'jabra ear gels r best', 'worth', 'phone crashed completely get replaced', 'quit working used months purchased another one best headset ever owned', 'unfortunately recharge iphone despite connecting multiple power sources imac external battery wall outlet etc', 'great phone', 'simply want small flip phone look elsewhere extra bells whistles mediocre', 'good value works fine power via usb car wall outlet', 'phone slide around car grip prevents phone slipping hand', 'simply best bluetooth headset sound quality', 'think plan one sure last moto phone', 'span hour two people exclaim whoa new phone tv', 'always used corded headsets freedom wireless helpful', 'case passed one year mark shows signs wear functional', 'leather nice soft fit tight cut face good shape', 'everything need ask', 'receiving using product days broke', 'product great makes working lot easier go copier waiting hold something', 'none three sizes sent headset would stay ears', 'mobile best customer service anywhere', 'arrived quickly much less expensive others sold', 'tried units failed within months pros', 'provides good protection looks classy', 'krussel always good', 'tracfonewebsite user friendly makes easy toactivate etc', 'design good', 'great reception time', 'would highly recommend product', 'use unit sunglasses good texas', 'dit work time nokia', 'bought mainly charger broke soon purchasing', 'fantastic buy get whatever next phone', 'stay away store careful', 'blueant supertooth hands free phone speaker awesome', 'item arrived quickly works great metro pcs samsung sch r slider phone sony premium sound ear plugs', 'light plenty battery capacity confortable wear somewhat extended periods time', 'disappointing', 'blue ant easy use', 'cheap hey works pleasantly suprised given low cost item', 'camera phone may used dustpan indoors rather using disposable', 'days later puff smoke came phone use', 'convenient simple use gets job done makes car ride much smoother', 'nano stated son dissapointed', 'sound quality excellent well', 'best headset used', 'would reccommend', 'around years carries highest quality anti glare screen protector found date', 'wanted', 'particular model would work motorola q smartphone', 'wont work right atleast', 'addition feels amp looks phone lightweight cheap plastic', 'warranty problems reoccure bottom line put money somewhere else cingular support', 'really wanted plantronics right one many issues good', 'great product', 'crisp clear', 'first charge kept going dead minutes', 'cheap plastic creaks like old wooden floor', 'get absolutely horrible reception apartment phones problem', 'reception generally good', 'excellent sound battery life inconspicuous boot', 'great bluetooth', 'highly recommend case', 'worthwhile', 'phone got year old slowly breaking despite much care part', 'sorry made purchase', 'bought hoping could make bluetooth headset fit better things made impossible wear', 'treo mobile refused replace forced buy another phone without kind upgrade discount', 'horrible', 'think would hold securly belt', 'allows possibility double booking date time first', 'work weeks break', 'simple use like', 'great tool entertainment communication data management oh sure use activesync optimal data synchronization results', 'use case smell disgusting', 'wanted', 'cases would order another', 'bought battery coupon amazon happy purchase', 'internet access fine rare instance worked', 'perfect ps', 'five star plus plus', 'good quality bargain bought bought cheapy big lots sounded awful people end hear', '$ drain', 'tried talking real loud shouting telephone gets old still told great', 'good works fine', 'price great deal', 'great price', 'wind completely useless', 'yes shiny front side love', 'work', 'first thought grtting good deal $ plugged phone vc razr', 'reception headset excellent', 'thumbs seller', 'verizon lg phone work well together good reception range exceeds feet line sight', 'improper description return', 'works comfortable', 'battery charge life quite long', 'jabra eargels fit ears well', 'battery life', 'checked everywhere feature really disappointing', 'product exactly described', 'gets signal verizon phones', 'job', 'would recommend', 'plan ordering', 'said phone camera nice many cool effects play video decent well', 'satisfied cell phone day one', 'keep getting better better third one numerous palms', 'awkward use unreliable', 'shipping time also quick', 'good hoped', 'good case', 'work', 'really good product', 'unfortunately work', 'three broke within two months use', 'dont buy', 'father v battery dying', 'however ear pads come easily one week lost one', 'calls drop phone comes screen goes black worst stops ringing intermittently', 'horrible horrible protector', 'like nokia either', 'reaching bottom row uncomfortable send end keys expect', 'bought nokia cell phone weeks ago nightmare', 'would take long describe bad customer service experience amazon', 'disappointing thing speakerphone', 'terrible car accept cassette', 'product useless since enough charging current charge cellphones planning use', 'says', 'stay away q', 'used dirty', 'unreliable service mobile', 'good enough price', 'bought two neither charge', 'looks nice', 'excellent tool especially paired phone auto answer', 'read reviews problem', 'products cover important light sensor ear outlet', 'comfortable hand', 'work', 'poor reliability', 'works', 'take picture battery drops bar starts beeping letting know dieing', 'terrible product waste money', 'last time buying', 'waste money', 'far worked like charm', 'weeks far good', 'case best part download pictures laptop using ir even send pictures laptop phone', 'would recommend item', 'choice headset years great sound good volume good noise cancellation', 'nice case feels good hands', 'item received counterfeit', 'really good far probably best bt headset ever', 'works fine', 'received headset good time happy', 'pleased see could replace well travled swivel holster blackberry flip', 'sister one also loves', 'good quality', 'far worst purchase made amazon', 'excellent dual purpose headset', 'excellent', 'work listening music cingular', 'seems completely secure holding belt keeping iphone inside', 'bottowm line another worthless cheap gimmick sprint', 'trouble volume', 'good thing fits comfortably small ears', 'warning buy', 'pairing iphone could happier far', 'opens battery connection broken device turned', 'want clip going top ear causing discomfort', 'best headset ever', 'trust website expect helpful support', 'loud glad say plantronics maintains flawless connection cell static normal use', 'speaker low quality making ring tones sound cheap', 'fits comfortably came three sizes earbud tips', 'bad reception', 'product high quality chinese crap', 'quite comfortable ear', 'buy product fails', 'everything product wrong first', 'pairing two devices easy barely took couple minutes started making calls voice dialing feature', 'utterly confusing first caused lose couple important contacts', 'terrible phone holder', 'cutouts buttons placed perfectly', 'love able use one headset land line cell', 'problem ear loops made weak material break easily', 'nearly good looking amazon picture makes look', 'despite flaws case exceptional quality well worth additional costs owning official oem product', 'stupid', 'hear driving car usually even put loudest setting', 'seller shipped quickly much cheaper competitors', 'good show samsung', 'bought saved alot money', 'always cuts makes beep beep beep sound says signal failed', 'figure', 'phone sounded ok great ok wife phone almost totally unintelligible understand word said', 'take battery phone put back together restart', 'managed bend leaf spring back place metal enough stress break next drop', 'leopard print wonderfully wild', 'works', 'saggy floppy piece junk', 'much better hard plastic cases', 'also new problem', 'happy far', 'cool phone', 'works good', 'motorola finally got voice quality bluetooth headset right', 'looses connection phone even within couple feet two', 'great would really recommend', 'makes easier keep bluetooth wearing', 'said pretty useless', 'never got', 'pair headphones worst ever sound wise', 'drain weak snap', 'charge cingular att phone', 'get extra minutes carry call get cut', 'however year fliptop started get loose wobbly eventually screen went black receive place calls', 'kept catching cable seat pull phone turn', 'headset fulfills requirements happy purchase', 'logitech bluetooth headset', 'like fact rests lightly ear rather inside', 'lot websites rating good phone', 'tried cables computer ipod works fine', 'mic joke volume quite low', 'returning', 'maintain connection computer lap', 'easy turn car volume controls quite accessable', 'mine year christmas bought rest family', 'otherwise easy install use clear sound', 'nice leather', 'purchase different case', 'joy use', 'much disappointed company', 'satisifed', 'charge', 'phone get bought sa say wow', 'buttons small', 'reading specs alone makes say wow', 'love great armband', 'really like product motorola allot clearer ear piece mic', 'however keypads tinny sometimes reach wrong buttons', 'exchanged sony ericson za pretty happy decision', 'impressed price cases', 'also makes easier hold', 'use product motor control center lot high voltage humming equipment works great', 'pretty easy', 'cannot make calls certain places', 'however girl complain time phone wake like normal phone', 'beautiful styling though', 'company charge restocking fee still given refund back', 'trying return refund', 'plugged find darn thing worked', 'excellent product', 'earbud piece breaks easily', 'lousy product', 'phone tries hard everything fails ability phone', 'best charger seen market yet', 'sweetest phone', 'oh charger seems work fine', 'fits securely ear hook even need used sound better directed ear canal', 'enough volume', 'echo problem unsatisfactory', 'could take videos time quality poor', 'waste money', 'going first negatively review product', 'adapter provide enough charging current', 'much hype phone assumed best mistake', 'also cannot take pictures case lense covered', 'phone falls easily', 'work people hear talk', 'text messaging feature really tricky use', 'really disappointed charger work', 'painful ear', 'lasted one day blew', 'disappointed', 'kind flops around', 'screen get smudged easily touches ear face', 'piece junk lose calls phone', 'item match picture', 'thing disappoint infra red port irda', 'answer calls unit never worked', 'slow moving aimless movie distressed drifting young man', 'sure lost flat characters audience nearly half walked', 'attempting artiness black white clever camera angles movie disappointed became even ridiculous acting poor plot lines almost non existent', 'little music anything speak', 'best scene movie gerardo trying find song keeps running head', 'rest movie lacks art charm meaning emptiness works guess empty', 'wasted two hours', 'saw movie today thought good effort good messages kids', 'bit predictable', 'loved casting jimmy buffet science teacher', 'baby owls adorable', 'movie showed lot florida best made look appealing', 'songs best muppets hilarious', 'cool', 'right case movie delivers everything almost right face', 'average acting main person low budget clearly see', 'review long overdue since consider tale two sisters single greatest film ever made', 'put gem movie terms screenplay cinematography acting post production editing directing aspect film making', 'practically perfect \\x96 true masterpiece sea faux masterpieces', 'structure film easily tightly constructed history cinema think film something vitally important occurs every minute words content level film enough easily fill dozen films anyone right mind ask anything movie quite simply highest superlative form cinema imaginable yes film require rather significant amount puzzle solving pieces fit together create beautiful picture short film certainly pulls punches graphics far best part game number one best th game series deserves strong love insane game massive levels massive unlockable characters massive game waste money game kind money wasted properly actually graphics good time today graphics crap say canada fun game aye game rocks buy play enjoy love pure brilliance flick doomed conception idea lame take minor character mediocre pg film make complete non sequel changing tone pg rated family movie least bit interested confirm film would unfunny generic also managed give away entire movie exaggerating every moment every plot point every joke told trailer funny even talented carrell save co stars fare much better people like morgan freeman jonah hill ed helms wasted story predictable lazy real effects work presence animals integration scenes worst obvious blue green screen work ever seen whatever cost much translate quality sure film succeeds despite perhaps obviously meagre budget glad film go obvious choice lesser film certainly would addition one lovely songs ever written french cancan also boasts one cutest leading ladies ever grace screen hard fall head heels love girl negative insipid enough cause regret another hours life wasted front screen long whiny pointless recommend waiting future efforts let one go excellent cast story line performances totally believable anne heche utterly convincing sam shepard portrayal gung ho marine sobering sat riveted tv screen give one resounding think tom hanks good actor enjoyed reading book children little disappointed movie one character totally annoying voice gives feeling fingernails chalkboard totally unnecessary train roller coaster scene absolutely warmth charm scenes characters movie totally grates nerves performances improved improvisation actors twice much worry whether delivering line well whether line good quite honestly often good often dialogue really follow one line another fit surroundings crackles unpredictable youthful energy honestly found hard follow concentrate meanders badly generally great things say worth hours time though suspense builders good cross line g pg especially liked non cliche choices parents movies could predict dialog verbatim writing movie made better selections want movie gross gives chills great choice alexander nevsky great film amazing film artist one important whoever lived glad pretentious piece planned dodge stratus big shots gonna help movie makers restrained movie business québec', 'first movie given years', 'ever movie needed word mouth promote', 'overall film interesting thought provoking', 'plus well paced suited relatively short run time', 'give one look', 'gave', 'wind lion well written superbly acted', 'true classic', 'actually turned pretty decent far b list horror suspense films go', 'definitely worth checking', 'definitely worth checking', 'problem script', 'horrendous', 'nothing believable', 'suspense feeling frustration retarded girls', 'manna heaven terrific film predictable unpredictable time', 'scenes often funny occasionally touching characters evaluate lives going', 'cast veteran actors nostalgia trip', 'ursula burton portrayal nun touching funny time making fun nuns church', 'looking movie terrific cast good music including shirley jones rendition way look tonight uplifting ending give one try', 'think disappointed', 'frankly cotton club unfaithful kind embarrassing watch lane gere film bad', 'acting bad dialogs extremely shallow insincere', 'predictable even chick flick', 'politically correct', 'disappointing', 'thing really worth watching scenery house beautiful', 'love lane never seen movie lousy', 'hour half wish could bring back', 'terms writing fresh bold', 'acting helps writing along well maybe idiot savant sister could played better real joy watch', 'directing cinematography quite good', 'movie boring sometimes found occupied peaking paper instead watching never happened columbo movie', 'sometimes embarrassing look away', 'directing seems pretentious', 'scenes oh mature neighbour girl misplace', 'generally lines plot weaker average episode', 'scene debated whether sack trumpeter falsely accused murder pure horror really stupid', 'applause given prelude however', 'really liked', 'great film great director', 'movie edge seat made somewhat afraid go car end night', 'music film really nice', 'advise anyone go see', 'brilliant', '', '', 'liked movie way much', 'problem thought actor playing villain low rent michael ironside', 'rocked world certainly must see anyone social physical outlets', 'however make fact overall tremendously boring movie', 'chemistry ben affleck sandra bullock film understand would consider even leaving wife chick supposedly knocked', 'several moments movie need excruciatingly slow moving', 'poor remake best friends wedding', 'great disappointment', 'cannot believe actors agreed film', 'could stand even watch long fear losing q', 'guess nobody network aired dribble watched putting', 'imdb ratings go low awful time get negative numbers cases', 'saw mirrormask last night unsatisfactory experience', 'unfortunately inexperience direction meant scene scene passed little way dramatic tension conflict', 'central themes film handled ineptly stereotypically depth imagination', 'pretty pictures world cannot make piece work flawed core', 'hour half waste time following bunch pretty high schoolers whine cry life', 'relate hell barely understand', 'definitely cult classic well worth viewing sharing others', 'movie pure disaster story stupid editing worst seen confuses incredibly', 'fish badly made underwater shots repeated thousand times film', 'truly truly bad film', 'acting terrible writing worse', 'possible way movie could redeemed would mstk fodder', 'paid much', 'also real treat see anthony quinn playing crazy horse', 'boring', 'plot whatsoever', 'plot', 'horrible', 'worst hour half life oh gosh', 'walk theatre minutes get relief', 'hate movies like', 'yeah movie pretty much sucked', 'plot storyline', 'go see movie bring pillow girlfriend boyfriend keep occupied', 'awful', 'think ever gone movie disliked much', 'good thing tickets cost five dollars would mad paid $ see crap', 'nobody identifies characters cardboard cutouts stereotypes predictably reverse stereotypes', 'bad film bad writing good actors ugly cartoon crafted paul haggis people handle anything bold strokes storytelling picture painted crayons', 'crash depressing little nothing provokes emotion teaches nothing already know racism prejudice bad things', 'still like movie empowerment women enough movies like one', 'brain attempt shut part primal impulse self preservation', 'left shattered experience watching film took good two hours fully recover', 'movie joins revenge boogeyman zombiez part hellish trinity horror films', 'certainly mean distinction good way', 'mean terrible way', 'film redeeming features', 'everything appalling', 'artless camera work endlessly presents us ugliest setting imaginable e', 'story beyond stupid', 'script script', 'kids annoying', 'lead man charisma free', 'utterly without merit level akin torture', 'even say \\x96 torture', 'maybe would reasonable explanation atrocity', 'pleasant voyage self discovery', 'highly unrecommended', 'premise sound stupid', 'yes bad', 'nothing recommend', 'excellent performance ms', 'garbo showed right bat talents could carry silent era wanted see silent work netflix seem stocking', 'also great see renowned silent screenwriter frances marion missed step going silent sound', 'movie suffered writing needed suspense', 'many close ups', 'movie seemed drag heroes really work freedom', 'movie definitely average rent', 'love movie bad bad film way long definitely one bad ones movie received great quality film age john wayne incredible job young movie industry screen presence shined thought even though senior actors screen think must see older john wayne film really see anyone could enjoy movie think ever seen movie half boring self indulgent piece junk probably would better director spent movie showcasing art work really noteworthy another thing really like character got punched face gallon blood would spew forth soon jamie foxx absolutely ray charles performance simply genius owns film spacek owned coal miner daughter quaid owned great balls fire', 'fact hard remember part ray charles acted played man ray charles legendary ray charles life provided excellent biographical material film goes well beyond another movie musician hitchcock great director ironically mostly find films total waste time watch secondly hitchcock pretty much perfected thriller chase movie pandering audience sabotages films hence whole story lacks certain energy plot simply rumbles like machine desperately depending addition new scenes usual hitchcock logic flaws mishima extremely uninteresting chilly unremarkable movie author living working chilly abstruse culture flat reenactments hold attention emotionally adrift stagy rest sits awful soldiers singing songs masculinity pledge hairsplitting purity admiration swords etc bore pieces kill momentum movie quicker anyone else schrader made resume full lousy amateurish films first watched movie loved totally fascinated music dancing everything however recently watched whole thing dvd completely struck extremely stupid storyline contained holes inconsistencies frankly whole lot crap horrid dancing mean realistic world would never gotten ballet repertory whole thing quite pathetic character developments also lacked depth woa talk awful waste time horrible worst sappiest dialogue could go really made unwatchable direction poor actors even tell talent pathetic lines speak director gave action check director filmography site see film chance would even good made tv flick good intentions made film great film might one greatest films ever made film great actors master director significant theme least would significant theme undertone fifties existential world weariness aerial scenes ought thrilled senses imagination characters one might deeply care regrettably film fails movie lacks visual interest drama expression feeling celebration patriotism underlines narrative actress worse used june allison movie yet enjoy watching unfortunately bad movie plain bad bad script bad direction horrible acting make one plain bad dialogue sucked cinematography called sucked soundtrack sucked acting sucked concert sequences sucked nice funny funny overall movie cheap trash movie funny considering ridiculousness came feeling angry spoilers whatever else said surface superbly crafted cinematography simply stunning say least fx nothing state art conceptually show offers little bit everything everybody parents kids fantasy fx fans single sour note struck acting wise either surprisingly solid casting things considered job well done thanks good movie like done released one best mexican movies ever one less understood even mexican matter identified felt ranks highly great noir crime drama incredible performances belmondo lino ventura attention given every character complex psychological portrayals detailing loyalty treachery love hope tremendous excellent drama excellent thriller excellent film best melville everything film simply incredible truly take journey eyes soul child black water thriller manages completely transcend limitations indie flick continually subverting expectations emerge intense experience performances real gripping crocdodile extremely well done indeed black water website believed used real crocs swamp location fabulous thoroughly enjoyed christopher eccleston took control tardis continuation series sure trying film turn good day feeling night disturbing memories guess succeeded lot beautiful places forced like everything movie lame movie really pi ed even get started jerky camerawork saw theater thought going sick summary witticisms witty plot well said let one go acting bad really bad even billy bob rise script worse camerawork bad rating amazing finale possibly best trilogy time kieslowski never ceases amaze one favourite directors one talented directors history cinema use colours french flag three films nothing short incredible every shot every scene like work art three visually appealing movies ever seen subtle connections three films awesome mention huge spoiler loved ending characters three films remaining survivors ferry disaster valentine young judge together old man watching tv solidifying happiness suffering dealt many years think better way end film smile face great way wrap amazing film trilogy recommend everyone loves film movies anything work art movie trilogy literally vomited watching film think one people found another one roth pearls performance awarded stunning story told eloquently francis ford coppola years earlier really unfolds gradually leaves room characters develop wonderful location lies story contrast beautiful directed film nicola roeg wih sublime cast translating movies living first movie year working experience found offensive intelligence someone strives greatness poetry delivers muddled often ridiculous story bunch disparate scenes pretentious dialogue get worst kind movie reviewer accurately defined pretentious crap', 'find movie intelligent even masterful say intelligence imagination obviously used try make sense pitiful attempt human nature try make sense things', 'one thing tolerate political incorrectness well artistic freedom suspension disbelief slavic female character much', 'fun funny movie', 'highly entertaining angles', 'features outlandish array memorable psychotic lovable nuts', 'enjoyment get see run around play games dangerous', 'even sweet moments', 'telephone repair man really funny reactions nuts bitchy boss truly genuine', 'characters film tremendously well played', 'really find funny', 'actually smart movie', 'brilliant twist ending', 'love ending perfect shed tear thrilled seeing movie like never forget cult cult classic depth character man underneath malta settings dry barren dialogue movie terrible hockey scenes terrible defensemen playing like years old goalies diving shots feet wide net etc seen waste time call movie drama ridiculous started watching believe characters particular relationship bakery assistant waitress work superficial movie gave feeling watching play rather film characters stagey storyline lot like stage farce time pyromaniac waylaid assistant bored care happened next switched glad pay see laugh even smile anything one big yawn really good show watch educational children years old barney definitely super de duper pretty funny babie bop cute kids cool storm trooper even bad enough make list wonderfully terrible movies', 'lame', 'guy said better dialogue potted plants right', 'everything movie stupid', 'even love bad movies watch movie', 'shameful', 'would give television series plus could', 'writers smack think best actors actresses bonus show characters real', 'must say taped episodes find watching', 'know gave', 'know exactly movie latched endearing movie become special part family memories', 'totally absolutely recommend movie anyone likes good wholesome family movies exactly', 'things four kids get absolutely hilarious watch', 'one best movies shows strong sibling bond', 'much interesting action suspense less unneeded controversy', 'everything acting cinematography solid', 'damian talented versatile many ways writing portraying different characters screen', 'movie cutting edge', 'pleased know modern day genius letting passion art drive taking us audience', 'new characters memorable found forgetting', 'felt though going ireland absolutely nothing whatsoever', 'make scared horrified make sympathetic towards characters simply annoying', 'jerky camera movements also annoying', 'plot pretty much every cheap horror', 'pathetic attempts give characters depth really work rest plot', 'guess supposed clever twist shed light situation stupid', 'see probably leave shelf', 'elias koteas jack palance play good roles angelina hot gets naked billy drago appears cool usual cameo sven ole thorsen helps make enjoyable movie good acting decent budget', 'awesome movie bought ebay', 'really loved story line poler bear kinda cute anyone question fort steele ask away', 'totally unfunny movie top pathetic unrealistic throughout whole minutes utter torture probably looked watch times', 'lucy bell much higher crap sink low quite depressing', 'movie make sick watching slackers make excuses stupid actions minutes', 'god never get minutes back', 'think wonderful parts literally full wonder excerpts works', 'sets especially designed work camera amazing stylized beautiful effective', 'could used exemplars set designer', 'stories powerful explorations nature man art', 'watching film wanted learn works artist', 'highly recommend movie anyone interested art poetry theater politics japanese history', 'wind lion see wonderful rendering america imperial age', 'makes story different terrific production values faultless photography composition editing terrific casting underappreciated brian keith playing bully teddy vivid history', 'though wind lion told largely eyes son every member family identify one characters whether sean connery noble brigand candace bergen feisty heroine john huston wily john hay steve kanaly spiffy radiant ruthless lieutenant roosevelt big stick', 'high adventure best', 'think robert ryans best film portrayed someone like father schizophrenic real life father although never murdered anyone affected second world war made worse', 'humour get get day apt', 'mother brother saw robert ryan portraying type man good imitation type individual impressed', 'almost songs cover girl old fashioned tuneful', 'annoying thing cover girl way rita hayworth put pedestal', 'unfortunately cover girl example hollywood used exploit women financial gain', 'non linear narration thus many flashbacks every part articulated quite well', 'good cinematography also makes monica bellucci look beautiful', 'good commentary today love undoubtedly film worth seeing', 'people first timers film making think excellent job', 'popular cinema good house good reactions plenty laughs', 'feel good film felt came cinema', 'northern humour positive community represents', 'rather enjoyed', 'liked', 'take seriously', 'really created unique feeling though', 'vivian schilling excellent job script', 'world better garbage theatres today', 'role played well', 'screamy masculine right', 'camera really likes movie', 'would casted role ready script', 'european movie nice throwback time student experiences living abroad interacting nationalities although circumstances slightly different', 'fan movie sucked really bad', 'even worse ticker', 'movie bad', 'like buildings used couple locations maybe poor hummh', 'blew', 'movie excellent angel beautiful scamp adorable little yelps hes scared funniest parts scamp caught curtain angel scamp singing ive never feeling totally recommend movie coming special edition june cover scamp garbage angel underneath lid', 'cant explain movie romantic charming hilarious adorable junkyard scenes funny junkyard dogs something special funny laughed kids love buy comes new features', 'chosen tortured disgusting piece blatant american propaganda', 'show made americans stupid full hatred clichés admitted elsewhere', 'almost everyone involved must return school acting utterly predictable bad script pile garbage round', 'wish could enter negative values admins', 'sets bad look place thunderbirds episode', 'use slow motion needlessly repeats throughout movie well backed bad acting bad kind word continuity scenes thrown reason whatsoever vehicles looked like made corn flakes box directorial style bordered stupidity', 'oh yeah storyline pathetic', 'hate writing bad reviews films especially really like star film bad believe one second anyone could proud', 'filmmaker director would hide head sand spent whatever amount money time movie', 'short monumental waste time energy would recommend anyone ever see film', 'came free dvd player bought still turned thing halfway embarrassed howell', 'setting', 'interesting premise billy drago always good dangerous nut bag side note love see drago stephen mchattie lance hendrikson flick together talk raging cheekbones', 'soundtrack terrible either', 'acting even professionals drago debbie rochon terrible directing worse perhaps contributory former dialog chimp like camera work barely tolerable', 'still sets got big oy vey scale', 'yes simplifying things sake brevity really core problems film much going without real fulfilling explanation', 'good jobs quite amusing', 'convoluted plot convince much film watched weird questioning glance', 'let girlfriend talk seeing bad idea hated', 'last minutes movie also bad well', 'bela lugosi totally extraneous intoning odd lines', 'acting decidely wooden though worse period universal b movie', 'like armand assante cable company summary sounded interesting watched twice already probably', 'believe screenwriter good job tying loose ends', 'score mostly plot', 'say like spoilers want one believe film worth time', 'wow bad film', 'frightening least barely comprehensible', 'plot hang together acting absolutely appalling', 'even good camp value', 'expecting oscar material', 'iq particularly stupid mollusk see one coming', 'film use word loosely insult movie going public', 'someone involved knew string together narrative', 'gets simply nothing lower', 'one watched recently fox movie channel disappointed', 'know contract player little control scripts acting bad script', 'victor mclaglen even bad brian donlevy almost unrecognizable', 'considering relations screen taylor stanwyck surprising little chemistry screen two', 'premise film ridiculous president u', 'death row scenes entirely unmoving', 'thing worse taylor acting stanwyck singing', 'whatever producer going missed entirely', 'deeply impressed character played', 'knew saw film great things come gifted actor', 'cheap cheerless heist movie poor characterisation lots underbite style stoic emoting think chow yun fat better tomorrow cheesy clichés thrown abandoned factory ready poorly executed flying judo rolls la john woo', 'even squibs look awful', 'point proceedings look remotely like america', 'plot derivative predictable ending like mercy killing', 'awful dialogue hopeless overacting everyone gets shot top real waste space time', 'uneasy bad movie scared', 'dialogue composed things make little sense', 'minutes footage wasted show mediocre elderly actors awkwardly babbling overwrought pseudo satanic gibberish corny enough make teen goth blush almost always olde english sometimes latin may may made words', 'directing sloppy best', 'hackneyed writing certainly made even worse bad directing', 'course acting blah', 'acting whole cast could put scale balanced perfectly overacting underacting', 'finally get ending would great handled competent people jerry falwell', 'loved movie great portrayal family share ups end knew special love', 'seen many movies starring jaclyn smith god one best though came years ago', 'movie contained star cast loved opened eyes see actors seen', 'movie kind long length enjoyed every minute', 'overall rate movie scale', 'lifetime air enough anyone knows store sells let know must', 'particularly remember senses assaulted strident cords music would blare little warning even less meaning', 'sort pap screened afternoon punish unemployed jobs', 'totally different loads understatement black comedy film get see remember', 'movie creates universe fascinating every way', 'movie really got', 'see', 'really hope team behind movie makes movies continue kinda weird style', 'forgot casting superb trond fausa aurvåg perfect role bothersome man understand', 'movie good humorous comment life', 'found move beautiful enjoyable uplifting', 'initially local sites film filmed buffalo intrigued', 'later found lost power film', 'entire audience applauded conclusion film', 'left theater lilt step joy heart hope human race', 'duris wholesome appearance gives fine performance', 'rest cast also play well', 'cinematography noteworthy including fine views barcelona famed gaudi towers', 'ten minutes film started second thoughts', 'half way film started dislike', 'time film ended disliked despised', 'film lacks convincing script', 'script looks rough draft written shooting began finished script completed', 'things happen characters personalities change plot twists occur real reason script calls', 'cast good', 'worth checking', 'probably irritating show ever seen entire life', 'indescribably annoying idiotic show ever seen', 'everything bad', 'could understand kind idiot would produce mess first place mention several season', 'script bad bad \\x96 contains cheesiness unethical joke normally see rated r nc movie', 'casting also horrible cause see really really bad actors period', 'final word show real torture', 'zillion times away reality', 'watching washing machine twirling around hurt eyes much show', 'rating grade z note show bad even mother cast pull daughter show', 'th century fox road house quite silly noir implausible unmitigated bore movie', 'full unconvincing cardboard characters blandly written edward chodorov also produced surprisingly directed jean negulesco one would expect great deal', 'widmark character turns unintentionally comical', 'losing marbles early proceedings totally implausible unconvincing', 'enough mess movie picture also marred constant use studio sets indoor exteriors', 'whatever prompted documentary beyond', 'serious spoilers movie huge disappointment', 'many problems dont know start', 'cast great', 'steve martin delivers really funny performance middle aged upper class uptight white guy', 'add betty white jean smart great cast everyone played parts really well', 'movie makes lot serious mistakes', 'first enough racial stereotypes racial jokes offend everyone', 'movie littered overt racial slurs towards black cast members return whites depicted morons boobs', 'putting race card aside lets look major flaw film destroy latifa character', 'real plot', 'wouldnt see movie free', 'steamboat willie amazingly important film cinema history', 'second appearance mickey mouse following silent plane crazy earlier year probably famous film mostly ground breaking', 'yet hear mickey speak tons sound effects music throughout film something take granted huge crowd pleaser', 'however seeing short years amazed timeless film actually', 'adorable seeing mickey playing turkey straw highly imaginative occasionally cruel way', 'clever real crowd pleaser film still ranks among mickey best films even wonderful years', 'bipolarity ruthless thug one minute ruthless killer next minute luv diaper commercial completely unconvincing', 'terribly disappointed film would receive many awards accolades especially far deserving works film', 'original body soul masterpiece', 'john garfield ann revere lilli plmer william conrad canada lee filmed one greatest cinematographers ever grace screen james wong howe', 'think redeeming qualities remake', 'may bad film ever made', 'bad well bad', 'movie solid example bad plot bad idea way', 'shame see good actors like thomerson james make living mess like', 'thought bad', 'films terrible credit version watchable', 'let start problems\\x97the acting especially lead professor bad', 'script big flawed mess', 'best example dumb writing established turn zombie students back humans removing necklace containing piece meteorite', 'director paul matthews also wrote directed weak monster movie grim clearly know pace films', 'movie terribly boring places', 'lighting awful', 'film looks cheap bland', 'one disappointing aspects lack notable gore', 'convention never worked well past certainly work', 'visual effects awful', 'cg opening sequence space looked like could created microsoft slideshow god sake', 'explosion gas tanks end awful', 'okay like consider fair critic give credit credit due creature effects actually pretty cool', 'gotta love close ups slimy drooling teeth', 'sum film breeders terrible cheaply made horror movie avoided like ebola virus', 'recommended', 'recommended', 'almost unbearable watch screen little charisma terrible comedic timing', 'aside terrible lead film loads debits', 'understand supposed cheap popcorn comedy mean completely insult intelligence writing incredibly hackneyed borders offensive', 'lewis black considerable talent wasted incendiary unrestrained pg rating certainly allow', 'film sole bright spot jonah hill look almost unrecognizable fans recent superbad due amount weight lost interim', 'originality freshness first movie spent remake little else offer', 'budget evidently limited', 'reflected cast also par script borrowed much earlier classic', 'however decent acting action location work balance things', 'filmiing less expansive', 'failed convey broad sweep landscapes great part original', 'generally lacked imagination', 'possible movie get worse', 'plot keep going first place', 'even women finally show sign improvement expected things happen time film might far asleep', 'beware trashy cult movie trash period', 'believe even sequel', 'precisely giving bad review', 'child truly enjoyed show proudly say enjoyed big time even classical wb cartoons', 'tiny toons kept vibe delivered one popular funny underrated cartoons ever created', 'memories murky say enjoyed every single episode product related show', 'easily none cartoon made laugh tender way getting dark sitcoms oriented teenagers', 'characters funny peculiarity true lead character', 'every single character hilarious deserved called lead', 'every element story top excessively phony contrived painful sit', 'lines seem written fifteen year old though trying oh hard sound like fifteen year old would really um know well talk', 'perabo nice energy level obviously comfortable front camera', 'simply excuse something poorly done', 'saw movie thought stupid movie', 'even stupid thought idea volcano los angeles', 'honest unbelievable nonsense foolish', 'conclusion bother movie volcano los angeles nothing nonsense', 'story line awful', 'painful', 'accents absolutely abysmal', 'also enough hypocrisy film make vomit', 'waste time watching rubbish non researched film', 'believe pitch black done well', 'characters interesting want find longer movie goes think people surprised make', 'go watch', 'omit watching', 'funny', 'rating', 'characters interesting really care', 'instant classic great soundtrack catchy song ending credits', 'miss', 'masterful piece film making many themes simmering occasionally boiling warts study poet bohemian self indulgent wartime years span aerial bombardments london outward tranquillity welsh coastal retreat borderlines friendship lust love dedication art experience versus practical concerns jealousy rivalry cowardice egotism versus heroism self sacrifice', 'mature subtle script suggests occasionally brings dramatic focus underlying tensions well served perfect performances apart odd inappropriate smiling keira knightley prone though perhaps direction time characters often mention', 'exquisite visual composition moment inventive elegant use close camera angle lighting including pointillistic faux home movie footage wonder joy behold', 'continuously beautiful look bertolucci relationships convincing narrative engaging master work', 'basic premise wasted since sidelined inexplicable focus documentary crew', 'regardless film fails levels', 'avoid costs', 'saw film christmas great film', 'thought errol flynn brilliant custer since become favourite actor', 'acting alongside olivia de havilland brilliant ending fantastic', 'always known errol flynn brilliant actor dads favourite actor grew watching films child', 'watched film realised great actually', 'give film', 'know jim connor energetic nobody could much george well dull', 'really seem want hosting voice overs monotonous get involved guests', 'lovely little thriller hitchcock lots nice shenanigans surrounding murdered spy kidnapped child nasty church foreign plot random taxidermists', 'jimmy stewart ever great hero hitchcock story rips along cool climax embassy function lacks brooding menace hitchcock black white low budget original', 'nevertheless yet another wonderful film great master stable', 'say film excellently produced tops ratings typical sci fi film', 'excellently produced one sci fi best producers scot vandiver', 'entertaining nonetheless', 'campy sort film joy watch', 'barely boring moment film plenty humorous parts', 'cast always entertaining usual', 'overall delight', 'movie mind bendingly awful even created', 'film lacks real scares tension medical terminology used throughout bit iffy say least say insulin dependant diabetic', 'least said acting better', 'movie excellent job revealing complexity task incredible challenges facing south africa', 'believe every one see movie think people outside south africa understand past attempted truth reconciliation process', 'nothing short magnificent photography cinematography film', 'acting fantastic stories seamlessly woven together dogs splendid must rent view see', 'afraid subtitles worth little aversion therapy', 'excellent performance', 'still good actors around', 'also great directing photography', 'true shakespear must shakespear fans', 'macbeth jason connery moved tears final monolog brief candle gave sphere moral decay dark forces human face makes interesting', 'helen baxendale credible lady macbeth cheerfull times sometimes looks like naughty girl deadly taste blood evil', 'love death decay shakespears lyrics one', 'witty delightful adaptation dr seuss book brilliantly animated upa finest thoroughly deserving academy award', 'special mention made superb music score sound effects integral element helping make memorable enjoyable cartoon', 'however paul schrader indeed made film mishima superb complex', 'also notable john bailey fine crisp beautifully colored cinematography great production design costumes eiko ishioka went memorable costumes coppola dracula received well deserved oscar', 'even allowing poor production values time format kind mini series baaaaaad', 'unless visually collect extant films austen work skip one', 'watch however small consolations actresses playing anne sisters wonderful job roles', 'good', 'speaking music unbearably predictably kitchy', 'film dropped ball', 'stunning movie', 'raw sublimely moving', 'felt like gripping intelligent stage play without overly theatrical feeling one actually gets watching people stage plays everyone terror white lie escalating monstrous consequences', 'main players mesmerising', 'tom wilkinson broke heart end everyone else judging amount fumbling hankies hands going faces among males females alike', 'julian fellowes triumphed', 'national treasure', 'go see', 'excellent film', 'aerial scenes well done', 'also right balance war love', 'film gives meaning phrase never history human conflict much owed many', 'kris kristoffersen good movie really makes difference', 'good film great director', 'definitely one better documentaries seen looking family relationships marriage', 'many continuity errors one user commented different cars garage joe glasses one got fact joe facial hair configuration seemed change scene scene', 'great movie', 'stars', 'see movie inspiration anyone come overcome fear rejection', 'bad actually worth seeing reason', 'punishment park brilliant piece cinema', 'shot southern california desert using patent faux documentary style watkins creates film like', 'one peter watkins accessible films', 'advise look', 'wont regret', 'highly recommended', 'well keep thinking bad', 'mediocre miserable hollow laughable predictable piece garbage', 'case bad laughable', 'bad performance plays angela bennett computer expert home time', 'film nothing pretext show ridiculous action scenes', 'awful', 'still bad actress repeating robotic face moves pictures', 'results well shame', 'delete film mind', 'one worst shows time', 'show would begin smart ass ed comments would totally wall uncalled', 'fat computer geek unbelievable bible thumper bad ass girl actors', 'never heard except cole totally unbelievable part', 'every time opened mouth expect hear see kids pulling plug mercy killing horrible show', 'stories unbelievable actors', 'lame would best way describe', 'stanwyck morgan perfectly cast many ways modern equivalent dickens christmas carol sensibility', 'success film depends casting sydney greenstreet alexander yardley character', 'attractive set used throughout film eye pleasing gem', 'im big fan rpg games movie disgrace self respecting rpger', 'lines cuts audio everything wrong', 'find better movies youtube', 'top line waste time money one bad comes', 'lassie movie put sleep forever', 'describe painfully dreary time waster film', 'mediocre every aspect becomes dull uninteresting mess one forgettable movies seen', 'even achievement bad good bad memorable movie', 'empty hollow shell movie', 'seriously worth wasting kid time', 'avoid avoid avoid', 'drive barking mad', 'transfers good', 'nice relaxing late night viewing', 'movie full wonderful dancing hence title', 'great music terrific scenery', 'handles tough issues dignity grace course shocking spoiler', 'happy wonderful feel good ending', 'point journey journey touches every member family', 'one movies need see whenever comes tv never mind fact already memorized', 'nothing new', 'done second movie', 'movie almost action scenes little comedy', 'plot holes pair fishnet stockings direction editing astonishingly ham fisted', 'earth irons film', 'saw film recommend', 'good plot holds complete attention acting superb tom wilkinson fantastic emily watson also good', 'good film indeed great unconditional love', 'tom wilkinson character man prepared ordeal begin takes matter hand story progresses great actor gives performance makes feel character anguish suffering', 'emily watson character strong give quick glance understand everything', 'despite pans reviewers liked movie', 'fact liked better interview vampire liked lestat stuart townsend better cruise attempt', 'aailiyah pretty good akasha places compelling first entrance mini dance scene', 'big fan series mostly due anne rice style sensitivities treatments', 'guess liked details dysfunction believable', 'football scenes end perplexing', 'thought acting skilled', 'meredith better right', 'charming film wonderful sentiment heart', 'rare film maker takes time tell worthy moral tale care love fall trap overly syrupy indulgent', 'nine ten truly lovely film', 'early film future goremeister lucio fulci good addition giallo sub genre', 'one best italian thrillers early', 'standout scene', 'scene strong unpleasant', 'technically film well made impressive camera work solid acting effective music riz ortolani \\x96 particularly good recurring unaccompanied female vocal sounds like coming distant hill', 'still wild stuff though highly recommended fans giallo cinema', 'movie interesting beginning end', 'liked way dustin hoffman character ready everything stay son', 'movie also revealing', 'personally think shows people learn find compromise self without involving people issue', 'boring', 'tired clichés lazy writing come thick fast', 'ps scene movie cool central character finds room blown', 'fresh subtle rather sublime effect', 'italian reviewer called small great film right', 'actors give wonderful performance especially jennifer rubin jamie harris changes nervous starlet beginning strange events part cool star', 'learn lot real inside emotions people movie lot movie business', 'movie movie situations beginning game played acting coach fascinating', 'also music mark snow possibly best score ever heard', 'forget movie', 'film made', 'film ultra cheap look', 'result film look right', 'none engaging exciting', 'plot nonsense interest slightest way uniqueness', 'foreigner worth one second time', 'saw child tv back stranger loved', 'duet astronaut doctor beginning movie perfect exchange one considers movie made well cold war astronaut biggest fear crashed ussr', 'movie awesome', 'loved really scary', 'love scream movies horror movies one ranks way', 'want real scare rent one', 'extraordinary film', 'courtroom drama compelling indictment american justice system frightening', 'film highlights fundamental flaws legal process discovering guilt innocence rather presents better court', 'film well paced understated one best courtroom documentaries seen', 'mostly routine fact based tv drama gets boost fine performance cole', 'predictable bad watch', 'clear range ability pull part', 'carries movie well', 'constantine gives everything right intensity seems good understanding underlying psychological motivations', 'wonderful inspiring watch hope gets released video dvd', 'piece trash ever released beyond acting story characters supposedly special effects etc wrong', 'fact stinker smells like direct video release', 'avoid costs', 'star trek v final frontier worst series', 'acting involved includes like shatner nimoy bad washed making seem old look real life special effects tacky like spock rescue kirk jet pack falls mountain', 'attempts humor pitiful story awful dosen bear thinking basically involves vulcan stealing enterprise find god seriously care film oh mention uhura belly dance distract male guards', 'place good film garbage', 'worst one series', 'editing editing film phenomenal opinion', 'song could explain emotions subjects better jay adams unfortunate life subject talk song old man neil young played evokes many emotions', 'cinematography film shot interesting way', 'course footage grainy enhanced film', 'film offers many delights surprises', 'achille philippa beautifully sing duet giovanni perfectly describes situation movie appreciate subtle layers excellent film', 'story unfolds th century jutland use period music played period instruments one fine touch', 'share general loewenhielm exquisite joy partaking cailles en sarcophage even though watching movie wish small sample savor', 'understated film leaves lasting impression', 'warmth generates contrast austere backdrop', 'leave theater wanting go dance stars', 'acting expect cast top notch', 'characters fleshed surprisingly well particularly grimes blake actors deliver sharply scripted lines right amount deadpan tongue cheek make dialogue hilarious realistic', 'angus scrimm also turns good performance somewhat brief memorable role gently menacing violin playing anatomist doctor quinn', 'conclusion loved', 'long time since entertained movie', 'struggle find anything bad say', 'mark words one cult films like evil dead phantasm people still discovering falling love years line', 'pretty surprising wonderful film made hollywood generally collective heads sand concerning black white issues time', 'film deserves strong kudos taking stand exceptional acting mostly lesser known cast super intelligent script insult audience take easy way comes white racism', 'plus movie rather modest budget fast running time amazing job', 'juano hernandez exceptional actor played supporting roles many films era proud black man accused murdering white man south', 'trumbull love lucy', 'see kids chance open amazing dialog far race relations come last years', 'see films', 'year however reminded us huston still top game evinced faithful adaptation james joyce acclaimed novella dead', 'feelings thoughts gabriel discomfort dance intangibles leap life come within viewer grasp huston portrayal', 'disappointed wondered could oscar shortlist', 'slow', 'lot holes plot nothing became emperor nothing spend years childhood mature age', 'waste time', 'end days one worst big budget action movies ever seen', 'surely know make coherent action movie screenwriter air force one obliged write script big sum money', 'one worst films ever seen', 'still trying get bad', 'movie possibly one creative works horror ever', 'everything could want suspense drama comedy confusing subplots native americans brain eating looking end brainsucking movies look', 'great sound effects impressive special effects recommend movie enough call nut think one best movies ever great character actors telly savalas peter boyle hour minutes sheer tedium melodrama horrible acting mess script sinking feeling good lord thinking lots holes script like bad two hour tv movie imagine every single one decisions made wrong dialogue atrocious acting beyond abysmal everything stinks trouble writing directing make impossible establish things make movie watchable like character story theme worse incredibly weak sub plot thrown follows little band latter day mansonites go reporter working story anniversary killings dumb pointless complete waste time short bother movie spoil ending pretty amazing best scene movie end spoil ever indication writer director ability meld two highly volatile temperaments seamless union creativity result powerhouse achievement made timely perhaps culture disturbing fascination celebrity distorted interpretations fame film easily forgotten kevin spacey excellent verbal tsunami buddy ackerman \\x96 totally believable great actor scripting subtle comedy unmatched movie recent years characters interesting even bit predictable highly recommended ages although younger set probably appreciate subtle references certainly appreciate one galley scene particular great movie also story acting weak around pm bought around pm started watch around pm fast forwarded remaining film see anything left watchable human brain either way sucks script horrendously stupid story starts fast absolutely suspense build slightest everything captain howdy says either laughable plain stupid hell kind crap plot holes could drive semi truck holes linda cardellini thing good film poised amazing dee snider plain sucks act one least scary villains ever seen write write damn movie sleep bored throughout whole damn thing acting sucks music sucks script sucks pacing sucks special fx suck directing sucks basically movie sucks film tries serious sophisticated thriller horror flick fails miserably probably one least effective utterly unoriginal films ever seen entire life piece cinematic garbage captured celluloid avoid costs rate film stinks funny fulci stayed giallo supernatural zombie movies avoid film costs know happened season five mess consistent thread holding series together amazing performances leni parker anita laselva two taelons quiet idealogical conflict movie really dislike one boring horror movies mainly starts slow centers boring atmosphere puppets look really cheesy good way like puppet master flicks story lame interesting never really explains sinister origins puppets death scenes like previous movies f x terrible felt asleep first time watched recommend insomniacs fact film wonderful heartwarming tale two people chasing dreams best part nurse betty unpredictability', 'director neil labute uses brutal violence seperate dreams reality along touching drama hilarious comedy never tell going happen next', 'otherwise even waste time', 'one fails create real suspense', 'killer expect anything original even remotely frightening', 'however pretty good acting least type film', 'sorry really recommend anyone', 'one boring pointless movies ever seen', 'secondary plot line incomprehensible relation primary plot line mystifying', 'hated', 'one worst sandra bullock movie since speed quite bad', 'understand garbage got shelves movie store even real movie', 'highly doubt anyone could ever like trash', 'movie making', 'acting like watching wooden puppets moving around reading book bad', 'warn rent movie dumbest thing never seen', 'saw short film hbo day absolutely loved', 'realize wonderful short really last two scenes', 'excellent short film', 'hopefully director james cox turn short feature length film cast win us whole new film', 'agree jessica movie pretty bad', 'characters one dimensional even good guys especially bad guys', 'story line totally predictable', 'much dialogue much music whole film shot elaborately aesthetically like sculpture', 'seen soap operas intelligent movie', 'bad characters bad story bad acting', 'really awful', 'easy watch', 'funny clever hip like pray previous film hype', 'long time see charismatic actor screen', 'paolo sorrentino written wonderful story loneliness tony built one unforgettable characters seen movies recent years', 'movie completely perfect titta di girolamo stay long time vision movie', 'rate movie', 'know emilio estevez directorial debut pacing interplay development characters well clever camera work surrounding character estevez plays suggest natural eye', 'interplay martin emilio contains wonderful chemistry saw wall street martin charlie', 'kathy bates wonderful characters subtle desperation escapism variation character play fields lord', 'readers already seen one miyazaki films still top form made another worthwhile experience', 'never condescends characters good genuine hearts believable problems', 'two main characters may two believable children ever saw put screen', 'easy love even easy identify', 'movie great especially enjoy visual arts', 'scenery two daughters paint photograph beautiful', 'story also funny poignant times', 'people like european films art movies like movie', 'truly art movie actually lot art', 'go rent', 'however finally watching film realized closed mind brilliance depicts also found watching', 'one movie never ceases interest simply keeps alert try attempt decipher meanings', 'brilliance indeed', 'liked movies like matrix better yet sequels think appreciate thought provoking mindblowing experience film give', 'think film like dream', 'simply beautiful', 'rickman stowe play roles hilt tale childrens book writer maybe written subversive tract', 'gloriously fun fast paced fairly accurate portrayal night raver', 'presents idyllic yet serious portrayal ups downs characters lives', 'whatever avoid groove antithesis good human traffic', 'bad everyone else involved share crowe level dedication quality far better film hands sub par mess', 'movie seemed little slow first', 'picked speed got right point', 'showed exactly government scientist argued humanity reasons gadget', 'enjoyed', 'recommended friends', 'particularly pleased acting ability dwight schultz', 'actors truly understand become particular character delivering convincing sincere performance', 'screen chemistry critical entire film genuine', 'film dialogue natural real life', 'writer gorman bechard undoubtedly homework references industry character age appropriate', 'incredible soundtrack truly captures essence film', 'track commands sentiment actually contributing scenes characters', 'definitely worth seeing sort thought provoking film forces question threshold loneliness', 'hayao miyazaki latest eighth film studio ghibili gake ue ponyo ponyo cliff sea wonderfully fun imaginative look childhood', 'time seems film animation dominated disney pixar cgi masterpieces refreshing comforting know miyazaki still relying traditional hand drawn animation tell charming enchanting stories', 'enough said remarkable animation film', 'art style appearance crayon pencil drawings wonderfully colorful fanciful', 'act film glad gonna drift away earth far possible', 'one wants surf small wave space movies deep impact armageddon one fails everywhere', 'choked vomit end cheap drama worthless dialogue must bored death waste time', 'still makes super ending depicts great sea vessel taken mighty frost', 'consider excellent story solid acting look film added bonuses', 'instead got bore fest whiny spoiled brat babysitting', 'watched two sundays ago march th began really enjoy time taped entire thing', 'well acted done tv movie', 'judith light one favorite actresses think superb job film', 'keep watching', 'sad movie good', 'seen movie definitely recommend', 'lovely usual cutie', 'still quite interesting entertaining follow', 'recommend confidence', 'movie well balanced comedy drama thoroughly enjoyed', 'riot see hugo weaving play sex obsessed gay real estate salesman uses clients houses trysts flaming darren tom hollander', 'anyway plot flowed smoothly male bonding scenes hoot', 'opening sequence gem classic cat n mouse games follow delight watch', 'fans genre heaven', 'lange become great actress', 'looked like wonderful story', 'never walked movie faster', 'got bored watching jessice lange take clothes', 'unfortunately virtue film production work lost regrettable script', 'word embarrassing', 'exceptionally bad', 'insult one intelligence huge waste money', 'wow loved place', 'crust good', 'tasty texture nasty', 'stopped late may bank holiday rick steve recommendation loved', 'selection menu great prices', 'getting angry want damn pho', 'honeslty taste fresh', 'potatoes like rubber could tell made ahead time kept warmer', 'fries great', 'great touch', 'service prompt', 'would go back', 'cashier care ever say still ended wayyy overpriced', 'tried cape cod ravoli chicken cranberry mmmm', 'disgusted pretty sure human hair', 'shocked signs indicate cash', 'highly recommended', 'waitress little slow service', 'place worth time let alone vegas', 'like', 'burrittos blah', 'food amazing', 'service also cute', 'could care less interior beautiful', 'performed', 'right red velvet cake ohhh stuff good', 'never brought salad asked', 'hole wall great mexican street tacos friendly staff', 'took hour get food tables restaurant food luke warm sever running around like totally overwhelmed', 'worst salmon sashimi', 'also combos like burger fries beer decent deal', 'like final blow', 'found place accident could happier', 'seems like good quick place grab bite familiar pub food favor look elsewhere', 'overall like place lot', 'redeeming quality restaurant inexpensive', 'ample portions good prices', 'poor service waiter made feel like stupid every time came table', 'first visit hiro delight', 'service sucks', 'shrimp tender moist', 'deal good enough would drag establishment', 'hard judge whether sides good grossed melted styrofoam want eat fear getting sick', 'positive note server attentive provided great service', 'frozen pucks disgust worst people behind register', 'thing like prime rib dessert section', 'bad food damn generic', 'burger good beef cooked right', 'want sandwich go firehouse', 'side greek salad greek dressing tasty pita hummus refreshing', 'ordered duck rare pink tender inside nice char outside', 'came running us realized husband left sunglasses table', 'chow mein good', 'horrible attitudes towards customers talk one customers enjoy food', 'portion huge', 'loved friendly servers great food wonderful imaginative menu', 'heart attack grill downtown vegas absolutely flat lined excuse restaurant', 'much seafood like strings pasta bottom', 'salad right amount sauce power scallop perfectly cooked', 'ripped banana ripped petrified tasteless', 'least think refill water struggle wave minutes', 'place receives stars appetizers', 'cocktails handmade delicious', 'definitely go back', 'glad found place', 'great food service huge portions give military discount', 'always great time dos gringos', 'update went back second time still amazing', 'got food apparently never heard salt batter fish chewy', 'great way finish great', 'deal included tastings drinks jeff went beyond expected', 'really really good rice time', 'service meh', 'took min get milkshake nothing chocolate milk', 'guess known place would suck inside excalibur use common sense', 'scallop dish quite appalling value well', 'times bad customer service', 'sweet potato fries good seasoned well', 'today second time lunch buffet pretty good', 'much good food vegas feel cheated wasting eating opportunity going rice company', 'coming like experiencing underwhelming relationship parties wait person ask break', 'walked place smelled like old grease trap others eating', 'turkey roast beef bland', 'place', 'pan cakes everyone raving taste like sugary disaster tailored palate six year old', 'love pho spring rolls oh yummy try', 'poor batter meat ratio made chicken tenders unsatisfying', 'say food amazing', 'omelets die', 'everything fresh delicious', 'summary largely disappointing dining experience', 'like really sexy party mouth outrageously flirting hottest person party', 'never hard rock casino never ever step forward', 'best breakfast buffet', 'say bye bye tip lady', 'never go', 'back', 'food arrived quickly', 'good', 'side cafe serves really good food', 'server fantastic found wife loves roasted garlic bone marrow added extra meal another marrow go', 'good thing waiter helpful kept bloddy mary coming', 'best buffet town price cannot beat', 'loved mussels cooked wine reduction duck tender potato dishes delicious', 'one better buffets', 'went tigerlilly fantastic afternoon', 'food delicious bartender attentive personable got great deal', 'ambience wonderful music playing', 'go back next trip', 'sooooo good', 'real sushi lovers let honest yama good', 'least min passed us ordering food arriving busy', 'really fantastic thai restaurant definitely worth visit', 'nice spicy tender', 'good prices', 'check', 'pretty gross', 'better atmosphere', 'kind hard mess steak', 'although much liked look sound place actual experience bit disappointing', 'know place managed served blandest food ever eaten preparing indian cuisine', 'worst service boot least worries', 'service fine waitress friendly', 'guys steaks steak loving son steak best worst places said best steak ever eaten', 'thought venture away get good sushi place really hit spot night', 'host staff lack better word bitches', 'bland liking place number reasons want waste time bad reviewing leave', 'phenomenal food service ambiance', 'return', 'definitely worth venturing strip pork belly return next time vegas', 'place way overpriced mediocre food', 'penne vodka excellent', 'good selection food including massive meatloaf sandwich crispy chicken wrap delish tuna melt tasty burgers', 'management rude', 'delicious nyc bagels good selections cream cheese real lox capers even', 'great subway fact good come every subway meet expectations', 'seriously solid breakfast', 'one best bars food vegas', 'extremely rude really many restaurants would love dine weekend vegas', 'drink never empty made really great menu suggestions', '', 'waiter helpful friendly rarely checked us', 'husband ate lunch disappointed food service', 'red curry much bamboo shoots tasty', 'nice blanket moz top feel like done cover subpar food', 'bathrooms clean place well decorated', 'menu always changing food quality going service extremely slow', 'service little slow considering served people servers food coming slow pace', 'give thumbs', 'watched waiter pay lot attention tables ignore us', 'fiancé came middle day greeted seated right away', 'great restaurant mandalay bay', 'waited forty five minutes vain', 'crostini came salad stale', 'highlights great quality nigiri', 'staff friendly joint always clean', 'different cut piece day still wonderful tender well well flavored', 'ordered voodoo pasta first time really excellent pasta since going gluten free several years ago', 'place good', 'unfortunately must hit bakery leftover day everything ordered stale', 'came back today since relocated still impressed', 'seated immediately', 'menu diverse reasonably priced', 'avoid cost', 'restaurant always full never wait', 'delicious', 'place hands one best places eat phoenix metro area', 'go looking good food', 'never treated bad', 'bacon hella salty', 'also ordered spinach avocado salad ingredients sad dressing literally zero taste', 'really vegas fine dining used right menus handed ladies prices listed', 'waitresses friendly', 'lordy khao soi dish missed curry lovers', 'everything menu terrific also thrilled made amazing accommodations vegetarian daughter', 'perhaps caught night judging reviews inspired go back', 'service leaves lot desired', 'atmosphere modern hip maintaining touch coziness', 'weekly haunt definitely place come back every', 'literally sat minutes one asking take order', 'burger absolutely flavor meat totally bland burger overcooked charcoal flavor', 'also decided send back waitress looked like verge heart attack', 'dressed treated rudely', 'probably dirt', 'love place hits spot want something healthy lacking quantity flavor', 'ordered lemon raspberry ice cocktail also incredible', 'food sucked expected sucked could imagined', 'interesting decor', 'really like crepe station', 'also served hot bread butter home made potato chips bacon bits top original good', 'watch preparing delicious food', 'egg rolls fantastic', 'order arrived one gyros missing', 'salad wings ice cream dessert left feeling quite satisfied', 'really sure joey voted best hot dog valley readers phoenix magazine', 'best place go tasty bowl pho', 'live music fridays totally blows', 'never insulted felt disrespected', 'friendly staff', 'worth drive', 'heard good things place exceeding every hope could dreamed', 'food great serivce', 'warm beer help', 'great brunch spot', 'service friendly inviting', 'good lunch spot', 'lived since first last time stepped foot place', 'worst experience ever', 'must night place', 'sides delish mixed mushrooms yukon gold puree white corn beateous', 'bug never showed would given sure side wall bug climbing kitchen', 'minutes waiting salad realized coming time soon', 'friend loved salmon tartar', 'go back', 'extremely tasty', 'waitress good though', 'soggy good', 'jamaican mojitos delicious', 'small worth price', 'food rich order accordingly', 'shower area outside rinse take full shower unless mind nude everyone see', 'service bit lacking', 'lobster bisque bussell sprouts risotto filet needed salt pepper course none tables', 'hopefully bodes going business someone cook come', 'either cold enough flavor bad', 'loved bacon wrapped dates', 'unbelievable bargain', 'folks otto always make us feel welcome special', 'mains also uninspired', 'place first pho amazing', 'wonderful experience made place must stop whenever town', 'food bad enough enjoy dealing world worst annoying drunk people', 'fun chef', 'ordered double cheeseburger got single patty falling apart picture uploaded yeah still sucks', 'great place couple drinks watch sporting events walls covered tv', 'possible give zero stars', 'descriptions said yum yum sauce another said eel sauce yet another said spicy mayo well none rolls sauces', 'say would hardest decision honestly dishes taste supposed taste amazing', 'rolled eyes may stayed sure go back try', 'everyone attentive providing excellent customer service', 'horrible waste time money', 'dish quite flavourful', 'time side restaurant almost empty excuse', 'busy either also building freezing cold', 'like reviewer said pay eat place', 'drinks took close minutes come one point', 'seriously flavorful delights folks', 'much better ayce sushi place went vegas', 'lighting dark enough set mood', 'based sub par service received effort show gratitude business going back', 'owner really great people', 'nothing privileged working eating', 'greek dressing creamy flavorful', 'overall think would take parents place made similar complaints silently felt', 'pizza good peanut sauce tasty', 'table service pretty fast', 'fantastic service', 'well would given godfathers zero stars possible', 'know make', 'tough short flavor', 'hope place sticks around', 'bars vegas ever recall charged tap water', 'restaurant atmosphere exquisite', 'good service clean inexpensive boot', 'seafood fresh generous portion', 'plus bucks', 'service par either', 'thus far visited twice food absolutely delicious time', 'good year ago', 'self proclaimed coffee cafe wildly disappointed', 'veggitarian platter world', 'cant go wrong food', 'beat', 'stopped place madison ironman friendly kind staff', 'chefs friendly good job', 'better dedicated boba tea spots even jenni pho', 'liked patio service outstanding', 'goat taco skimp meat wow flavor', 'think', 'mac salad pretty bland getting', 'went bachi burger friend recommendation disappointed', 'service stinks', 'waited waited', 'place quality sushi quality restaurant', 'would definitely recommend wings well pizza', 'great pizza salads', 'things went wrong burned saganaki', 'waited hour breakfast could done times better home', 'place amazing', 'hate disagree fellow yelpers husband disappointed place', 'waited hours never got either pizzas many around us came later', 'know slow', 'staff great food delish incredible beer selection', 'live neighborhood disappointed back convenient location', 'know pulled pork could soooo delicious', 'get incredibly fresh fish prepared care', 'go gave star rating please know third time eating bachi burger writing review', 'love fact everything menu worth', 'never dining place', 'food excellent service good', 'good beer drink selection good food selection', 'please stay away shrimp stir fried noodles', 'potato chip order sad could probably count many chips box probably around', 'food really boring', 'good service check', 'greedy corporation never see another dime', 'never ever go back', 'much like go back get passed atrocious service never return', 'summer dine charming outdoor patio delightful', 'expect good', 'fantastic food', 'ordered toasted english muffin came untoasted', 'food good', 'never going back', 'great food price high quality house made', 'bus boy hand rude', 'point friends basically figured place joke mind making publicly loudly known', 'back good bbq lighter fare reasonable pricing tell public back old ways', 'considering two us left full happy $ go wrong', 'bread made house', 'downside service', 'also fries without doubt worst fries ever', 'service exceptional food good reviews', 'couple months later returned amazing meal', 'favorite place town shawarrrrrrma', 'black eyed peas sweet potatoes unreal', 'disappointed', 'could serve vinaigrette may make better overall dish still good', 'go far many places never seen restaurant serves egg breakfast especially $', 'mom got home immediately got sick bites salad', 'servers pleasant deal always honor pizza hut coupons', 'truly unbelievably good glad went back', 'fantastic service pleased atmosphere', 'everything gross', 'love place', 'love place', 'great service food', 'first bathrooms location dirty seat covers replenished plain yucky', 'burger got gold standard $ burger kind disappointed', 'omg food delicioso', 'nothing authentic place', 'spaghetti nothing special whatsoever', 'dishes salmon best great', 'vegetables fresh sauce feels like authentic thai', 'worth driving tucson', 'selection probably worst seen vegas none', 'pretty good beer selection', 'place like chipotle better', 'classy warm atmosphere fun fresh appetizers succulent steaks baseball steak', 'stars brick oven bread app', 'eaten multiple times time food delicious', 'sat another ten minutes finally gave left', 'terrible', 'everyone treated equally special', 'take min pancakes eggs', 'delicious', 'good side staff genuinely pleasant enthusiastic real treat', 'sadly gordon ramsey steak place shall sharply avoid next trip vegas', 'always evening wonderful food delicious', 'best fish ever life', 'bathroom next door nice', 'buffet small food offered bland', 'outstanding little restaurant best food ever tasted', 'pretty cool would say', 'definitely turn doubt back unless someone else buying', 'server great job handling large rowdy table', 'find wasting food despicable food', 'wife lobster bisque soup lukewarm', 'would come back sushi craving vegas', 'staff great ambiance great', 'deserves stars', 'left stomach ache felt sick rest day', 'dropped ball', 'dining space tiny elegantly decorated comfortable', 'customize order way like usual eggplant green bean stir fry love', 'beans rice mediocre best', 'best tacos town far', 'took back money got outta', 'interesting part town place amazing', 'rude inconsiderate management', 'staff friendly wait times served horrible one even says hi first minutes', 'back', 'back', 'great dinners', 'service outshining definitely recommend halibut', 'food terrible', 'food terrible', 'never ever go back told many people happened', 'recommend unless car breaks front starving', 'come back every time vegas', 'place deserves one star food', 'disgrace', 'def coming back bowl next time', 'want healthy authentic ethic food try place', 'continue come ladies night andddd date night highly recommend place anyone area', 'several times past experience always great', 'walked away stuffed happy first vegas buffet experience', 'service excellent prices pretty reasonable considering vegas located inside crystals shopping mall aria', 'summarize food incredible nay transcendant nothing brings joy quite like memory pneumatic condiment dispenser', 'probably one people ever go ians like', 'kids pizza always hit lots great side dish options kiddos', 'service perfect family atmosphere nice see', 'cooked perfection service impeccable', 'one simply disappointment', 'overall disappointed quality food bouchon', 'accountant know getting screwed', 'great place eat reminds little mom pop shops san francisco bay area', 'today first taste buldogis gourmet hot dog tell ever thought possible', 'left frustrated', 'definitely soon', 'food really good got full petty fast', 'service fantastic', 'total waste time', 'know kind best iced tea', 'come hungry leave happy stuffed', 'service give stars', 'assure disappointed', 'take little bad service food sucks', 'gave trying eat crust teeth still sore', 'completely grossed', 'really enjoyed eating', 'first time going think quickly become regular', 'server nice even though looked little overwhelmed needs stayed professional friendly end', 'dinner companions told everything fresh nice texture taste', 'ground right next table large smeared stepped tracked everywhere pile green bird poop', 'furthermore even find hours operation website', 'tried like place times think done', 'mistake', 'complaints', 'seriously good pizza expert connisseur topic', 'waiter jerk', 'strike wants rushed', 'nicest restaurant owners ever come across', 'never come', 'loved biscuits', 'service quick friendly', 'ordered appetizer took minutes pizza another minutes', 'absolutley fantastic', 'huge awkward lb piece cow ths gristle fat', 'definitely come back', 'like steiners dark feels like bar', 'wow spicy delicious', 'familiar check', 'take business dinner dollars elsewhere', 'love go back', 'anyway fs restaurant wonderful breakfast lunch', 'nothing special', 'day week different deal delicious', 'mention combination pears almonds bacon big winner', 'back']\n"
     ]
    }
   ],
   "source": [
    "#2. Pad the sentences\n",
    "print(\"\\nTraining sequences:\\n\", train_sentences)"
   ]
  },
  {
   "cell_type": "markdown",
   "id": "97e7ba88",
   "metadata": {},
   "source": [
    "**B4. Categories of Sentiment**\n",
    "\n",
    "In this assignment, sentiment categories were 0 for negative and 1 for positive."
   ]
  },
  {
   "cell_type": "code",
   "execution_count": 52,
   "id": "b3cbe928",
   "metadata": {},
   "outputs": [
    {
     "data": {
      "text/html": [
       "<div>\n",
       "<style scoped>\n",
       "    .dataframe tbody tr th:only-of-type {\n",
       "        vertical-align: middle;\n",
       "    }\n",
       "\n",
       "    .dataframe tbody tr th {\n",
       "        vertical-align: top;\n",
       "    }\n",
       "\n",
       "    .dataframe thead th {\n",
       "        text-align: right;\n",
       "    }\n",
       "</style>\n",
       "<table border=\"1\" class=\"dataframe\">\n",
       "  <thead>\n",
       "    <tr style=\"text-align: right;\">\n",
       "      <th></th>\n",
       "      <th>review</th>\n",
       "      <th>word_count</th>\n",
       "      <th>tokens_count</th>\n",
       "      <th>clean_review</th>\n",
       "    </tr>\n",
       "    <tr>\n",
       "      <th>sentiments</th>\n",
       "      <th></th>\n",
       "      <th></th>\n",
       "      <th></th>\n",
       "      <th></th>\n",
       "    </tr>\n",
       "  </thead>\n",
       "  <tbody>\n",
       "    <tr>\n",
       "      <th>0</th>\n",
       "      <td>1362</td>\n",
       "      <td>1362</td>\n",
       "      <td>1362</td>\n",
       "      <td>1362</td>\n",
       "    </tr>\n",
       "    <tr>\n",
       "      <th>1</th>\n",
       "      <td>1386</td>\n",
       "      <td>1386</td>\n",
       "      <td>1386</td>\n",
       "      <td>1386</td>\n",
       "    </tr>\n",
       "  </tbody>\n",
       "</table>\n",
       "</div>"
      ],
      "text/plain": [
       "            review  word_count  tokens_count  clean_review\n",
       "sentiments                                                \n",
       "0             1362        1362          1362          1362\n",
       "1             1386        1386          1386          1386"
      ]
     },
     "execution_count": 52,
     "metadata": {},
     "output_type": "execute_result"
    }
   ],
   "source": [
    "combine_df.groupby('sentiments').count()"
   ]
  },
  {
   "cell_type": "markdown",
   "id": "b881e8c2",
   "metadata": {},
   "source": [
    "**B5. Steps to Prepare the Data**\n",
    "\n",
    "**Step 1.There are steps for preparation**\n",
    "1. Install necessary packages\n",
    "2. Load three data set into Pandas data frame\n",
    "3. Display data frame\n",
    "4. Evaluate the data structure to understand input data better\n",
    "* Review individual DataFrames info - Amazon\n",
    "* Review individual DataFrames info - IMDB\n",
    "* Review individual DataFrames info - Yelp\n",
    "5. Combine the three review labeled files into one\n",
    "6. Re-validate column, null values, and find missing values.\n",
    "7. Check the combined data frames\n",
    "* Check combined data frame info\n",
    "* Check combined data frame columns\n",
    "* Check combined data frame type\n",
    "* Check data types of features\n",
    "* Check binary rating (0 = negative, 1 = positive)\n",
    "* Check positive and negative reviews from combined DataFrame\n",
    "* Distribution of the ratings - sentiments\n",
    "* Describe dataset statistics\n",
    "* Checking for emoji \"\":D\"\"\n",
    "* Check for unusual characters\n",
    "* Check vocabulary size, proposed word embedding length\n",
    "* Find vocabulary size; and how many unique words are there in the Data Frame\n",
    "* Check the length of unique words \n",
    "* Check the length of the shortest review\n",
    "* Check the length of the longest review\n",
    "* Total length of all reviews\n",
    "\n",
    "8. Tokenize words by tokenize function\n",
    "* Tokenize the text of the review\n",
    "* Print first ten reviews\n",
    "* Check word_tokens type\n",
    "* Check sample review #6\n",
    "* Count words in the reviews column\n",
    "* Average word count in the reviews\n",
    "* Count how many tokens in each tokenized review\n",
    "* New 'tokens_count' feature for the length of each review\n",
    "* Replace all capital with lowercase letters\n",
    "* Remove all numbers from clean_review\n",
    "* Replace all special characters (select list)\n",
    "* Remove stop words\n",
    "* Remove specific words that are in both positive and negative reviews\n",
    "* Check sample review #6\n",
    "* Visualization (positive and negative reviews)\n",
    "\n",
    "**9. Prepared data set copy:** combine_df_prepared_nlp.csv (Step 4)\n",
    "\n",
    "**Step 2. The tokenization process**\n",
    "1. Split the data set\n",
    "2. Split the data set in 80/20 training and testing\n",
    "3. After tokenization, set up the split \n",
    "4. Set parameters for vocab\n",
    "* Train at 2200 words\n",
    "* 16 dimensions\n",
    "* Max length of each review limited to 100 words per review\n",
    "* Truncating after 100 words \n",
    "* Padding applied at the end of the review\n",
    "* Tokenizer, Fit the tokenizer - train set\n",
    "\n",
    "**Step 3. Padding Process**\n",
    "1. Setting sequences, and padding\n",
    "2. Padded sentences\n",
    "3. Categories of Sentiment\n",
    "\n",
    "**Step 4. Prepared data set copy: combine_df_prepared_nlp.csv**"
   ]
  },
  {
   "cell_type": "markdown",
   "id": "e65c44e0",
   "metadata": {},
   "source": [
    "**B6. Prepared Dataset**"
   ]
  },
  {
   "cell_type": "code",
   "execution_count": 53,
   "id": "66a016b6",
   "metadata": {},
   "outputs": [
    {
     "name": "stdout",
     "output_type": "stream",
     "text": [
      "----------------------------------------review---------------------------------------- - "
     ]
    },
    {
     "data": {
      "text/plain": [
       "10/10                                                                                                                    2\n",
       "The food was terrible.                                                                                                   2\n",
       "I would not recommend this place.                                                                                        2\n",
       "I won't be back.                                                                                                         2\n",
       "Great phone.                                                                                                             2\n",
       "                                                                                                                        ..\n",
       "You'll love how thin it is.                                                                                              1\n",
       "Easily, none other cartoon made me laugh in a tender way (before getting into dark sitcoms oriented for teenagers).      1\n",
       "I found a six inch long piece of wire in my salsa.                                                                       1\n",
       "Cute, quaint, simple, honest.                                                                                            1\n",
       "We got the food and apparently they have never heard of salt and the batter on the fish was chewy.                       1\n",
       "Name: review, Length: 2731, dtype: int64"
      ]
     },
     "metadata": {},
     "output_type": "display_data"
    },
    {
     "name": "stdout",
     "output_type": "stream",
     "text": [
      "----------------------------------------sentiments---------------------------------------- - "
     ]
    },
    {
     "data": {
      "text/plain": [
       "1    1386\n",
       "0    1362\n",
       "Name: sentiments, dtype: int64"
      ]
     },
     "metadata": {},
     "output_type": "display_data"
    },
    {
     "name": "stdout",
     "output_type": "stream",
     "text": [
      "----------------------------------------word_count---------------------------------------- - "
     ]
    },
    {
     "data": {
      "text/plain": [
       "4       203\n",
       "5       180\n",
       "7       173\n",
       "6       159\n",
       "8       156\n",
       "10      152\n",
       "3       150\n",
       "11      144\n",
       "12      139\n",
       "9       133\n",
       "2       106\n",
       "14      101\n",
       "13       99\n",
       "15       97\n",
       "16       86\n",
       "17       83\n",
       "20       71\n",
       "19       70\n",
       "21       69\n",
       "18       65\n",
       "23       45\n",
       "22       40\n",
       "24       38\n",
       "25       37\n",
       "26       22\n",
       "28       16\n",
       "27       14\n",
       "1        12\n",
       "31       10\n",
       "30       10\n",
       "34       10\n",
       "29        9\n",
       "33        8\n",
       "32        7\n",
       "38        4\n",
       "35        4\n",
       "36        3\n",
       "45        3\n",
       "40        2\n",
       "43        2\n",
       "47        2\n",
       "53        1\n",
       "71        1\n",
       "199       1\n",
       "51        1\n",
       "797       1\n",
       "62        1\n",
       "39        1\n",
       "37        1\n",
       "302       1\n",
       "42        1\n",
       "54        1\n",
       "56        1\n",
       "1390      1\n",
       "865       1\n",
       "Name: word_count, dtype: int64"
      ]
     },
     "metadata": {},
     "output_type": "display_data"
    },
    {
     "name": "stdout",
     "output_type": "stream",
     "text": [
      "----------------------------------------tokens_count---------------------------------------- - "
     ]
    },
    {
     "data": {
      "text/plain": [
       "5       186\n",
       "6       179\n",
       "8       159\n",
       "7       156\n",
       "9       147\n",
       "13      145\n",
       "12      141\n",
       "11      140\n",
       "4       126\n",
       "10      124\n",
       "14      100\n",
       "3        95\n",
       "15       95\n",
       "16       94\n",
       "17       94\n",
       "18       81\n",
       "19       77\n",
       "21       75\n",
       "22       71\n",
       "20       62\n",
       "24       52\n",
       "23       50\n",
       "26       43\n",
       "25       38\n",
       "27       30\n",
       "28       25\n",
       "29       20\n",
       "30       19\n",
       "31       17\n",
       "32       16\n",
       "33       13\n",
       "39        7\n",
       "34        7\n",
       "2         6\n",
       "36        6\n",
       "42        6\n",
       "41        5\n",
       "35        5\n",
       "37        4\n",
       "40        4\n",
       "38        3\n",
       "47        2\n",
       "45        2\n",
       "43        2\n",
       "1         2\n",
       "50        2\n",
       "52        2\n",
       "46        1\n",
       "348       1\n",
       "56        1\n",
       "62        1\n",
       "80        1\n",
       "49        1\n",
       "55        1\n",
       "69        1\n",
       "73        1\n",
       "229       1\n",
       "923       1\n",
       "1005      1\n",
       "1625      1\n",
       "Name: tokens_count, dtype: int64"
      ]
     },
     "metadata": {},
     "output_type": "display_data"
    },
    {
     "name": "stdout",
     "output_type": "stream",
     "text": [
      "----------------------------------------clean_review---------------------------------------- - "
     ]
    },
    {
     "data": {
      "text/plain": [
       "great phone                                                                                                  8\n",
       "disappointed                                                                                                 6\n",
       "back                                                                                                         5\n",
       "waste money                                                                                                  5\n",
       "works great                                                                                                  4\n",
       "                                                                                                            ..\n",
       "place nice surprise                                                                                          1\n",
       "hate writing bad reviews films especially really like star film bad believe one second anyone could proud    1\n",
       "entire audience applauded conclusion film                                                                    1\n",
       "amazed quick arrival two original lg cell phone batteries fraction price                                     1\n",
       "bt battery junk                                                                                              1\n",
       "Name: clean_review, Length: 2674, dtype: int64"
      ]
     },
     "metadata": {},
     "output_type": "display_data"
    }
   ],
   "source": [
    "# Prepared data set copy: combine_df_prepared_nlp.csv\n",
    "for col in combine_df.columns:\n",
    "    print('-' * 40 + col + '-' * 40 , end=' - ')\n",
    "    display(combine_df[col].value_counts())\n",
    "\n",
    "combine_df.to_csv(\"combine_df_prepared_nlp.csv\", index=False)\n",
    "#combine_df.to_csv('nlp_cleaned_df.csv', index = False)"
   ]
  },
  {
   "cell_type": "markdown",
   "id": "4a448610",
   "metadata": {},
   "source": [
    "# Part 3:  Network Architecture"
   ]
  },
  {
   "cell_type": "markdown",
   "id": "ef77dda2",
   "metadata": {},
   "source": [
    "**C1. Summary**\n",
    "\n",
    "I create the Keras model by using TensorFlow. \n",
    "\n",
    "* Binary 0 and 1 for a negative and positive review.\n",
    "* Embedding layer, in which we can define the chosen parameters.\n",
    "* The GlobelAverragePooling1D is set to output for the 2D object.\n",
    "* The Third layer is set to 'relu' activation with 10\n",
    "* The fourth layer is set to 'relu' activation with 6\n",
    "* The fifth layer is set to 'sigmoid' activation with 1\n",
    "\n",
    "Please see below for the output of the function model from TensorFlow."
   ]
  },
  {
   "cell_type": "code",
   "execution_count": 54,
   "id": "79ce3f08",
   "metadata": {},
   "outputs": [],
   "source": [
    "# Creating model with tensofFlow\n",
    "model = tf.keras.Sequential([\n",
    "    tf.keras.layers.Embedding(vocab_size, embedding_dim, input_length=max_length), \n",
    "    tf.keras.layers.GlobalAveragePooling1D(), \n",
    "    tf.keras.layers.Dense(10, activation='relu'), \n",
    "    tf.keras.layers.Dense(6, activation='relu'), \n",
    "    tf.keras.layers.Dense(1, activation='sigmoid')  \n",
    "])\n",
    "\n",
    "#tf.keras.layers.Dense(1, activation='sigmoid')\n",
    "# tf.keras.layers.Dense(1, activation='softmax')"
   ]
  },
  {
   "cell_type": "code",
   "execution_count": 55,
   "id": "9627e150",
   "metadata": {},
   "outputs": [
    {
     "name": "stdout",
     "output_type": "stream",
     "text": [
      "Model: \"sequential\"\n",
      "_________________________________________________________________\n",
      " Layer (type)                Output Shape              Param #   \n",
      "=================================================================\n",
      " embedding (Embedding)       (None, 100, 16)           35200     \n",
      "                                                                 \n",
      " global_average_pooling1d (G  (None, 16)               0         \n",
      " lobalAveragePooling1D)                                          \n",
      "                                                                 \n",
      " dense (Dense)               (None, 10)                170       \n",
      "                                                                 \n",
      " dense_1 (Dense)             (None, 6)                 66        \n",
      "                                                                 \n",
      " dense_2 (Dense)             (None, 1)                 7         \n",
      "                                                                 \n",
      "=================================================================\n",
      "Total params: 35,443\n",
      "Trainable params: 35,443\n",
      "Non-trainable params: 0\n",
      "_________________________________________________________________\n",
      "None\n"
     ]
    }
   ],
   "source": [
    "# Compile model, set loss function\n",
    "model.compile(loss = 'binary_crossentropy', optimizer = 'adam', metrics = ['accuracy'])\n",
    "print(model.summary())"
   ]
  },
  {
   "cell_type": "markdown",
   "id": "968412a9",
   "metadata": {},
   "source": [
    "**C2. Network Architecture Discussion**\n",
    "\n",
    "1. The number of layers: we used five layers in the model.\n",
    "\n",
    "2. The type of layers: \n",
    "\n",
    "* The embedding layer (None, 100, 16), in which we can define the chosen parameters. The vocabulary size is 2200 words, the length of sentence maximum is 100 words, and the dimension is 16; the total of the parameter is 35200.\n",
    "* The GlobelAverragePooling1D layer (None, 16) is set to output the 2D object; the total of the parameter is 0.\n",
    "* The third layer is hidden (Dense) and set to 'relu' activation with 10; the total of the parameter is 170.\n",
    "* The fourth layer is hidden (Dense) and set to 'relu' activation with 6; the total of the parameter is 66.\n",
    "* The fifth layer is hidden (Dense) and set to 'sigmoid' activation with 1; the total of the parameter is 7.\n",
    "\n",
    "3. Total number of parameters: The overall total of the parameter is 35443, the trainable parameter is 35443, and the non-trainable parameter is 0."
   ]
  },
  {
   "cell_type": "markdown",
   "id": "d7c8fcb2",
   "metadata": {},
   "source": [
    "**C3. Justify Hyperparameters**\n",
    "\n",
    "1. Activation functions we used 'relu' activation, which gives us better performance and generalizations with the larger datasets. According to Pius, the main idea of the 'relu' function is to perform a threshold operation to each input element where values less than zero are set to zero. (Pius, 2019). We use 'sigmoid' activation for the final layer which is equivalent in the binary classification problem.\n",
    "\n",
    "2. Number of nodes per layer: we used ten nodes in the third hidden layer, six in the fourth, and one in the last layer.\n",
    "\n",
    "3. Loss function: we used the binary_crossentropy loss function for probabilistic loss.\n",
    "\n",
    "4. Optimizer: we used 'adam' optimizer. Adam is \"an extension to the gradient descent optimization algorithm\" and \"designed to accelerate the optimization process, e.g., decrease the number of function evaluations required to reach the optima, or to improve the capability of the optimization algorithm.\" (Browlee, 2021)\n",
    "\n",
    "5. Stopping criteria: we used the EarlyStopping hyperparameter to stop training the data set when performance begins to degrade. \n",
    "\n",
    "6. Evaluation metric: we used the 'accuracy' metric to see how the similarity of the measured value compares to the known value."
   ]
  },
  {
   "cell_type": "code",
   "execution_count": 56,
   "id": "b835ff78",
   "metadata": {},
   "outputs": [],
   "source": [
    "# Training the model- comfirm stopping creiteria with np arrays\n",
    "train_labels_final = np.array(train_labels)\n",
    "test_labels_final = np.array(test_labels)"
   ]
  },
  {
   "cell_type": "markdown",
   "id": "cfa5bf1a",
   "metadata": {},
   "source": [
    "# Part IV:  Model Evaluation"
   ]
  },
  {
   "cell_type": "markdown",
   "id": "7fc5a912",
   "metadata": {},
   "source": [
    "**D1. Impact of using stopping criteria**"
   ]
  },
  {
   "cell_type": "markdown",
   "id": "032dc37a",
   "metadata": {},
   "source": [
    "First, we fit the model for 15 epochs."
   ]
  },
  {
   "cell_type": "code",
   "execution_count": 57,
   "id": "972475c6",
   "metadata": {},
   "outputs": [],
   "source": [
    "# Import EarlyStopping function from Keras\n",
    "#import tensorflow\n",
    "#from keras.callbacks import ModelCheckpoint, EarlyStopping"
   ]
  },
  {
   "cell_type": "code",
   "execution_count": 58,
   "id": "75e9cc41",
   "metadata": {},
   "outputs": [
    {
     "name": "stdout",
     "output_type": "stream",
     "text": [
      "Epoch 1/15\n",
      "69/69 [==============================] - 3s 14ms/step - loss: 0.6929 - accuracy: 0.5168 - val_loss: 0.6953 - val_accuracy: 0.4545\n",
      "Epoch 2/15\n",
      "69/69 [==============================] - 0s 5ms/step - loss: 0.6921 - accuracy: 0.5168 - val_loss: 0.6945 - val_accuracy: 0.4545\n",
      "Epoch 3/15\n",
      "69/69 [==============================] - 1s 9ms/step - loss: 0.6912 - accuracy: 0.5168 - val_loss: 0.6953 - val_accuracy: 0.4545\n",
      "Epoch 4/15\n",
      "69/69 [==============================] - 0s 6ms/step - loss: 0.6897 - accuracy: 0.5168 - val_loss: 0.6947 - val_accuracy: 0.4545\n",
      "Epoch 5/15\n",
      "69/69 [==============================] - 0s 4ms/step - loss: 0.6862 - accuracy: 0.5168 - val_loss: 0.6908 - val_accuracy: 0.4545\n",
      "Epoch 6/15\n",
      "69/69 [==============================] - 0s 4ms/step - loss: 0.6770 - accuracy: 0.5678 - val_loss: 0.6832 - val_accuracy: 0.5091\n",
      "Epoch 7/15\n",
      "69/69 [==============================] - 0s 6ms/step - loss: 0.6590 - accuracy: 0.7284 - val_loss: 0.6651 - val_accuracy: 0.7509\n",
      "Epoch 8/15\n",
      "69/69 [==============================] - 0s 5ms/step - loss: 0.6229 - accuracy: 0.8080 - val_loss: 0.6380 - val_accuracy: 0.7673\n",
      "Epoch 9/15\n",
      "69/69 [==============================] - 0s 5ms/step - loss: 0.5505 - accuracy: 0.8708 - val_loss: 0.6026 - val_accuracy: 0.6855\n",
      "Epoch 10/15\n",
      "69/69 [==============================] - 0s 5ms/step - loss: 0.4531 - accuracy: 0.8935 - val_loss: 0.5539 - val_accuracy: 0.7273\n",
      "Epoch 11/15\n",
      "69/69 [==============================] - 0s 5ms/step - loss: 0.3757 - accuracy: 0.8958 - val_loss: 0.5524 - val_accuracy: 0.7000\n",
      "Epoch 12/15\n",
      "69/69 [==============================] - 0s 5ms/step - loss: 0.3155 - accuracy: 0.9086 - val_loss: 0.5033 - val_accuracy: 0.7491\n",
      "Epoch 13/15\n",
      "69/69 [==============================] - 0s 5ms/step - loss: 0.2790 - accuracy: 0.9113 - val_loss: 0.4971 - val_accuracy: 0.7455\n",
      "Epoch 14/15\n",
      "69/69 [==============================] - 0s 6ms/step - loss: 0.2530 - accuracy: 0.9145 - val_loss: 0.4657 - val_accuracy: 0.7909\n",
      "Epoch 15/15\n",
      "69/69 [==============================] - 0s 6ms/step - loss: 0.2290 - accuracy: 0.9227 - val_loss: 0.4586 - val_accuracy: 0.7855\n"
     ]
    }
   ],
   "source": [
    "# Fit the model for 15 epochs\n",
    "epochs_num = 15\n",
    "\n",
    "history_model1 = model.fit(padded, train_labels_final, epochs= epochs_num, \n",
    "                   validation_data=(test_padded, test_labels_final))"
   ]
  },
  {
   "cell_type": "markdown",
   "id": "7e9c8f3e",
   "metadata": {},
   "source": [
    "We fit the model for 15 epochs, and we can see that the accuracy in the first epoch is 0.5168, and stay the same through the first to the fourth. The first loss is 0.6929 and begins to degrade in the second epoch as 0.6918. \n",
    "To prevent the overfitting, we use the EarlyStopping hyperparameter to stop training the data set when performance degrades."
   ]
  },
  {
   "cell_type": "code",
   "execution_count": 59,
   "id": "e78a76cf",
   "metadata": {},
   "outputs": [
    {
     "name": "stdout",
     "output_type": "stream",
     "text": [
      "Epoch 1/15\n",
      "69/69 [==============================] - 0s 6ms/step - loss: 0.2137 - accuracy: 0.9272 - val_loss: 0.5480 - val_accuracy: 0.7218\n",
      "Epoch 2/15\n",
      "69/69 [==============================] - 0s 4ms/step - loss: 0.1922 - accuracy: 0.9368 - val_loss: 0.4619 - val_accuracy: 0.7927\n"
     ]
    }
   ],
   "source": [
    "# Fit the model for 15 epochs\n",
    "epochs_num = 15\n",
    "\n",
    "history_model2 = model.fit(padded, train_labels_final, epochs= epochs_num, \n",
    "                   validation_data=(test_padded, test_labels_final),\n",
    "                         callbacks = EarlyStopping(monitor = 'val_loss')) \n"
   ]
  },
  {
   "cell_type": "markdown",
   "id": "f69106e3",
   "metadata": {},
   "source": [
    "The model now stop at 2, it mean that 2 is our optimal number of tests run. \n",
    "Our model prevents overfitting and stops at 2 epochs with an accuracy of 0.93, and the val_accuracy is 0.79 and a loss of 0.19. Our prediction model is 93% correct in predicting customer emotion based on words in reviews."
   ]
  },
  {
   "cell_type": "code",
   "execution_count": 60,
   "id": "32b83d27",
   "metadata": {},
   "outputs": [
    {
     "data": {
      "image/png": "[encoded data removed]",
      "text/plain": [
       "<Figure size 432x288 with 1 Axes>"
      ]
     },
     "metadata": {
      "needs_background": "light"
     },
     "output_type": "display_data"
    }
   ],
   "source": [
    "#Plot Loss (mean absolute error) and epoch\n",
    "plt.plot(history_model1.history['loss'], label='Loss training')\n",
    "plt.title('Loss value vs Number of epoch')\n",
    "plt.ylabel('Loss value')\n",
    "plt.xlabel('Number of epoch')\n",
    "plt.legend(loc=\"upper left\")\n",
    "plt.show()"
   ]
  },
  {
   "cell_type": "code",
   "execution_count": 61,
   "id": "e5ac9eab",
   "metadata": {},
   "outputs": [
    {
     "data": {
      "image/png": "[encoded data removed]",
      "text/plain": [
       "<Figure size 432x288 with 1 Axes>"
      ]
     },
     "metadata": {
      "needs_background": "light"
     },
     "output_type": "display_data"
    }
   ],
   "source": [
    "#Plot Accuracy and epoch\n",
    "plt.plot(history_model1.history['accuracy'], label='Accuracy')\n",
    "plt.title('Accuracy value vs Number of epoch')\n",
    "plt.ylabel('Accuracy value')\n",
    "plt.xlabel('Number of epoch')\n",
    "plt.legend(loc=\"upper left\")\n",
    "plt.show()"
   ]
  },
  {
   "cell_type": "markdown",
   "id": "ee760634",
   "metadata": {},
   "source": [
    "**D2. Visualizations Training Process**"
   ]
  },
  {
   "cell_type": "code",
   "execution_count": 62,
   "id": "7f2151ba",
   "metadata": {},
   "outputs": [],
   "source": [
    "#Plot Accuracy and epoch\n",
    "#plt.plot(history_model.history['accuracy'], label='Accuracy')\n",
    "#plt.title('Accuracy value vs Number of epoch')\n",
    "#plt.ylabel('Accuracy value')\n",
    "#plt.xlabel('Number of epoch')\n",
    "#plt.legend(loc=\"upper left\")\n",
    "#plt.show()"
   ]
  },
  {
   "cell_type": "code",
   "execution_count": 63,
   "id": "4fcb7a4d",
   "metadata": {},
   "outputs": [
    {
     "data": {
      "text/plain": [
       "<Figure size 432x288 with 0 Axes>"
      ]
     },
     "execution_count": 63,
     "metadata": {},
     "output_type": "execute_result"
    },
    {
     "data": {
      "image/png": "[encoded data removed]",
      "text/plain": [
       "<Figure size 432x288 with 1 Axes>"
      ]
     },
     "metadata": {},
     "output_type": "display_data"
    },
    {
     "data": {
      "image/png": "[encoded data removed]",
      "text/plain": [
       "<Figure size 432x288 with 1 Axes>"
      ]
     },
     "metadata": {},
     "output_type": "display_data"
    },
    {
     "data": {
      "text/plain": [
       "<Figure size 432x288 with 0 Axes>"
      ]
     },
     "metadata": {},
     "output_type": "display_data"
    }
   ],
   "source": [
    "# Visualize model and loss function\n",
    "%matplotlib inline\n",
    "import matplotlib.pyplot as plt\n",
    "import matplotlib.image as mpimg\n",
    "plt.style.use('ggplot')\n",
    "\n",
    "acc = history_model1.history['accuracy']\n",
    "val_acc = history_model1.history['val_accuracy']\n",
    "loss = history_model1.history['loss']\n",
    "val_loss = history_model1.history['val_loss']\n",
    "epochs=range(len(acc))\n",
    "plt.plot(epochs, acc, 'r', 'Accuracy Training')\n",
    "plt.plot(epochs, val_acc, 'b', 'Accuracy Validation')\n",
    "plt.title('Accuracy Training and Validation')\n",
    "plt.figure()\n",
    "plt.plot(epochs, loss, 'r', 'Loss Training')\n",
    "plt.plot(epochs, val_loss, 'b', 'Loss Validation')\n",
    "plt.title('Loss Training and Validation')\n",
    "plt.figure()"
   ]
  },
  {
   "cell_type": "code",
   "execution_count": 64,
   "id": "5eb68240",
   "metadata": {},
   "outputs": [
    {
     "name": "stdout",
     "output_type": "stream",
     "text": [
      "Accuracy: 92.629665\n"
     ]
    }
   ],
   "source": [
    "# Evaluate the model\n",
    "loss, accuracy = model.evaluate(padded, train_labels_final, verbose = 0)\n",
    "print('Accuracy: %f' % (accuracy * 100))"
   ]
  },
  {
   "cell_type": "markdown",
   "id": "b52a37ba",
   "metadata": {},
   "source": [
    "**D3. Fitness of model**\n",
    "\n",
    "Our vocabulary size is 2200, and the sentiment is simple, with 1 and 0 for positive and negative reviews. We used the EarlyStopping to prevent overfitting, increase the accuracy and degrade the loss. The model stop at 2, it mean that 2 is our optimal number of tests run. Our model prevents overfitting and stops at 2 epochs with an accuracy of 0.93, and the val_accuracy is 0.79. Our prediction model is 93% correct in predicting customer emotion based on words in reviews."
   ]
  },
  {
   "cell_type": "markdown",
   "id": "e7733170",
   "metadata": {},
   "source": [
    "**D4. Predictive Accuracy**\n",
    "\n",
    "We got a good model with an accuracy of 93%, the val_accuracy is 79%. Our prediction model is 93% correct in predicting customer emotion based on words in reviews. "
   ]
  },
  {
   "cell_type": "markdown",
   "id": "1552f5ef",
   "metadata": {},
   "source": [
    "# Part V: Summary and Recommendations"
   ]
  },
  {
   "cell_type": "markdown",
   "id": "84d4d1b0",
   "metadata": {},
   "source": [
    "**E. Code used**\n",
    "\n",
    "Please see the code above and a Jupyter notebook pdf attached for all code."
   ]
  },
  {
   "cell_type": "markdown",
   "id": "88aa8e1d",
   "metadata": {},
   "source": [
    "**F. Functionality**\n",
    "\n",
    "In this assignment, we will use the Python TensorFlow package to build the model to predict the sentiment of future customer reviews by the past given labeled datasets. The data analysis goals included analyzing and understanding the customers by identifying the customer's preferred product from positive product reviews. Our reserch question \"Can we use neural networks and specifically Natural Language Processing (NLP) to predict the view of future customer reviews by the past sentiment labeled datasets?\" Yes. Following the preparation and cleaning combined dataset, we build the sequential model with 5 layers. Seting the training and testing with the stop point help us to prevent the overfitting and increase the accuracy, we had the final prediction model with accuracy of 93% in predicting customer emotion. This is the good model outcome and we can use the model to predict positive or negative reivews. \n"
   ]
  },
  {
   "cell_type": "markdown",
   "id": "6fae25be",
   "metadata": {},
   "source": [
    "**G. Action**\n",
    "\n",
    "Based on the result, the model accuracy is high at 93%. This is a good model to predict future customer reviews' sentiment. Based on the vocabulary size in the review, the business can predict the future rate and maybe identify the customer's preferred product from a positive review, then take action based on that."
   ]
  },
  {
   "cell_type": "markdown",
   "id": "d1337133",
   "metadata": {},
   "source": [
    "# Part VI: Reporting"
   ]
  },
  {
   "cell_type": "markdown",
   "id": "61b8c277",
   "metadata": {},
   "source": [
    "**H. Reporting**\n",
    "\n",
    "Include in submission:\n",
    "\n",
    "1. PDF file- Python Jupyter notebook (pdf)\n",
    "2. Python Jupyter notebook presentation slides (slides, html)"
   ]
  },
  {
   "cell_type": "markdown",
   "id": "1a706fcb",
   "metadata": {},
   "source": [
    "**I. Sources for third-party code**\n",
    "\n",
    "[1] MonkeyLearn. (n.d). Sentiment Analysis: A Definitive Guide. https://monkeylearn.com/sentiment-analysis/\n",
    "\n",
    "[2] Gurita Tech. (2021, July 01). Tokenization in Python with NLTK - Python Tutorial. https://www.youtube.com/watch?v=-ugd4UrayPc\n",
    "\n",
    "[3] Chugh Askask. (2018, November 04). Sentiment Analysis using Python. https://data-science-blog.com/en/blog/2018/11/04/sentiment-analysis-using-python/\n",
    "\n",
    "[4] Anis Agmad. (n.d). Getting Started with Sentiment Analysis using Python. https://cnvrg.io/sentiment-analysis-python/\n",
    "\n",
    "[5] KidAperture. (2021, September 21). D213-Advanced-Data-Analytics. https://github.com/KidAperture/D213-Advanced-Data-Analytics/blob/main/D213_task2.ipynb"
   ]
  },
  {
   "cell_type": "markdown",
   "id": "ed6b7f91",
   "metadata": {},
   "source": [
    "**J. Acknowledge source**\n",
    "\n",
    "[6] FreeCodeCamp.org. (2019, September 16). TensorFlow 2.0 Crash Course. https://www.youtube.com/watch?v=6g4O5UOH304\n",
    "\n",
    "[7] FreeCodeCamp.org. (2020, March 03). TensorFlow 2.0 Complete Course - Python Neural Networks for Beginners Tutorial. https://www.youtube.com/watch?v=tPYj3fFJGjk\n",
    "\n",
    "[8] Paul Sayak. (2021, May 17). Python Sentiment Analysis Tutorial. https://www.datacamp.com/community/tutorials/simplifying-sentiment-analysis-python\n",
    "\n",
    "[9] Tal Perry. (2021, February 01). What is Tokenization in Natural Language Processing (NLP)?. https://www.machinelearningplus.com/nlp/what-is-tokenization-in-natural-language-processing/\n",
    "\n",
    "[10] Pius Gadosey. (2019, Augurst 19). A beginner’s guide to NumPy with Sigmoid, ReLu and Softmax activation functions. https://medium.com/ai%C2%B3-theory-practice-business/a-beginners-guide-to-numpy-with-sigmoid-relu-and-softmax-activation-functions-25b840a9a272\n",
    "\n",
    "[11] Brownlee Jason, (2021, January 13). Code Adam Optimization Algorithm From Scratch. https://machinelearningmastery.com/adam-optimization-from-scratch/"
   ]
  }
 ],
 "metadata": {
  "kernelspec": {
   "display_name": "Python 3",
   "language": "python",
   "name": "python3"
  },
  "language_info": {
   "codemirror_mode": {
    "name": "ipython",
    "version": 3
   },
   "file_extension": ".py",
   "mimetype": "text/x-python",
   "name": "python",
   "nbconvert_exporter": "python",
   "pygments_lexer": "ipython3",
   "version": "3.8.8"
  }
 },
 "nbformat": 4,
 "nbformat_minor": 5
}
